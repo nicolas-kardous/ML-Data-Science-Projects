{
 "cells": [
  {
   "cell_type": "code",
   "execution_count": 1,
   "metadata": {
    "deletable": false,
    "editable": false
   },
   "outputs": [
    {
     "name": "stdout",
     "output_type": "stream",
     "text": [
      "=====================================================================\n",
      "Assignment: proj1\n",
      "OK, version v1.13.11\n",
      "=====================================================================\n",
      "\n"
     ]
    }
   ],
   "source": [
    "# Initialize OK\n",
    "from client.api.notebook import Notebook\n",
    "ok = Notebook('proj1.ok')"
   ]
  },
  {
   "cell_type": "markdown",
   "metadata": {
    "nbgrader": {
     "grade": false,
     "grade_id": "intro-hw2",
     "locked": true,
     "schema_version": 2,
     "solution": false
    }
   },
   "source": [
    "# Project 1: Food Safety \n",
    "## Cleaning and Exploring Data with Pandas\n",
    "## Due Date: Tuesday 09/24, 11:59 PM\n",
    "## Collaboration Policy\n",
    "\n",
    "Data science is a collaborative activity. While you may talk with others about\n",
    "the project, we ask that you **write your solutions individually**. If you do\n",
    "discuss the assignments with others please **include their names** at the top\n",
    "of your notebook."
   ]
  },
  {
   "cell_type": "markdown",
   "metadata": {},
   "source": [
    "**Collaborators**: *list collaborators here*"
   ]
  },
  {
   "cell_type": "markdown",
   "metadata": {},
   "source": [
    "\n",
    "## This Assignment\n",
    "<img src=\"scoreCard.jpg\" width=400>\n",
    "\n",
    "In this project, you will investigate restaurant food safety scores for restaurants in San Francisco. Above is a sample score card for a restaurant. The scores and violation information have been made available by the San Francisco Department of Public Health. The main goal for this assignment is to understand how restaurants are scored. We will walk through various steps of exploratory data analysis to do this. We will provide comments and insights along the way to give you a sense of how we arrive at each discovery and what next steps it leads to.\n",
    "\n",
    "As we clean and explore these data, you will gain practice with:\n",
    "* Reading simple csv files\n",
    "* Working with data at different levels of granularity\n",
    "* Identifying the type of data collected, missing values, anomalies, etc.\n",
    "* Exploring characteristics and distributions of individual variables\n",
    "\n",
    "## Score Breakdown\n",
    "Question | Points\n",
    "--- | ---\n",
    "1a | 1\n",
    "1b | 0\n",
    "1c | 0\n",
    "1d | 3\n",
    "1e | 1\n",
    "2a | 1\n",
    "2b | 2\n",
    "3a | 2\n",
    "3b | 0\n",
    "3c | 2\n",
    "3d | 1\n",
    "3e | 1\n",
    "3f | 1\n",
    "4a | 2\n",
    "4b | 3\n",
    "5a | 1\n",
    "5b | 1\n",
    "5c | 1\n",
    "6a | 2\n",
    "6b | 3\n",
    "6c | 3\n",
    "7a | 2\n",
    "7b | 2\n",
    "7c | 6\n",
    "7d | 2\n",
    "7e | 3\n",
    "Total | 46"
   ]
  },
  {
   "cell_type": "markdown",
   "metadata": {
    "nbgrader": {
     "grade": false,
     "grade_id": "getting-started",
     "locked": true,
     "schema_version": 2,
     "solution": false
    }
   },
   "source": [
    "To start the assignment, run the cell below to set up some imports and the automatic tests that we will need for this assignment:\n",
    "\n",
    "In many of these assignments (and your future adventures as a data scientist) you will use `os`, `zipfile`, `pandas`, `numpy`, `matplotlib.pyplot`, and optionally `seaborn`.  \n",
    "\n",
    "1. Import each of these libraries as their commonly used abbreviations (e.g., `pd`, `np`, `plt`, and `sns`).  \n",
    "1. Don't forget to include `%matplotlib inline` which enables [inline matploblib plots](http://ipython.readthedocs.io/en/stable/interactive/magics.html#magic-matplotlib). \n",
    "1. If you want to use `seaborn`, add the line `sns.set()` to make your plots look nicer."
   ]
  },
  {
   "cell_type": "code",
   "execution_count": 2,
   "metadata": {
    "nbgrader": {
     "grade": false,
     "grade_id": "import",
     "locked": true,
     "schema_version": 2,
     "solution": false
    }
   },
   "outputs": [],
   "source": [
    "import os\n",
    "import zipfile\n",
    "import pandas as pd\n",
    "import numpy as np\n",
    "import matplotlib.pyplot as plt\n",
    "import seaborn as sns\n",
    "\n",
    "%matplotlib inline\n",
    "sns.set()"
   ]
  },
  {
   "cell_type": "code",
   "execution_count": 3,
   "metadata": {
    "ExecuteTime": {
     "end_time": "2018-08-18T01:21:52.935736Z",
     "start_time": "2018-08-18T01:21:52.932610Z"
    },
    "nbgrader": {
     "grade": false,
     "grade_id": "import-test",
     "locked": true,
     "schema_version": 2,
     "solution": false
    }
   },
   "outputs": [],
   "source": [
    "import sys\n",
    "\n",
    "assert 'zipfile'in sys.modules\n",
    "assert 'pandas'in sys.modules and pd\n",
    "assert 'numpy'in sys.modules and np\n",
    "assert 'matplotlib'in sys.modules and plt"
   ]
  },
  {
   "cell_type": "markdown",
   "metadata": {
    "nbgrader": {
     "grade": false,
     "grade_id": "download",
     "locked": true,
     "schema_version": 2,
     "solution": false
    }
   },
   "source": [
    "## Downloading the Data\n",
    "\n",
    "For this assignment, we need this data file: http://www.ds100.org/fa19/assets/datasets/proj1-SFBusinesses.zip\n",
    "\n",
    "We could write a few lines of code that are built to download this specific data file, but it's a better idea to have a general function that we can reuse for all of our assignments. Since this class isn't really about the nuances of the Python file system libraries, we've provided a function for you in ds100_utils.py called `fetch_and_cache` that can download files from the internet.\n",
    "\n",
    "This function has the following arguments:\n",
    "- `data_url`: the web address to download\n",
    "- `file`: the file in which to save the results\n",
    "- `data_dir`: (`default=\"data\"`) the location to save the data\n",
    "- `force`: if true the file is always re-downloaded \n",
    "\n",
    "The way this function works is that it checks to see if `data_dir/file` already exists. If it does not exist already or if `force=True`, the file at `data_url` is downloaded and placed at `data_dir/file`. The process of storing a data file for reuse later is called caching. If `data_dir/file` already and exists `force=False`, nothing is downloaded, and instead a message is printed letting you know the date of the cached file.\n",
    "\n",
    "The function returns a `pathlib.Path` object representing the location of the file ([pathlib docs](https://docs.python.org/3/library/pathlib.html#basic-use)). "
   ]
  },
  {
   "cell_type": "code",
   "execution_count": 4,
   "metadata": {
    "ExecuteTime": {
     "end_time": "2018-08-18T01:21:53.150497Z",
     "start_time": "2018-08-18T01:21:53.141869Z"
    },
    "nbgrader": {
     "grade": false,
     "grade_id": "fetch-and-cache",
     "locked": true,
     "schema_version": 2,
     "solution": false
    }
   },
   "outputs": [
    {
     "name": "stdout",
     "output_type": "stream",
     "text": [
      "Using cached version that was downloaded (UTC): Thu Nov 28 01:19:37 2019\n"
     ]
    }
   ],
   "source": [
    "import ds100_utils\n",
    "source_data_url = 'http://www.ds100.org/fa19/assets/datasets/proj1-SFBusinesses.zip'\n",
    "target_file_name = 'data.zip'\n",
    "\n",
    "# Change the force=False -> force=True in case you need to force redownload the data\n",
    "dest_path = ds100_utils.fetch_and_cache(\n",
    "    data_url=source_data_url, \n",
    "    data_dir='.', \n",
    "    file=target_file_name, \n",
    "    force=False)"
   ]
  },
  {
   "cell_type": "markdown",
   "metadata": {
    "nbgrader": {
     "grade": false,
     "grade_id": "data-here",
     "locked": true,
     "schema_version": 2,
     "solution": false
    }
   },
   "source": [
    "After running the cell above, if you list the contents of the directory containing this notebook, you should see `data.zip`.\n",
    "\n",
    "*Note*: The command below starts with an `!`. This tells our Jupyter notebook to pass this command to the operating system. In this case, the command is the `ls` Unix command which lists files in the current directory."
   ]
  },
  {
   "cell_type": "code",
   "execution_count": 5,
   "metadata": {},
   "outputs": [
    {
     "name": "stdout",
     "output_type": "stream",
     "text": [
      "data\t  ds100_utils.py  proj1.ok\t   __pycache__\tq7c2.png  scoreCard.jpg\r\n",
      "data.zip  proj1.ipynb\t  proj1-sol.ipynb  q6a.png\tq7d.png   tests\r\n"
     ]
    }
   ],
   "source": [
    "!ls"
   ]
  },
  {
   "cell_type": "markdown",
   "metadata": {},
   "source": [
    "---\n",
    "## 0. Before You Start\n",
    "\n",
    "For all the assignments with programming practices, please write down your answer in the answer cell(s) right below the question. \n",
    "\n",
    "We understand that it is helpful to have extra cells breaking down the process towards reaching your final answer. If you happen to create new cells below your answer to run codes, **NEVER** add cells between a question cell and the answer cell below it. It will cause errors in running Autograder, and sometimes fail to generate the PDF file.\n",
    "\n",
    "**Important note: The local autograder tests will not be comprehensive. You can pass the automated tests in your notebook but still fail tests in the autograder.** Please be sure to check your results carefully."
   ]
  },
  {
   "cell_type": "markdown",
   "metadata": {
    "nbgrader": {
     "grade": false,
     "grade_id": "loading-description",
     "locked": true,
     "schema_version": 2,
     "solution": false
    }
   },
   "source": [
    "## 1: Loading Food Safety Data\n",
    "\n",
    "We have data, but we don't have any specific questions about the data yet. Let's focus on understanding the structure of the data; this involves answering questions such as:\n",
    "\n",
    "* Is the data in a standard format or encoding?\n",
    "* Is the data organized in records?\n",
    "* What are the fields in each record?\n",
    "\n",
    "Let's start by looking at the contents of `data.zip`. It's not a just single file but rather a compressed directory of multiple files. We could inspect it by uncompressing it using a shell command such as `!unzip data.zip`, but in this project we're going to do almost everything in Python for maximum portability."
   ]
  },
  {
   "cell_type": "markdown",
   "metadata": {
    "deletable": false,
    "editable": false,
    "nbgrader": {
     "grade": false,
     "grade_id": "q1a",
     "locked": true,
     "schema_version": 2,
     "solution": false
    }
   },
   "source": [
    "### Question 1a: Looking Inside and Extracting the Zip Files\n",
    "\n",
    "Assign `my_zip` to a `zipfile.Zipfile` object representing `data.zip`, and assign `list_files` to a list of all the names of the files in `data.zip`.\n",
    "\n",
    "*Hint*: The [Python docs](https://docs.python.org/3/library/zipfile.html) describe how to create a `zipfile.ZipFile` object. You might also look back at the code from lecture and lab 4's optional hacking challenge. It's OK to copy and paste code from previous assignments and demos, though you might get more out of this exercise if you type out an answer.\n",
    "\n",
    "<!--\n",
    "BEGIN QUESTION\n",
    "name: q1a\n",
    "points: 1\n",
    "-->"
   ]
  },
  {
   "cell_type": "code",
   "execution_count": 6,
   "metadata": {
    "ExecuteTime": {
     "end_time": "2018-08-18T01:21:53.165555Z",
     "start_time": "2018-08-18T01:21:53.153523Z"
    },
    "nbgrader": {
     "grade": false,
     "grade_id": "loading-answer",
     "locked": false,
     "schema_version": 2,
     "solution": true
    }
   },
   "outputs": [
    {
     "data": {
      "text/plain": [
       "['violations.csv', 'businesses.csv', 'inspections.csv', 'legend.csv']"
      ]
     },
     "execution_count": 6,
     "metadata": {},
     "output_type": "execute_result"
    }
   ],
   "source": [
    "my_zip = zipfile.ZipFile(dest_path)\n",
    "list_files = my_zip.namelist()\n",
    "list_files"
   ]
  },
  {
   "cell_type": "code",
   "execution_count": 7,
   "metadata": {
    "deletable": false,
    "editable": false
   },
   "outputs": [
    {
     "name": "stdout",
     "output_type": "stream",
     "text": [
      "~~~~~~~~~~~~~~~~~~~~~~~~~~~~~~~~~~~~~~~~~~~~~~~~~~~~~~~~~~~~~~~~~~~~~\n",
      "Running tests\n",
      "\n",
      "---------------------------------------------------------------------\n",
      "Test summary\n",
      "    Passed: 3\n",
      "    Failed: 0\n",
      "[ooooooooook] 100.0% passed\n",
      "\n"
     ]
    }
   ],
   "source": [
    "ok.grade(\"q1a\");"
   ]
  },
  {
   "cell_type": "markdown",
   "metadata": {
    "nbgrader": {
     "grade": false,
     "grade_id": "you-are-warned",
     "locked": true,
     "schema_version": 2,
     "solution": false
    }
   },
   "source": [
    "In your answer above, if you have written something like `zipfile.ZipFile('data.zip', ...)`, we suggest changing it to read `zipfile.ZipFile(dest_path, ...)`. In general, we **strongly suggest having your filenames hard coded as string literals only once** in a notebook. It is very dangerous to hard code things twice because if you change one but forget to change the other, you can end up with bugs that are very hard to find."
   ]
  },
  {
   "cell_type": "markdown",
   "metadata": {
    "nbgrader": {
     "grade": false,
     "grade_id": "loading-size",
     "locked": true,
     "schema_version": 2,
     "solution": false
    }
   },
   "source": [
    "Now display the files' names and their sizes.\n",
    "\n",
    "If you're not sure how to proceed, read about the attributes of a `ZipFile` object in the Python docs linked above."
   ]
  },
  {
   "cell_type": "code",
   "execution_count": 8,
   "metadata": {
    "ExecuteTime": {
     "end_time": "2018-08-18T01:21:53.187732Z",
     "start_time": "2018-08-18T01:21:53.177203Z"
    },
    "nbgrader": {
     "grade": false,
     "grade_id": "loading-size-answer",
     "locked": false,
     "schema_version": 2,
     "solution": true
    }
   },
   "outputs": [
    {
     "name": "stdout",
     "output_type": "stream",
     "text": [
      "violations.csv 3726206\n",
      "businesses.csv 660231\n",
      "inspections.csv 466106\n",
      "legend.csv 120\n"
     ]
    }
   ],
   "source": [
    "for f in my_zip.infolist():\n",
    "    print('{} {}'.format(f.filename, f.file_size))"
   ]
  },
  {
   "cell_type": "markdown",
   "metadata": {
    "nbgrader": {
     "grade": false,
     "grade_id": "keep-running",
     "locked": true,
     "schema_version": 2,
     "solution": false
    }
   },
   "source": [
    "Often when working with zipped data, we'll never unzip the actual zipfile. This saves space on our local computer. However, for this project the files are small, so we're just going to unzip everything. This has the added benefit that you can look inside the csv files using a text editor, which might be handy for understanding the structure of the files. The cell below will unzip the csv files into a subdirectory called `data`. Simply run this cell, i.e. don't modify it."
   ]
  },
  {
   "cell_type": "code",
   "execution_count": 9,
   "metadata": {
    "nbgrader": {
     "grade": false,
     "grade_id": "run-dis",
     "locked": true,
     "schema_version": 2,
     "solution": false
    }
   },
   "outputs": [
    {
     "name": "stdout",
     "output_type": "stream",
     "text": [
      "businesses.csv\tinspections.csv  legend.csv  violations.csv\r\n"
     ]
    }
   ],
   "source": [
    "from pathlib import Path\n",
    "data_dir = Path('data')\n",
    "my_zip.extractall(data_dir)\n",
    "!ls {data_dir}"
   ]
  },
  {
   "cell_type": "markdown",
   "metadata": {
    "nbgrader": {
     "grade": false,
     "grade_id": "open-legend",
     "locked": true,
     "schema_version": 2,
     "solution": false
    }
   },
   "source": [
    "The cell above created a folder called `data`, and in it there should be four CSV files. Let's open up `legend.csv` to see its contents. To do this, click on 'Jupyter' in the top left, then navigate to fa19/proj/proj1/data/ and click on `legend.csv`. The file will open up in another tab. You should see something that looks like:\n",
    "\n",
    "    \"Minimum_Score\",\"Maximum_Score\",\"Description\"\n",
    "    0,70,\"Poor\"\n",
    "    71,85,\"Needs Improvement\"\n",
    "    86,90,\"Adequate\"\n",
    "    91,100,\"Good\""
   ]
  },
  {
   "cell_type": "markdown",
   "metadata": {
    "nbgrader": {
     "grade": false,
     "grade_id": "look-inside",
     "locked": true,
     "schema_version": 2,
     "solution": false
    }
   },
   "source": [
    "### Question 1b: Programatically Looking Inside the Files"
   ]
  },
  {
   "cell_type": "markdown",
   "metadata": {
    "nbgrader": {
     "grade": false,
     "grade_id": "q1b",
     "locked": true,
     "schema_version": 2,
     "solution": false
    }
   },
   "source": [
    "The `legend.csv` file does indeed look like a well-formed CSV file. Let's check the other three files. Rather than opening up each file manually, let's use Python to print out the first 5 lines of each. The `ds100_utils` library has a method called `head` that will allow you to retrieve the first N lines of a file as a list. For example `ds100_utils.head('data/legend.csv', 5)` will return the first 5 lines of \"data/legend.csv\". Try using this function to print out the first 5 lines of all four files that we just extracted from the zipfile."
   ]
  },
  {
   "cell_type": "code",
   "execution_count": 10,
   "metadata": {
    "nbgrader": {
     "grade": false,
     "grade_id": "q1b-answer",
     "locked": false,
     "schema_version": 2,
     "solution": true
    }
   },
   "outputs": [
    {
     "name": "stdout",
     "output_type": "stream",
     "text": [
      "businesses.csv\n",
      "['\"business_id\",\"name\",\"address\",\"city\",\"state\",\"postal_code\",\"latitude\",\"longitude\",\"phone_number\"\\n', '19,\"NRGIZE LIFESTYLE CAFE\",\"1200 VAN NESS AVE, 3RD FLOOR\",\"San Francisco\",\"CA\",\"94109\",\"37.786848\",\"-122.421547\",\"+14157763262\"\\n', '24,\"OMNI S.F. HOTEL - 2ND FLOOR PANTRY\",\"500 CALIFORNIA ST, 2ND  FLOOR\",\"San Francisco\",\"CA\",\"94104\",\"37.792888\",\"-122.403135\",\"+14156779494\"\\n', '31,\"NORMAN\\'S ICE CREAM AND FREEZES\",\"2801 LEAVENWORTH ST \",\"San Francisco\",\"CA\",\"94133\",\"37.807155\",\"-122.419004\",\"\"\\n', '45,\"CHARLIE\\'S DELI CAFE\",\"3202 FOLSOM ST \",\"San Francisco\",\"CA\",\"94110\",\"37.747114\",\"-122.413641\",\"+14156415051\"\\n']\n",
      "inspections.csv\n",
      "['\"business_id\",\"score\",\"date\",\"type\"\\n', '19,\"94\",\"20160513\",\"routine\"\\n', '19,\"94\",\"20171211\",\"routine\"\\n', '24,\"98\",\"20171101\",\"routine\"\\n', '24,\"98\",\"20161005\",\"routine\"\\n']\n",
      "legend.csv\n",
      "['\"Minimum_Score\",\"Maximum_Score\",\"Description\"\\n', '0,70,\"Poor\"\\n', '71,85,\"Needs Improvement\"\\n', '86,90,\"Adequate\"\\n', '91,100,\"Good\"\\n']\n",
      "violations.csv\n",
      "['\"business_id\",\"date\",\"description\"\\n', '19,\"20171211\",\"Inadequate food safety knowledge or lack of certified food safety manager\"\\n', '19,\"20171211\",\"Unapproved or unmaintained equipment or utensils\"\\n', '19,\"20160513\",\"Unapproved or unmaintained equipment or utensils  [ date violation corrected: 12/11/2017 ]\"\\n', '19,\"20160513\",\"Unclean or degraded floors walls or ceilings  [ date violation corrected: 12/11/2017 ]\"\\n']\n"
     ]
    }
   ],
   "source": [
    "for filename in ['businesses.csv', 'inspections.csv', 'legend.csv', 'violations.csv']:\n",
    "    print('{}'.format(filename))\n",
    "    print(ds100_utils.head('data/{}'.format(filename), 5))\n"
   ]
  },
  {
   "cell_type": "markdown",
   "metadata": {
    "nbgrader": {
     "grade": false,
     "grade_id": "q1c",
     "locked": true,
     "schema_version": 2,
     "solution": false
    }
   },
   "source": [
    "### Question 1c: Reading in the Files\n",
    "\n",
    "Based on the above information, let's attempt to load `businesses.csv`, `inspections.csv`, and `violations.csv` into pandas dataframes with the following names: `bus`, `ins`, and `vio` respectively.\n",
    "\n",
    "*Note:* Because of character encoding issues one of the files (`bus`) will require an additional argument `encoding='ISO-8859-1'` when calling `pd.read_csv`. At some point in your future, you should read all about [character encodings](https://www.diveinto.org/python3/strings.html). We won't discuss these in detail in DS100."
   ]
  },
  {
   "cell_type": "code",
   "execution_count": 11,
   "metadata": {
    "ExecuteTime": {
     "end_time": "2018-08-18T01:21:53.438446Z",
     "start_time": "2018-08-18T01:21:53.280442Z"
    },
    "nbgrader": {
     "grade": false,
     "grade_id": "q1c-answer",
     "locked": false,
     "schema_version": 2,
     "solution": true
    },
    "tags": [
     "solution"
    ]
   },
   "outputs": [],
   "source": [
    "# path to directory containing data\n",
    "dsDir = Path('data')\n",
    "\n",
    "ins = pd.read_csv('data/inspections.csv')\n",
    "vio = pd.read_csv('data/violations.csv')\n",
    "bus = pd.read_csv('data/businesses.csv', encoding='ISO-8859-1')"
   ]
  },
  {
   "cell_type": "markdown",
   "metadata": {
    "nbgrader": {
     "grade": false,
     "grade_id": "try-out",
     "locked": true,
     "schema_version": 2,
     "solution": false
    }
   },
   "source": [
    "Now that you've read in the files, let's try some `pd.DataFrame` methods ([docs](https://pandas.pydata.org/pandas-docs/version/0.21/generated/pandas.DataFrame.html)).\n",
    "Use the `DataFrame.head` method to show the top few lines of the `bus`, `ins`, and `vio` dataframes. To show multiple return outputs in one single cell, you can use `display()`. Use `Dataframe.describe` to learn about the numeric columns."
   ]
  },
  {
   "cell_type": "code",
   "execution_count": 12,
   "metadata": {
    "nbgrader": {
     "grade": false,
     "grade_id": "bus-head",
     "locked": false,
     "schema_version": 2,
     "solution": true
    }
   },
   "outputs": [
    {
     "data": {
      "text/html": [
       "<div>\n",
       "<style scoped>\n",
       "    .dataframe tbody tr th:only-of-type {\n",
       "        vertical-align: middle;\n",
       "    }\n",
       "\n",
       "    .dataframe tbody tr th {\n",
       "        vertical-align: top;\n",
       "    }\n",
       "\n",
       "    .dataframe thead th {\n",
       "        text-align: right;\n",
       "    }\n",
       "</style>\n",
       "<table border=\"1\" class=\"dataframe\">\n",
       "  <thead>\n",
       "    <tr style=\"text-align: right;\">\n",
       "      <th></th>\n",
       "      <th>business_id</th>\n",
       "      <th>name</th>\n",
       "      <th>address</th>\n",
       "      <th>city</th>\n",
       "      <th>state</th>\n",
       "      <th>postal_code</th>\n",
       "      <th>latitude</th>\n",
       "      <th>longitude</th>\n",
       "      <th>phone_number</th>\n",
       "    </tr>\n",
       "  </thead>\n",
       "  <tbody>\n",
       "    <tr>\n",
       "      <th>0</th>\n",
       "      <td>19</td>\n",
       "      <td>NRGIZE LIFESTYLE CAFE</td>\n",
       "      <td>1200 VAN NESS AVE, 3RD FLOOR</td>\n",
       "      <td>San Francisco</td>\n",
       "      <td>CA</td>\n",
       "      <td>94109</td>\n",
       "      <td>37.786848</td>\n",
       "      <td>-122.421547</td>\n",
       "      <td>+14157763262</td>\n",
       "    </tr>\n",
       "    <tr>\n",
       "      <th>1</th>\n",
       "      <td>24</td>\n",
       "      <td>OMNI S.F. HOTEL - 2ND FLOOR PANTRY</td>\n",
       "      <td>500 CALIFORNIA ST, 2ND  FLOOR</td>\n",
       "      <td>San Francisco</td>\n",
       "      <td>CA</td>\n",
       "      <td>94104</td>\n",
       "      <td>37.792888</td>\n",
       "      <td>-122.403135</td>\n",
       "      <td>+14156779494</td>\n",
       "    </tr>\n",
       "    <tr>\n",
       "      <th>2</th>\n",
       "      <td>31</td>\n",
       "      <td>NORMAN'S ICE CREAM AND FREEZES</td>\n",
       "      <td>2801 LEAVENWORTH ST</td>\n",
       "      <td>San Francisco</td>\n",
       "      <td>CA</td>\n",
       "      <td>94133</td>\n",
       "      <td>37.807155</td>\n",
       "      <td>-122.419004</td>\n",
       "      <td>NaN</td>\n",
       "    </tr>\n",
       "    <tr>\n",
       "      <th>3</th>\n",
       "      <td>45</td>\n",
       "      <td>CHARLIE'S DELI CAFE</td>\n",
       "      <td>3202 FOLSOM ST</td>\n",
       "      <td>San Francisco</td>\n",
       "      <td>CA</td>\n",
       "      <td>94110</td>\n",
       "      <td>37.747114</td>\n",
       "      <td>-122.413641</td>\n",
       "      <td>+14156415051</td>\n",
       "    </tr>\n",
       "    <tr>\n",
       "      <th>4</th>\n",
       "      <td>48</td>\n",
       "      <td>ART'S CAFE</td>\n",
       "      <td>747 IRVING ST</td>\n",
       "      <td>San Francisco</td>\n",
       "      <td>CA</td>\n",
       "      <td>94122</td>\n",
       "      <td>37.764013</td>\n",
       "      <td>-122.465749</td>\n",
       "      <td>+14156657440</td>\n",
       "    </tr>\n",
       "  </tbody>\n",
       "</table>\n",
       "</div>"
      ],
      "text/plain": [
       "   business_id                                name  \\\n",
       "0           19               NRGIZE LIFESTYLE CAFE   \n",
       "1           24  OMNI S.F. HOTEL - 2ND FLOOR PANTRY   \n",
       "2           31      NORMAN'S ICE CREAM AND FREEZES   \n",
       "3           45                 CHARLIE'S DELI CAFE   \n",
       "4           48                          ART'S CAFE   \n",
       "\n",
       "                         address           city state postal_code   latitude  \\\n",
       "0   1200 VAN NESS AVE, 3RD FLOOR  San Francisco    CA       94109  37.786848   \n",
       "1  500 CALIFORNIA ST, 2ND  FLOOR  San Francisco    CA       94104  37.792888   \n",
       "2           2801 LEAVENWORTH ST   San Francisco    CA       94133  37.807155   \n",
       "3                3202 FOLSOM ST   San Francisco    CA       94110  37.747114   \n",
       "4                 747 IRVING ST   San Francisco    CA       94122  37.764013   \n",
       "\n",
       "    longitude  phone_number  \n",
       "0 -122.421547  +14157763262  \n",
       "1 -122.403135  +14156779494  \n",
       "2 -122.419004           NaN  \n",
       "3 -122.413641  +14156415051  \n",
       "4 -122.465749  +14156657440  "
      ]
     },
     "metadata": {},
     "output_type": "display_data"
    },
    {
     "data": {
      "text/html": [
       "<div>\n",
       "<style scoped>\n",
       "    .dataframe tbody tr th:only-of-type {\n",
       "        vertical-align: middle;\n",
       "    }\n",
       "\n",
       "    .dataframe tbody tr th {\n",
       "        vertical-align: top;\n",
       "    }\n",
       "\n",
       "    .dataframe thead th {\n",
       "        text-align: right;\n",
       "    }\n",
       "</style>\n",
       "<table border=\"1\" class=\"dataframe\">\n",
       "  <thead>\n",
       "    <tr style=\"text-align: right;\">\n",
       "      <th></th>\n",
       "      <th>business_id</th>\n",
       "      <th>score</th>\n",
       "      <th>date</th>\n",
       "      <th>type</th>\n",
       "    </tr>\n",
       "  </thead>\n",
       "  <tbody>\n",
       "    <tr>\n",
       "      <th>0</th>\n",
       "      <td>19</td>\n",
       "      <td>94</td>\n",
       "      <td>20160513</td>\n",
       "      <td>routine</td>\n",
       "    </tr>\n",
       "    <tr>\n",
       "      <th>1</th>\n",
       "      <td>19</td>\n",
       "      <td>94</td>\n",
       "      <td>20171211</td>\n",
       "      <td>routine</td>\n",
       "    </tr>\n",
       "    <tr>\n",
       "      <th>2</th>\n",
       "      <td>24</td>\n",
       "      <td>98</td>\n",
       "      <td>20171101</td>\n",
       "      <td>routine</td>\n",
       "    </tr>\n",
       "    <tr>\n",
       "      <th>3</th>\n",
       "      <td>24</td>\n",
       "      <td>98</td>\n",
       "      <td>20161005</td>\n",
       "      <td>routine</td>\n",
       "    </tr>\n",
       "    <tr>\n",
       "      <th>4</th>\n",
       "      <td>24</td>\n",
       "      <td>96</td>\n",
       "      <td>20160311</td>\n",
       "      <td>routine</td>\n",
       "    </tr>\n",
       "  </tbody>\n",
       "</table>\n",
       "</div>"
      ],
      "text/plain": [
       "   business_id  score      date     type\n",
       "0           19     94  20160513  routine\n",
       "1           19     94  20171211  routine\n",
       "2           24     98  20171101  routine\n",
       "3           24     98  20161005  routine\n",
       "4           24     96  20160311  routine"
      ]
     },
     "metadata": {},
     "output_type": "display_data"
    },
    {
     "data": {
      "text/html": [
       "<div>\n",
       "<style scoped>\n",
       "    .dataframe tbody tr th:only-of-type {\n",
       "        vertical-align: middle;\n",
       "    }\n",
       "\n",
       "    .dataframe tbody tr th {\n",
       "        vertical-align: top;\n",
       "    }\n",
       "\n",
       "    .dataframe thead th {\n",
       "        text-align: right;\n",
       "    }\n",
       "</style>\n",
       "<table border=\"1\" class=\"dataframe\">\n",
       "  <thead>\n",
       "    <tr style=\"text-align: right;\">\n",
       "      <th></th>\n",
       "      <th>business_id</th>\n",
       "      <th>date</th>\n",
       "      <th>description</th>\n",
       "    </tr>\n",
       "  </thead>\n",
       "  <tbody>\n",
       "    <tr>\n",
       "      <th>0</th>\n",
       "      <td>19</td>\n",
       "      <td>20171211</td>\n",
       "      <td>Inadequate food safety knowledge or lack of ce...</td>\n",
       "    </tr>\n",
       "    <tr>\n",
       "      <th>1</th>\n",
       "      <td>19</td>\n",
       "      <td>20171211</td>\n",
       "      <td>Unapproved or unmaintained equipment or utensils</td>\n",
       "    </tr>\n",
       "    <tr>\n",
       "      <th>2</th>\n",
       "      <td>19</td>\n",
       "      <td>20160513</td>\n",
       "      <td>Unapproved or unmaintained equipment or utensi...</td>\n",
       "    </tr>\n",
       "    <tr>\n",
       "      <th>3</th>\n",
       "      <td>19</td>\n",
       "      <td>20160513</td>\n",
       "      <td>Unclean or degraded floors walls or ceilings  ...</td>\n",
       "    </tr>\n",
       "    <tr>\n",
       "      <th>4</th>\n",
       "      <td>19</td>\n",
       "      <td>20160513</td>\n",
       "      <td>Food safety certificate or food handler card n...</td>\n",
       "    </tr>\n",
       "  </tbody>\n",
       "</table>\n",
       "</div>"
      ],
      "text/plain": [
       "   business_id      date                                        description\n",
       "0           19  20171211  Inadequate food safety knowledge or lack of ce...\n",
       "1           19  20171211   Unapproved or unmaintained equipment or utensils\n",
       "2           19  20160513  Unapproved or unmaintained equipment or utensi...\n",
       "3           19  20160513  Unclean or degraded floors walls or ceilings  ...\n",
       "4           19  20160513  Food safety certificate or food handler card n..."
      ]
     },
     "metadata": {},
     "output_type": "display_data"
    },
    {
     "data": {
      "text/plain": [
       "(None, None, None)"
      ]
     },
     "execution_count": 12,
     "metadata": {},
     "output_type": "execute_result"
    }
   ],
   "source": [
    "display(bus.head()), display(ins.head()), display(vio.head())"
   ]
  },
  {
   "cell_type": "markdown",
   "metadata": {
    "nbgrader": {
     "grade": false,
     "grade_id": "df-describe",
     "locked": true,
     "schema_version": 2,
     "solution": false
    }
   },
   "source": [
    "The `DataFrame.describe` method can also be handy for computing summaries of various statistics of our dataframes. Try it out with each of our 3 dataframes."
   ]
  },
  {
   "cell_type": "code",
   "execution_count": 13,
   "metadata": {
    "nbgrader": {
     "grade": false,
     "grade_id": "bus-describe",
     "locked": false,
     "schema_version": 2,
     "solution": true
    }
   },
   "outputs": [
    {
     "data": {
      "text/html": [
       "<div>\n",
       "<style scoped>\n",
       "    .dataframe tbody tr th:only-of-type {\n",
       "        vertical-align: middle;\n",
       "    }\n",
       "\n",
       "    .dataframe tbody tr th {\n",
       "        vertical-align: top;\n",
       "    }\n",
       "\n",
       "    .dataframe thead th {\n",
       "        text-align: right;\n",
       "    }\n",
       "</style>\n",
       "<table border=\"1\" class=\"dataframe\">\n",
       "  <thead>\n",
       "    <tr style=\"text-align: right;\">\n",
       "      <th></th>\n",
       "      <th>business_id</th>\n",
       "      <th>score</th>\n",
       "      <th>date</th>\n",
       "    </tr>\n",
       "  </thead>\n",
       "  <tbody>\n",
       "    <tr>\n",
       "      <th>count</th>\n",
       "      <td>14222.000000</td>\n",
       "      <td>14222.000000</td>\n",
       "      <td>1.422200e+04</td>\n",
       "    </tr>\n",
       "    <tr>\n",
       "      <th>mean</th>\n",
       "      <td>45138.752637</td>\n",
       "      <td>90.697370</td>\n",
       "      <td>2.016242e+07</td>\n",
       "    </tr>\n",
       "    <tr>\n",
       "      <th>std</th>\n",
       "      <td>34497.913056</td>\n",
       "      <td>8.088705</td>\n",
       "      <td>8.082778e+03</td>\n",
       "    </tr>\n",
       "    <tr>\n",
       "      <th>min</th>\n",
       "      <td>19.000000</td>\n",
       "      <td>48.000000</td>\n",
       "      <td>2.015013e+07</td>\n",
       "    </tr>\n",
       "    <tr>\n",
       "      <th>25%</th>\n",
       "      <td>5634.000000</td>\n",
       "      <td>86.000000</td>\n",
       "      <td>2.016021e+07</td>\n",
       "    </tr>\n",
       "    <tr>\n",
       "      <th>50%</th>\n",
       "      <td>61462.000000</td>\n",
       "      <td>92.000000</td>\n",
       "      <td>2.016091e+07</td>\n",
       "    </tr>\n",
       "    <tr>\n",
       "      <th>75%</th>\n",
       "      <td>78074.000000</td>\n",
       "      <td>96.000000</td>\n",
       "      <td>2.017061e+07</td>\n",
       "    </tr>\n",
       "    <tr>\n",
       "      <th>max</th>\n",
       "      <td>94231.000000</td>\n",
       "      <td>100.000000</td>\n",
       "      <td>2.018012e+07</td>\n",
       "    </tr>\n",
       "  </tbody>\n",
       "</table>\n",
       "</div>"
      ],
      "text/plain": [
       "        business_id         score          date\n",
       "count  14222.000000  14222.000000  1.422200e+04\n",
       "mean   45138.752637     90.697370  2.016242e+07\n",
       "std    34497.913056      8.088705  8.082778e+03\n",
       "min       19.000000     48.000000  2.015013e+07\n",
       "25%     5634.000000     86.000000  2.016021e+07\n",
       "50%    61462.000000     92.000000  2.016091e+07\n",
       "75%    78074.000000     96.000000  2.017061e+07\n",
       "max    94231.000000    100.000000  2.018012e+07"
      ]
     },
     "execution_count": 13,
     "metadata": {},
     "output_type": "execute_result"
    }
   ],
   "source": [
    "bus.describe()\n",
    "vio.describe()\n",
    "ins.describe()"
   ]
  },
  {
   "cell_type": "markdown",
   "metadata": {
    "nbgrader": {
     "grade": false,
     "grade_id": "run-these",
     "locked": true,
     "schema_version": 2,
     "solution": false
    }
   },
   "source": [
    "Now, we perform some sanity checks for you to verify that you loaded the data with the right structure. Run the following cells to load some basic utilities (you do not need to change these at all):"
   ]
  },
  {
   "cell_type": "markdown",
   "metadata": {
    "nbgrader": {
     "grade": false,
     "grade_id": "cell-70c105800589cd29",
     "locked": true,
     "schema_version": 2,
     "solution": false
    }
   },
   "source": [
    "First, we check the basic structure of the data frames you created:"
   ]
  },
  {
   "cell_type": "code",
   "execution_count": 14,
   "metadata": {
    "ExecuteTime": {
     "end_time": "2018-08-18T01:21:53.479700Z",
     "start_time": "2018-08-18T01:21:53.468578Z"
    },
    "nbgrader": {
     "grade": true,
     "grade_id": "q1d-test0",
     "locked": true,
     "points": 1,
     "schema_version": 2,
     "solution": false
    }
   },
   "outputs": [],
   "source": [
    "assert all(bus.columns == ['business_id', 'name', 'address', 'city', 'state', 'postal_code',\n",
    "                           'latitude', 'longitude', 'phone_number'])\n",
    "assert 6400 <= len(bus) <= 6420\n",
    "\n",
    "assert all(ins.columns == ['business_id', 'score', 'date', 'type'])\n",
    "assert 14210 <= len(ins) <= 14250\n",
    "\n",
    "assert all(vio.columns == ['business_id', 'date', 'description'])\n",
    "assert 39020 <= len(vio) <= 39080"
   ]
  },
  {
   "cell_type": "markdown",
   "metadata": {
    "nbgrader": {
     "grade": false,
     "grade_id": "summs",
     "locked": true,
     "schema_version": 2,
     "solution": false
    }
   },
   "source": [
    "Next we'll check that the statistics match what we expect. The following are hard-coded statistical summaries of the correct data."
   ]
  },
  {
   "cell_type": "code",
   "execution_count": 15,
   "metadata": {
    "ExecuteTime": {
     "end_time": "2018-08-18T01:21:53.518953Z",
     "start_time": "2018-08-18T01:21:53.482277Z"
    },
    "nbgrader": {
     "grade": false,
     "grade_id": "cell-dfsumms",
     "locked": true,
     "schema_version": 2,
     "solution": false
    }
   },
   "outputs": [
    {
     "name": "stdout",
     "output_type": "stream",
     "text": [
      "What we expect from your Businesses dataframe:\n"
     ]
    },
    {
     "data": {
      "text/html": [
       "<div>\n",
       "<style scoped>\n",
       "    .dataframe tbody tr th:only-of-type {\n",
       "        vertical-align: middle;\n",
       "    }\n",
       "\n",
       "    .dataframe tbody tr th {\n",
       "        vertical-align: top;\n",
       "    }\n",
       "\n",
       "    .dataframe thead th {\n",
       "        text-align: right;\n",
       "    }\n",
       "</style>\n",
       "<table border=\"1\" class=\"dataframe\">\n",
       "  <thead>\n",
       "    <tr style=\"text-align: right;\">\n",
       "      <th></th>\n",
       "      <th>business_id</th>\n",
       "      <th>latitude</th>\n",
       "      <th>longitude</th>\n",
       "    </tr>\n",
       "  </thead>\n",
       "  <tbody>\n",
       "    <tr>\n",
       "      <th>min</th>\n",
       "      <td>19.0</td>\n",
       "      <td>37.668824</td>\n",
       "      <td>-122.510896</td>\n",
       "    </tr>\n",
       "    <tr>\n",
       "      <th>50%</th>\n",
       "      <td>68294.5</td>\n",
       "      <td>37.780435</td>\n",
       "      <td>-122.418855</td>\n",
       "    </tr>\n",
       "    <tr>\n",
       "      <th>max</th>\n",
       "      <td>94574.0</td>\n",
       "      <td>37.824494</td>\n",
       "      <td>-122.368257</td>\n",
       "    </tr>\n",
       "  </tbody>\n",
       "</table>\n",
       "</div>"
      ],
      "text/plain": [
       "     business_id   latitude   longitude\n",
       "min         19.0  37.668824 -122.510896\n",
       "50%      68294.5  37.780435 -122.418855\n",
       "max      94574.0  37.824494 -122.368257"
      ]
     },
     "metadata": {},
     "output_type": "display_data"
    },
    {
     "name": "stdout",
     "output_type": "stream",
     "text": [
      "What we expect from your Inspections dataframe:\n"
     ]
    },
    {
     "data": {
      "text/html": [
       "<div>\n",
       "<style scoped>\n",
       "    .dataframe tbody tr th:only-of-type {\n",
       "        vertical-align: middle;\n",
       "    }\n",
       "\n",
       "    .dataframe tbody tr th {\n",
       "        vertical-align: top;\n",
       "    }\n",
       "\n",
       "    .dataframe thead th {\n",
       "        text-align: right;\n",
       "    }\n",
       "</style>\n",
       "<table border=\"1\" class=\"dataframe\">\n",
       "  <thead>\n",
       "    <tr style=\"text-align: right;\">\n",
       "      <th></th>\n",
       "      <th>business_id</th>\n",
       "      <th>score</th>\n",
       "    </tr>\n",
       "  </thead>\n",
       "  <tbody>\n",
       "    <tr>\n",
       "      <th>min</th>\n",
       "      <td>19.0</td>\n",
       "      <td>48.0</td>\n",
       "    </tr>\n",
       "    <tr>\n",
       "      <th>50%</th>\n",
       "      <td>61462.0</td>\n",
       "      <td>92.0</td>\n",
       "    </tr>\n",
       "    <tr>\n",
       "      <th>max</th>\n",
       "      <td>94231.0</td>\n",
       "      <td>100.0</td>\n",
       "    </tr>\n",
       "  </tbody>\n",
       "</table>\n",
       "</div>"
      ],
      "text/plain": [
       "     business_id  score\n",
       "min         19.0   48.0\n",
       "50%      61462.0   92.0\n",
       "max      94231.0  100.0"
      ]
     },
     "metadata": {},
     "output_type": "display_data"
    },
    {
     "name": "stdout",
     "output_type": "stream",
     "text": [
      "What we expect from your Violations dataframe:\n"
     ]
    },
    {
     "data": {
      "text/html": [
       "<div>\n",
       "<style scoped>\n",
       "    .dataframe tbody tr th:only-of-type {\n",
       "        vertical-align: middle;\n",
       "    }\n",
       "\n",
       "    .dataframe tbody tr th {\n",
       "        vertical-align: top;\n",
       "    }\n",
       "\n",
       "    .dataframe thead th {\n",
       "        text-align: right;\n",
       "    }\n",
       "</style>\n",
       "<table border=\"1\" class=\"dataframe\">\n",
       "  <thead>\n",
       "    <tr style=\"text-align: right;\">\n",
       "      <th></th>\n",
       "      <th>business_id</th>\n",
       "    </tr>\n",
       "  </thead>\n",
       "  <tbody>\n",
       "    <tr>\n",
       "      <th>min</th>\n",
       "      <td>19.0</td>\n",
       "    </tr>\n",
       "    <tr>\n",
       "      <th>50%</th>\n",
       "      <td>62060.0</td>\n",
       "    </tr>\n",
       "    <tr>\n",
       "      <th>max</th>\n",
       "      <td>94231.0</td>\n",
       "    </tr>\n",
       "  </tbody>\n",
       "</table>\n",
       "</div>"
      ],
      "text/plain": [
       "     business_id\n",
       "min         19.0\n",
       "50%      62060.0\n",
       "max      94231.0"
      ]
     },
     "metadata": {},
     "output_type": "display_data"
    }
   ],
   "source": [
    "bus_summary = pd.DataFrame(**{'columns': ['business_id', 'latitude', 'longitude'],\n",
    " 'data': {'business_id': {'50%': 68294.5, 'max': 94574.0, 'min': 19.0},\n",
    "  'latitude': {'50%': 37.780435, 'max': 37.824494, 'min': 37.668824},\n",
    "  'longitude': {'50%': -122.41885450000001,\n",
    "   'max': -122.368257,\n",
    "   'min': -122.510896}},\n",
    " 'index': ['min', '50%', 'max']})\n",
    "\n",
    "ins_summary = pd.DataFrame(**{'columns': ['business_id', 'score'],\n",
    " 'data': {'business_id': {'50%': 61462.0, 'max': 94231.0, 'min': 19.0},\n",
    "  'score': {'50%': 92.0, 'max': 100.0, 'min': 48.0}},\n",
    " 'index': ['min', '50%', 'max']})\n",
    "\n",
    "vio_summary = pd.DataFrame(**{'columns': ['business_id'],\n",
    " 'data': {'business_id': {'50%': 62060.0, 'max': 94231.0, 'min': 19.0}},\n",
    " 'index': ['min', '50%', 'max']})\n",
    "\n",
    "from IPython.display import display\n",
    "\n",
    "print('What we expect from your Businesses dataframe:')\n",
    "display(bus_summary)\n",
    "print('What we expect from your Inspections dataframe:')\n",
    "display(ins_summary)\n",
    "print('What we expect from your Violations dataframe:')\n",
    "display(vio_summary)"
   ]
  },
  {
   "cell_type": "markdown",
   "metadata": {
    "nbgrader": {
     "grade": false,
     "grade_id": "all-close",
     "locked": true,
     "schema_version": 2,
     "solution": false
    }
   },
   "source": [
    "The code below defines a testing function that we'll use to verify that your data has the same statistics as what we expect. Run these cells to define the function. The `df_allclose` function has this name because we are verifying that all of the statistics for your dataframe are close to the expected values. Why not `df_allequal`? It's a bad idea in almost all cases to compare two floating point values like 37.780435, as rounding error can cause spurious failures."
   ]
  },
  {
   "cell_type": "markdown",
   "metadata": {
    "deletable": false,
    "editable": false,
    "nbgrader": {
     "grade": false,
     "grade_id": "cell-704124b2513d9286",
     "locked": true,
     "schema_version": 2,
     "solution": false
    }
   },
   "source": [
    "## Question 1d: Verifying the data\n",
    "\n",
    "Now let's run the automated tests. If your dataframes are correct, then the following cell will seem to do nothing, which is a good thing! However, if your variables don't match the correct answers in the main summary statistics shown above, an exception will be raised.\n",
    "\n",
    "<!--\n",
    "BEGIN QUESTION\n",
    "name: q1d\n",
    "points: 3\n",
    "-->"
   ]
  },
  {
   "cell_type": "code",
   "execution_count": 16,
   "metadata": {
    "ExecuteTime": {
     "end_time": "2018-08-18T01:21:53.464919Z",
     "start_time": "2018-08-18T01:21:53.452814Z"
    },
    "nbgrader": {
     "grade": false,
     "grade_id": "cell-dfcompare",
     "locked": true,
     "schema_version": 2,
     "solution": false
    }
   },
   "outputs": [],
   "source": [
    "\"\"\"Run this cell to load this utility comparison function that we will use in various\n",
    "tests below (both tests you can see and those we run internally for grading).\n",
    "\n",
    "Do not modify the function in any way.\n",
    "\"\"\"\n",
    "\n",
    "\n",
    "def df_allclose(actual, desired, columns=None, rtol=5e-2):\n",
    "    \"\"\"Compare selected columns of two dataframes on a few summary statistics.\n",
    "    \n",
    "    Compute the min, median and max of the two dataframes on the given columns, and compare\n",
    "    that they match numerically to the given relative tolerance.\n",
    "    \n",
    "    If they don't match, an AssertionError is raised (by `numpy.testing`).\n",
    "    \"\"\"    \n",
    "    # summary statistics to compare on\n",
    "    stats = ['min', '50%', 'max']\n",
    "    \n",
    "    # For the desired values, we can provide a full DF with the same structure as\n",
    "    # the actual data, or pre-computed summary statistics.\n",
    "    # We assume a pre-computed summary was provided if columns is None. In that case, \n",
    "    # `desired` *must* have the same structure as the actual's summary\n",
    "    if columns is None:\n",
    "        des = desired\n",
    "        columns = desired.columns\n",
    "    else:\n",
    "        des = desired[columns].describe().loc[stats]\n",
    "\n",
    "    # Extract summary stats from actual DF\n",
    "    act = actual[columns].describe().loc[stats]\n",
    "\n",
    "    return np.allclose(act, des, rtol)"
   ]
  },
  {
   "cell_type": "code",
   "execution_count": 17,
   "metadata": {
    "deletable": false,
    "editable": false
   },
   "outputs": [
    {
     "name": "stdout",
     "output_type": "stream",
     "text": [
      "~~~~~~~~~~~~~~~~~~~~~~~~~~~~~~~~~~~~~~~~~~~~~~~~~~~~~~~~~~~~~~~~~~~~~\n",
      "Running tests\n",
      "\n",
      "---------------------------------------------------------------------\n",
      "Test summary\n",
      "    Passed: 3\n",
      "    Failed: 0\n",
      "[ooooooooook] 100.0% passed\n",
      "\n"
     ]
    }
   ],
   "source": [
    "ok.grade(\"q1d\");"
   ]
  },
  {
   "cell_type": "markdown",
   "metadata": {
    "nbgrader": {
     "grade": false,
     "grade_id": "q1e",
     "locked": true,
     "schema_version": 2,
     "solution": false
    }
   },
   "source": [
    "### Question 1e: Identifying Issues with the Data"
   ]
  },
  {
   "cell_type": "markdown",
   "metadata": {
    "deletable": false,
    "editable": false,
    "nbgrader": {
     "grade": false,
     "grade_id": "cell-use-head",
     "locked": true,
     "schema_version": 2,
     "solution": false
    }
   },
   "source": [
    "Use the `head` command on your three files again. This time, describe at least one potential problem with the data you see. Consider issues with missing values and bad data.\n",
    "\n",
    "<!--\n",
    "BEGIN QUESTION\n",
    "name: q1e\n",
    "manual: True\n",
    "points: 1\n",
    "-->\n",
    "<!-- EXPORT TO PDF -->"
   ]
  },
  {
   "cell_type": "markdown",
   "metadata": {
    "ExecuteTime": {
     "end_time": "2018-08-18T01:21:53.925582Z",
     "start_time": "2018-08-18T01:21:53.918456Z"
    },
    "nbgrader": {
     "grade": true,
     "grade_id": "q1e-answer",
     "locked": false,
     "points": 1,
     "schema_version": 2,
     "solution": true
    },
    "tags": [
     "student",
     "written"
    ]
   },
   "source": [
    "In the `bus` dataframe, there are missing values in the postal_code column. Missing values has the potential of bringing up errors in our code."
   ]
  },
  {
   "cell_type": "code",
   "execution_count": 18,
   "metadata": {},
   "outputs": [
    {
     "data": {
      "text/html": [
       "<div>\n",
       "<style scoped>\n",
       "    .dataframe tbody tr th:only-of-type {\n",
       "        vertical-align: middle;\n",
       "    }\n",
       "\n",
       "    .dataframe tbody tr th {\n",
       "        vertical-align: top;\n",
       "    }\n",
       "\n",
       "    .dataframe thead th {\n",
       "        text-align: right;\n",
       "    }\n",
       "</style>\n",
       "<table border=\"1\" class=\"dataframe\">\n",
       "  <thead>\n",
       "    <tr style=\"text-align: right;\">\n",
       "      <th></th>\n",
       "      <th>business_id</th>\n",
       "      <th>name</th>\n",
       "      <th>address</th>\n",
       "      <th>city</th>\n",
       "      <th>state</th>\n",
       "      <th>postal_code</th>\n",
       "      <th>latitude</th>\n",
       "      <th>longitude</th>\n",
       "      <th>phone_number</th>\n",
       "    </tr>\n",
       "  </thead>\n",
       "  <tbody>\n",
       "    <tr>\n",
       "      <th>0</th>\n",
       "      <td>19</td>\n",
       "      <td>NRGIZE LIFESTYLE CAFE</td>\n",
       "      <td>1200 VAN NESS AVE, 3RD FLOOR</td>\n",
       "      <td>San Francisco</td>\n",
       "      <td>CA</td>\n",
       "      <td>94109</td>\n",
       "      <td>37.786848</td>\n",
       "      <td>-122.421547</td>\n",
       "      <td>+14157763262</td>\n",
       "    </tr>\n",
       "    <tr>\n",
       "      <th>1</th>\n",
       "      <td>24</td>\n",
       "      <td>OMNI S.F. HOTEL - 2ND FLOOR PANTRY</td>\n",
       "      <td>500 CALIFORNIA ST, 2ND  FLOOR</td>\n",
       "      <td>San Francisco</td>\n",
       "      <td>CA</td>\n",
       "      <td>94104</td>\n",
       "      <td>37.792888</td>\n",
       "      <td>-122.403135</td>\n",
       "      <td>+14156779494</td>\n",
       "    </tr>\n",
       "    <tr>\n",
       "      <th>2</th>\n",
       "      <td>31</td>\n",
       "      <td>NORMAN'S ICE CREAM AND FREEZES</td>\n",
       "      <td>2801 LEAVENWORTH ST</td>\n",
       "      <td>San Francisco</td>\n",
       "      <td>CA</td>\n",
       "      <td>94133</td>\n",
       "      <td>37.807155</td>\n",
       "      <td>-122.419004</td>\n",
       "      <td>NaN</td>\n",
       "    </tr>\n",
       "    <tr>\n",
       "      <th>3</th>\n",
       "      <td>45</td>\n",
       "      <td>CHARLIE'S DELI CAFE</td>\n",
       "      <td>3202 FOLSOM ST</td>\n",
       "      <td>San Francisco</td>\n",
       "      <td>CA</td>\n",
       "      <td>94110</td>\n",
       "      <td>37.747114</td>\n",
       "      <td>-122.413641</td>\n",
       "      <td>+14156415051</td>\n",
       "    </tr>\n",
       "    <tr>\n",
       "      <th>4</th>\n",
       "      <td>48</td>\n",
       "      <td>ART'S CAFE</td>\n",
       "      <td>747 IRVING ST</td>\n",
       "      <td>San Francisco</td>\n",
       "      <td>CA</td>\n",
       "      <td>94122</td>\n",
       "      <td>37.764013</td>\n",
       "      <td>-122.465749</td>\n",
       "      <td>+14156657440</td>\n",
       "    </tr>\n",
       "    <tr>\n",
       "      <th>5</th>\n",
       "      <td>54</td>\n",
       "      <td>RHODA GOLDMAN PLAZA</td>\n",
       "      <td>2180 POST ST</td>\n",
       "      <td>San Francisco</td>\n",
       "      <td>CA</td>\n",
       "      <td>94115</td>\n",
       "      <td>37.784626</td>\n",
       "      <td>-122.437734</td>\n",
       "      <td>+14153455060</td>\n",
       "    </tr>\n",
       "    <tr>\n",
       "      <th>6</th>\n",
       "      <td>56</td>\n",
       "      <td>CAFE X + O</td>\n",
       "      <td>1799 CHURCH ST</td>\n",
       "      <td>San Francisco</td>\n",
       "      <td>CA</td>\n",
       "      <td>94131</td>\n",
       "      <td>37.742325</td>\n",
       "      <td>-122.426476</td>\n",
       "      <td>+14158263535</td>\n",
       "    </tr>\n",
       "    <tr>\n",
       "      <th>7</th>\n",
       "      <td>58</td>\n",
       "      <td>OASIS GRILL</td>\n",
       "      <td>91 DRUMM ST</td>\n",
       "      <td>San Francisco</td>\n",
       "      <td>CA</td>\n",
       "      <td>94111</td>\n",
       "      <td>37.794483</td>\n",
       "      <td>-122.396584</td>\n",
       "      <td>+14158341942</td>\n",
       "    </tr>\n",
       "    <tr>\n",
       "      <th>8</th>\n",
       "      <td>61</td>\n",
       "      <td>CHOWDERS</td>\n",
       "      <td>PIER 39  SPACE A3</td>\n",
       "      <td>San Francisco</td>\n",
       "      <td>CA</td>\n",
       "      <td>94133</td>\n",
       "      <td>37.808240</td>\n",
       "      <td>-122.410189</td>\n",
       "      <td>+14153914737</td>\n",
       "    </tr>\n",
       "    <tr>\n",
       "      <th>9</th>\n",
       "      <td>66</td>\n",
       "      <td>STARBUCKS COFFEE</td>\n",
       "      <td>1800 IRVING ST</td>\n",
       "      <td>San Francisco</td>\n",
       "      <td>CA</td>\n",
       "      <td>94122</td>\n",
       "      <td>37.763578</td>\n",
       "      <td>-122.477461</td>\n",
       "      <td>+14152427970</td>\n",
       "    </tr>\n",
       "    <tr>\n",
       "      <th>10</th>\n",
       "      <td>67</td>\n",
       "      <td>REVOLUTION CAFE</td>\n",
       "      <td>3248 22ND ST</td>\n",
       "      <td>San Francisco</td>\n",
       "      <td>CA</td>\n",
       "      <td>94110</td>\n",
       "      <td>37.755419</td>\n",
       "      <td>-122.419542</td>\n",
       "      <td>+14156420474</td>\n",
       "    </tr>\n",
       "    <tr>\n",
       "      <th>11</th>\n",
       "      <td>73</td>\n",
       "      <td>DINO'S UNCLE VITO</td>\n",
       "      <td>2101 FILLMORE ST</td>\n",
       "      <td>San Francisco</td>\n",
       "      <td>CA</td>\n",
       "      <td>94115</td>\n",
       "      <td>37.788932</td>\n",
       "      <td>-122.433895</td>\n",
       "      <td>+14159224700</td>\n",
       "    </tr>\n",
       "    <tr>\n",
       "      <th>12</th>\n",
       "      <td>76</td>\n",
       "      <td>OMNI S.F. HOTEL - 3RD FLOOR PANTRY</td>\n",
       "      <td>500 CALIFORNIA ST, 3RD FLOOR</td>\n",
       "      <td>San Francisco</td>\n",
       "      <td>CA</td>\n",
       "      <td>94104</td>\n",
       "      <td>37.792888</td>\n",
       "      <td>-122.403135</td>\n",
       "      <td>+14156779494</td>\n",
       "    </tr>\n",
       "    <tr>\n",
       "      <th>13</th>\n",
       "      <td>77</td>\n",
       "      <td>OMNI S.F. HOTEL - EMPLOYEE CAFETERIA</td>\n",
       "      <td>500 CALIFORNIA ST, BASEMENT</td>\n",
       "      <td>San Francisco</td>\n",
       "      <td>CA</td>\n",
       "      <td>94104</td>\n",
       "      <td>37.792888</td>\n",
       "      <td>-122.403135</td>\n",
       "      <td>+14156779494</td>\n",
       "    </tr>\n",
       "    <tr>\n",
       "      <th>14</th>\n",
       "      <td>80</td>\n",
       "      <td>LAW SCHOOL CAFE</td>\n",
       "      <td>2199 FULTON ST</td>\n",
       "      <td>San Francisco</td>\n",
       "      <td>CA</td>\n",
       "      <td>94117</td>\n",
       "      <td>37.774941</td>\n",
       "      <td>-122.452797</td>\n",
       "      <td>+14154222268</td>\n",
       "    </tr>\n",
       "    <tr>\n",
       "      <th>15</th>\n",
       "      <td>81</td>\n",
       "      <td>CLUB ED/BON APPETIT</td>\n",
       "      <td>2350 TURK ST</td>\n",
       "      <td>San Francisco</td>\n",
       "      <td>CA</td>\n",
       "      <td>94117</td>\n",
       "      <td>37.778468</td>\n",
       "      <td>-122.448484</td>\n",
       "      <td>+14154225849</td>\n",
       "    </tr>\n",
       "    <tr>\n",
       "      <th>16</th>\n",
       "      <td>88</td>\n",
       "      <td>J.B.'S PLACE</td>\n",
       "      <td>1435 17TH ST</td>\n",
       "      <td>San Francisco</td>\n",
       "      <td>CA</td>\n",
       "      <td>94107</td>\n",
       "      <td>37.765003</td>\n",
       "      <td>-122.398084</td>\n",
       "      <td>+14155848446</td>\n",
       "    </tr>\n",
       "    <tr>\n",
       "      <th>17</th>\n",
       "      <td>95</td>\n",
       "      <td>VEGA</td>\n",
       "      <td>419 CORTLAND AVE</td>\n",
       "      <td>San Francisco</td>\n",
       "      <td>CA</td>\n",
       "      <td>94110</td>\n",
       "      <td>37.739207</td>\n",
       "      <td>-122.417447</td>\n",
       "      <td>+14152856000</td>\n",
       "    </tr>\n",
       "    <tr>\n",
       "      <th>18</th>\n",
       "      <td>98</td>\n",
       "      <td>XOX TRUFFLES</td>\n",
       "      <td>754 COLUMBUS AVE</td>\n",
       "      <td>San Francisco</td>\n",
       "      <td>CA</td>\n",
       "      <td>94133</td>\n",
       "      <td>37.801665</td>\n",
       "      <td>-122.412104</td>\n",
       "      <td>+14154214814</td>\n",
       "    </tr>\n",
       "    <tr>\n",
       "      <th>19</th>\n",
       "      <td>99</td>\n",
       "      <td>J &amp; M A-1 CAFE RESTAURANT LLC</td>\n",
       "      <td>779 CLAY ST</td>\n",
       "      <td>San Francisco</td>\n",
       "      <td>CA</td>\n",
       "      <td>94108</td>\n",
       "      <td>37.794293</td>\n",
       "      <td>-122.405967</td>\n",
       "      <td>+14156057219</td>\n",
       "    </tr>\n",
       "    <tr>\n",
       "      <th>20</th>\n",
       "      <td>101</td>\n",
       "      <td>CABLE CAR CORNER</td>\n",
       "      <td>1099 POWELL ST</td>\n",
       "      <td>San Francisco</td>\n",
       "      <td>CA</td>\n",
       "      <td>94108</td>\n",
       "      <td>37.794615</td>\n",
       "      <td>-122.409705</td>\n",
       "      <td>+14153625925</td>\n",
       "    </tr>\n",
       "    <tr>\n",
       "      <th>21</th>\n",
       "      <td>102</td>\n",
       "      <td>AKIKO'S SUSHI BAR</td>\n",
       "      <td>542A MASON ST</td>\n",
       "      <td>San Francisco</td>\n",
       "      <td>CA</td>\n",
       "      <td>94102</td>\n",
       "      <td>37.788484</td>\n",
       "      <td>-122.410045</td>\n",
       "      <td>+14159898218</td>\n",
       "    </tr>\n",
       "    <tr>\n",
       "      <th>22</th>\n",
       "      <td>108</td>\n",
       "      <td>RUE LEPIC</td>\n",
       "      <td>900 PINE ST</td>\n",
       "      <td>San Francisco</td>\n",
       "      <td>CA</td>\n",
       "      <td>94108</td>\n",
       "      <td>37.790868</td>\n",
       "      <td>-122.410854</td>\n",
       "      <td>+14154746070</td>\n",
       "    </tr>\n",
       "    <tr>\n",
       "      <th>23</th>\n",
       "      <td>116</td>\n",
       "      <td>THE WATERFRONT RESTAURANT</td>\n",
       "      <td>PIER 7 EMBARCADERO</td>\n",
       "      <td>San Francisco</td>\n",
       "      <td>CA</td>\n",
       "      <td>94111</td>\n",
       "      <td>37.793874</td>\n",
       "      <td>-122.396464</td>\n",
       "      <td>+14153912696</td>\n",
       "    </tr>\n",
       "    <tr>\n",
       "      <th>24</th>\n",
       "      <td>121</td>\n",
       "      <td>AKIKOS SUSHI</td>\n",
       "      <td>431 BUSH ST</td>\n",
       "      <td>San Francisco</td>\n",
       "      <td>CA</td>\n",
       "      <td>94108</td>\n",
       "      <td>37.790643</td>\n",
       "      <td>-122.404676</td>\n",
       "      <td>+14153973218</td>\n",
       "    </tr>\n",
       "    <tr>\n",
       "      <th>25</th>\n",
       "      <td>125</td>\n",
       "      <td>CENTERFOLDS</td>\n",
       "      <td>391 BROADWAY ST</td>\n",
       "      <td>San Francisco</td>\n",
       "      <td>CA</td>\n",
       "      <td>94133</td>\n",
       "      <td>37.798233</td>\n",
       "      <td>-122.403637</td>\n",
       "      <td>+14158340662</td>\n",
       "    </tr>\n",
       "    <tr>\n",
       "      <th>26</th>\n",
       "      <td>134</td>\n",
       "      <td>MINT</td>\n",
       "      <td>400 MCALLISTER ST</td>\n",
       "      <td>San Francisco</td>\n",
       "      <td>CA</td>\n",
       "      <td>94102</td>\n",
       "      <td>37.780247</td>\n",
       "      <td>-122.418974</td>\n",
       "      <td>+14155515942</td>\n",
       "    </tr>\n",
       "    <tr>\n",
       "      <th>27</th>\n",
       "      <td>140</td>\n",
       "      <td>CAFE MADELEINE</td>\n",
       "      <td>300 CALIFORNIA ST</td>\n",
       "      <td>San Francisco</td>\n",
       "      <td>CA</td>\n",
       "      <td>94104</td>\n",
       "      <td>37.793268</td>\n",
       "      <td>-122.400323</td>\n",
       "      <td>+14153623332</td>\n",
       "    </tr>\n",
       "    <tr>\n",
       "      <th>28</th>\n",
       "      <td>141</td>\n",
       "      <td>AFC SUSHI @ MOLLIE STONE'S 2</td>\n",
       "      <td>2435 CALIFORNIA ST</td>\n",
       "      <td>San Francisco</td>\n",
       "      <td>CA</td>\n",
       "      <td>94115</td>\n",
       "      <td>37.788773</td>\n",
       "      <td>-122.434697</td>\n",
       "      <td>+14155674902</td>\n",
       "    </tr>\n",
       "    <tr>\n",
       "      <th>29</th>\n",
       "      <td>146</td>\n",
       "      <td>DEJA VU PIZZA &amp; PASTA</td>\n",
       "      <td>3227 16TH ST</td>\n",
       "      <td>San Francisco</td>\n",
       "      <td>CA</td>\n",
       "      <td>94103</td>\n",
       "      <td>37.764713</td>\n",
       "      <td>-122.424709</td>\n",
       "      <td>+14152551600</td>\n",
       "    </tr>\n",
       "    <tr>\n",
       "      <th>30</th>\n",
       "      <td>151</td>\n",
       "      <td>BUS STOP PIZZA #1</td>\n",
       "      <td>256 DIVISADERO ST</td>\n",
       "      <td>San Francisco</td>\n",
       "      <td>CA</td>\n",
       "      <td>94117</td>\n",
       "      <td>37.771487</td>\n",
       "      <td>-122.437047</td>\n",
       "      <td>+14156269119</td>\n",
       "    </tr>\n",
       "    <tr>\n",
       "      <th>31</th>\n",
       "      <td>155</td>\n",
       "      <td>CAFE COLE</td>\n",
       "      <td>609 COLE ST</td>\n",
       "      <td>San Francisco</td>\n",
       "      <td>CA</td>\n",
       "      <td>94117</td>\n",
       "      <td>37.769303</td>\n",
       "      <td>-122.450724</td>\n",
       "      <td>+14156687771</td>\n",
       "    </tr>\n",
       "    <tr>\n",
       "      <th>32</th>\n",
       "      <td>164</td>\n",
       "      <td>LADLE &amp; LEAF</td>\n",
       "      <td>50 POST ST, 3RD FLOOR</td>\n",
       "      <td>San Francisco</td>\n",
       "      <td>CA</td>\n",
       "      <td>94104</td>\n",
       "      <td>37.789064</td>\n",
       "      <td>-122.402861</td>\n",
       "      <td>+14155663871</td>\n",
       "    </tr>\n",
       "    <tr>\n",
       "      <th>33</th>\n",
       "      <td>180</td>\n",
       "      <td>NENAS RESTAURANT</td>\n",
       "      <td>3459 MISSION ST</td>\n",
       "      <td>San Francisco</td>\n",
       "      <td>CA</td>\n",
       "      <td>94110</td>\n",
       "      <td>37.741460</td>\n",
       "      <td>-122.422484</td>\n",
       "      <td>+14152858985</td>\n",
       "    </tr>\n",
       "    <tr>\n",
       "      <th>34</th>\n",
       "      <td>184</td>\n",
       "      <td>RADIO HABANA</td>\n",
       "      <td>1109 VALENCIA ST</td>\n",
       "      <td>San Francisco</td>\n",
       "      <td>CA</td>\n",
       "      <td>94110</td>\n",
       "      <td>37.755124</td>\n",
       "      <td>-122.420916</td>\n",
       "      <td>+14158247659</td>\n",
       "    </tr>\n",
       "    <tr>\n",
       "      <th>35</th>\n",
       "      <td>187</td>\n",
       "      <td>TAZA WRAPS &amp; JUICE</td>\n",
       "      <td>750 FONT, BLDG B BLVD</td>\n",
       "      <td>San Francisco</td>\n",
       "      <td>CA</td>\n",
       "      <td>94132</td>\n",
       "      <td>37.723054</td>\n",
       "      <td>-122.483612</td>\n",
       "      <td>+14153774525</td>\n",
       "    </tr>\n",
       "    <tr>\n",
       "      <th>36</th>\n",
       "      <td>190</td>\n",
       "      <td>COURTYARD BY MARRIOTT-STAFF KITCHEN</td>\n",
       "      <td>299 02ND ST</td>\n",
       "      <td>San Francisco</td>\n",
       "      <td>CA</td>\n",
       "      <td>94105</td>\n",
       "      <td>37.785614</td>\n",
       "      <td>-122.396693</td>\n",
       "      <td>+14159470700</td>\n",
       "    </tr>\n",
       "    <tr>\n",
       "      <th>37</th>\n",
       "      <td>192</td>\n",
       "      <td>ARLEQUIN</td>\n",
       "      <td>384 B HAYES ST</td>\n",
       "      <td>San Francisco</td>\n",
       "      <td>CA</td>\n",
       "      <td>94102</td>\n",
       "      <td>37.777014</td>\n",
       "      <td>-122.422345</td>\n",
       "      <td>+14158642693</td>\n",
       "    </tr>\n",
       "    <tr>\n",
       "      <th>38</th>\n",
       "      <td>194</td>\n",
       "      <td>BAYSIDE COFFEE SHOP</td>\n",
       "      <td>2011 BAYSHORE BLVD</td>\n",
       "      <td>San Francisco</td>\n",
       "      <td>CA</td>\n",
       "      <td>94134</td>\n",
       "      <td>37.715126</td>\n",
       "      <td>-122.398901</td>\n",
       "      <td>+14154672023</td>\n",
       "    </tr>\n",
       "    <tr>\n",
       "      <th>39</th>\n",
       "      <td>198</td>\n",
       "      <td>SUBWAY</td>\n",
       "      <td>3801 03RD ST 310</td>\n",
       "      <td>San Francisco</td>\n",
       "      <td>CA</td>\n",
       "      <td>94124</td>\n",
       "      <td>37.741829</td>\n",
       "      <td>-122.388098</td>\n",
       "      <td>+14158244721</td>\n",
       "    </tr>\n",
       "    <tr>\n",
       "      <th>40</th>\n",
       "      <td>200</td>\n",
       "      <td>JIM'S SMOKE SHOP</td>\n",
       "      <td>600 20TH ST</td>\n",
       "      <td>San Francisco</td>\n",
       "      <td>CA</td>\n",
       "      <td>94107</td>\n",
       "      <td>37.760568</td>\n",
       "      <td>-122.387772</td>\n",
       "      <td>+14156266750</td>\n",
       "    </tr>\n",
       "    <tr>\n",
       "      <th>41</th>\n",
       "      <td>208</td>\n",
       "      <td>CONSTANS GROCERY</td>\n",
       "      <td>4124 03RD ST</td>\n",
       "      <td>San Francisco</td>\n",
       "      <td>CA</td>\n",
       "      <td>94124</td>\n",
       "      <td>37.739961</td>\n",
       "      <td>-122.389003</td>\n",
       "      <td>+14158244281</td>\n",
       "    </tr>\n",
       "    <tr>\n",
       "      <th>42</th>\n",
       "      <td>216</td>\n",
       "      <td>SORABOL</td>\n",
       "      <td>101 SPEAR ST A12</td>\n",
       "      <td>San Francisco</td>\n",
       "      <td>CA</td>\n",
       "      <td>94105</td>\n",
       "      <td>37.792577</td>\n",
       "      <td>-122.393992</td>\n",
       "      <td>+14158965959</td>\n",
       "    </tr>\n",
       "    <tr>\n",
       "      <th>43</th>\n",
       "      <td>217</td>\n",
       "      <td>PROGRESSIVE GROUNDS</td>\n",
       "      <td>400 CORTLAND AVE</td>\n",
       "      <td>San Francisco</td>\n",
       "      <td>CA</td>\n",
       "      <td>94110</td>\n",
       "      <td>37.739143</td>\n",
       "      <td>-122.417653</td>\n",
       "      <td>+14158318616</td>\n",
       "    </tr>\n",
       "    <tr>\n",
       "      <th>44</th>\n",
       "      <td>226</td>\n",
       "      <td>GRUMPY'S AMERICAN PUB</td>\n",
       "      <td>125 VALLEJO ST</td>\n",
       "      <td>San Francisco</td>\n",
       "      <td>CA</td>\n",
       "      <td>94111</td>\n",
       "      <td>37.799594</td>\n",
       "      <td>-122.400586</td>\n",
       "      <td>+14154343350</td>\n",
       "    </tr>\n",
       "    <tr>\n",
       "      <th>45</th>\n",
       "      <td>231</td>\n",
       "      <td>CAFFE PUCCINI</td>\n",
       "      <td>411 COLUMBUS AVE</td>\n",
       "      <td>San Francisco</td>\n",
       "      <td>CA</td>\n",
       "      <td>94133</td>\n",
       "      <td>37.799087</td>\n",
       "      <td>-122.408488</td>\n",
       "      <td>+14159897033</td>\n",
       "    </tr>\n",
       "    <tr>\n",
       "      <th>46</th>\n",
       "      <td>236</td>\n",
       "      <td>GELATO CLASSICO ITALIAN ICE</td>\n",
       "      <td>576 UNION ST</td>\n",
       "      <td>San Francisco</td>\n",
       "      <td>CA</td>\n",
       "      <td>94133</td>\n",
       "      <td>37.800543</td>\n",
       "      <td>-122.408784</td>\n",
       "      <td>+14153916667</td>\n",
       "    </tr>\n",
       "    <tr>\n",
       "      <th>47</th>\n",
       "      <td>239</td>\n",
       "      <td>JUST WONTON</td>\n",
       "      <td>1241 VICENTE ST</td>\n",
       "      <td>San Francisco</td>\n",
       "      <td>CA</td>\n",
       "      <td>94116</td>\n",
       "      <td>37.739063</td>\n",
       "      <td>-122.480409</td>\n",
       "      <td>+14156812999</td>\n",
       "    </tr>\n",
       "    <tr>\n",
       "      <th>48</th>\n",
       "      <td>240</td>\n",
       "      <td>MIKI RESTAURANT</td>\n",
       "      <td>3639 BALBOA ST</td>\n",
       "      <td>San Francisco</td>\n",
       "      <td>CA</td>\n",
       "      <td>94121</td>\n",
       "      <td>37.775663</td>\n",
       "      <td>-122.497949</td>\n",
       "      <td>+14153870874</td>\n",
       "    </tr>\n",
       "    <tr>\n",
       "      <th>49</th>\n",
       "      <td>247</td>\n",
       "      <td>TOY BOAT DESSERT CAFE</td>\n",
       "      <td>401 CLEMENT ST</td>\n",
       "      <td>San Francisco</td>\n",
       "      <td>CA</td>\n",
       "      <td>94118</td>\n",
       "      <td>37.782953</td>\n",
       "      <td>-122.463510</td>\n",
       "      <td>+14157517505</td>\n",
       "    </tr>\n",
       "    <tr>\n",
       "      <th>50</th>\n",
       "      <td>251</td>\n",
       "      <td>BEANERY INC.</td>\n",
       "      <td>602 IRVING ST</td>\n",
       "      <td>San Francisco</td>\n",
       "      <td>CA</td>\n",
       "      <td>94122</td>\n",
       "      <td>37.764148</td>\n",
       "      <td>-122.464391</td>\n",
       "      <td>+14156611090</td>\n",
       "    </tr>\n",
       "    <tr>\n",
       "      <th>51</th>\n",
       "      <td>253</td>\n",
       "      <td>ANN'S DONUT COFFEE SHOP</td>\n",
       "      <td>4488 MISSION ST</td>\n",
       "      <td>San Francisco</td>\n",
       "      <td>CA</td>\n",
       "      <td>94112</td>\n",
       "      <td>37.725949</td>\n",
       "      <td>-122.433906</td>\n",
       "      <td>+14153341761</td>\n",
       "    </tr>\n",
       "    <tr>\n",
       "      <th>52</th>\n",
       "      <td>256</td>\n",
       "      <td>MARCHE CLUB OF S.F.</td>\n",
       "      <td>4346 MISSION ST</td>\n",
       "      <td>San Francisco</td>\n",
       "      <td>CA</td>\n",
       "      <td>94112</td>\n",
       "      <td>37.727983</td>\n",
       "      <td>-122.432101</td>\n",
       "      <td>+14152189355</td>\n",
       "    </tr>\n",
       "    <tr>\n",
       "      <th>53</th>\n",
       "      <td>268</td>\n",
       "      <td>LOS HERMANOS</td>\n",
       "      <td>2026 CHESTNUT ST</td>\n",
       "      <td>San Francisco</td>\n",
       "      <td>CA</td>\n",
       "      <td>94123</td>\n",
       "      <td>37.800767</td>\n",
       "      <td>-122.436924</td>\n",
       "      <td>+14159215790</td>\n",
       "    </tr>\n",
       "    <tr>\n",
       "      <th>54</th>\n",
       "      <td>272</td>\n",
       "      <td>ON THE BRIDGE</td>\n",
       "      <td>1581 WEBSTER ST #206</td>\n",
       "      <td>San Francisco</td>\n",
       "      <td>CA</td>\n",
       "      <td>94115</td>\n",
       "      <td>37.785227</td>\n",
       "      <td>-122.431472</td>\n",
       "      <td>+14159227765</td>\n",
       "    </tr>\n",
       "    <tr>\n",
       "      <th>55</th>\n",
       "      <td>273</td>\n",
       "      <td>HAI SUN RESTAURANT</td>\n",
       "      <td>3137 LAGUNA ST</td>\n",
       "      <td>San Francisco</td>\n",
       "      <td>CA</td>\n",
       "      <td>94123</td>\n",
       "      <td>37.800133</td>\n",
       "      <td>-122.431064</td>\n",
       "      <td>+14153464792</td>\n",
       "    </tr>\n",
       "    <tr>\n",
       "      <th>56</th>\n",
       "      <td>275</td>\n",
       "      <td>BEN &amp; JERRY'S</td>\n",
       "      <td>170 O'FARRELL ST BASEMENT</td>\n",
       "      <td>San Francisco</td>\n",
       "      <td>CA</td>\n",
       "      <td>94102</td>\n",
       "      <td>37.786548</td>\n",
       "      <td>-122.407313</td>\n",
       "      <td>+14152494686</td>\n",
       "    </tr>\n",
       "    <tr>\n",
       "      <th>57</th>\n",
       "      <td>276</td>\n",
       "      <td>CORSAGNA</td>\n",
       "      <td>1668 UNION ST</td>\n",
       "      <td>San Francisco</td>\n",
       "      <td>CA</td>\n",
       "      <td>94123</td>\n",
       "      <td>37.798260</td>\n",
       "      <td>-122.426748</td>\n",
       "      <td>+14157750527</td>\n",
       "    </tr>\n",
       "    <tr>\n",
       "      <th>58</th>\n",
       "      <td>279</td>\n",
       "      <td>INGA DONUTS</td>\n",
       "      <td>1026 HYDE ST</td>\n",
       "      <td>San Francisco</td>\n",
       "      <td>CA</td>\n",
       "      <td>94109</td>\n",
       "      <td>37.790347</td>\n",
       "      <td>-122.417227</td>\n",
       "      <td>+14157719611</td>\n",
       "    </tr>\n",
       "    <tr>\n",
       "      <th>59</th>\n",
       "      <td>281</td>\n",
       "      <td>PARMA RESTAURANT</td>\n",
       "      <td>3314 STEINER ST</td>\n",
       "      <td>San Francisco</td>\n",
       "      <td>CA</td>\n",
       "      <td>94123</td>\n",
       "      <td>37.799807</td>\n",
       "      <td>-122.437649</td>\n",
       "      <td>+14155670500</td>\n",
       "    </tr>\n",
       "  </tbody>\n",
       "</table>\n",
       "</div>"
      ],
      "text/plain": [
       "    business_id                                  name  \\\n",
       "0            19                 NRGIZE LIFESTYLE CAFE   \n",
       "1            24    OMNI S.F. HOTEL - 2ND FLOOR PANTRY   \n",
       "2            31        NORMAN'S ICE CREAM AND FREEZES   \n",
       "3            45                   CHARLIE'S DELI CAFE   \n",
       "4            48                            ART'S CAFE   \n",
       "5            54                   RHODA GOLDMAN PLAZA   \n",
       "6            56                            CAFE X + O   \n",
       "7            58                           OASIS GRILL   \n",
       "8            61                              CHOWDERS   \n",
       "9            66                      STARBUCKS COFFEE   \n",
       "10           67                       REVOLUTION CAFE   \n",
       "11           73                     DINO'S UNCLE VITO   \n",
       "12           76    OMNI S.F. HOTEL - 3RD FLOOR PANTRY   \n",
       "13           77  OMNI S.F. HOTEL - EMPLOYEE CAFETERIA   \n",
       "14           80                       LAW SCHOOL CAFE   \n",
       "15           81                   CLUB ED/BON APPETIT   \n",
       "16           88                          J.B.'S PLACE   \n",
       "17           95                                  VEGA   \n",
       "18           98                          XOX TRUFFLES   \n",
       "19           99         J & M A-1 CAFE RESTAURANT LLC   \n",
       "20          101                      CABLE CAR CORNER   \n",
       "21          102                     AKIKO'S SUSHI BAR   \n",
       "22          108                             RUE LEPIC   \n",
       "23          116             THE WATERFRONT RESTAURANT   \n",
       "24          121                          AKIKOS SUSHI   \n",
       "25          125                           CENTERFOLDS   \n",
       "26          134                                  MINT   \n",
       "27          140                        CAFE MADELEINE   \n",
       "28          141          AFC SUSHI @ MOLLIE STONE'S 2   \n",
       "29          146                 DEJA VU PIZZA & PASTA   \n",
       "30          151                     BUS STOP PIZZA #1   \n",
       "31          155                             CAFE COLE   \n",
       "32          164                          LADLE & LEAF   \n",
       "33          180                      NENAS RESTAURANT   \n",
       "34          184                          RADIO HABANA   \n",
       "35          187                    TAZA WRAPS & JUICE   \n",
       "36          190   COURTYARD BY MARRIOTT-STAFF KITCHEN   \n",
       "37          192                              ARLEQUIN   \n",
       "38          194                   BAYSIDE COFFEE SHOP   \n",
       "39          198                                SUBWAY   \n",
       "40          200                      JIM'S SMOKE SHOP   \n",
       "41          208                      CONSTANS GROCERY   \n",
       "42          216                               SORABOL   \n",
       "43          217                   PROGRESSIVE GROUNDS   \n",
       "44          226                 GRUMPY'S AMERICAN PUB   \n",
       "45          231                         CAFFE PUCCINI   \n",
       "46          236           GELATO CLASSICO ITALIAN ICE   \n",
       "47          239                           JUST WONTON   \n",
       "48          240                       MIKI RESTAURANT   \n",
       "49          247                 TOY BOAT DESSERT CAFE   \n",
       "50          251                          BEANERY INC.   \n",
       "51          253               ANN'S DONUT COFFEE SHOP   \n",
       "52          256                   MARCHE CLUB OF S.F.   \n",
       "53          268                          LOS HERMANOS   \n",
       "54          272                         ON THE BRIDGE   \n",
       "55          273                    HAI SUN RESTAURANT   \n",
       "56          275                         BEN & JERRY'S   \n",
       "57          276                              CORSAGNA   \n",
       "58          279                           INGA DONUTS   \n",
       "59          281                      PARMA RESTAURANT   \n",
       "\n",
       "                          address           city state postal_code   latitude  \\\n",
       "0    1200 VAN NESS AVE, 3RD FLOOR  San Francisco    CA       94109  37.786848   \n",
       "1   500 CALIFORNIA ST, 2ND  FLOOR  San Francisco    CA       94104  37.792888   \n",
       "2            2801 LEAVENWORTH ST   San Francisco    CA       94133  37.807155   \n",
       "3                 3202 FOLSOM ST   San Francisco    CA       94110  37.747114   \n",
       "4                  747 IRVING ST   San Francisco    CA       94122  37.764013   \n",
       "5                   2180 POST ST   San Francisco    CA       94115  37.784626   \n",
       "6                 1799 CHURCH ST   San Francisco    CA       94131  37.742325   \n",
       "7                    91 DRUMM ST   San Francisco    CA       94111  37.794483   \n",
       "8               PIER 39  SPACE A3  San Francisco    CA       94133  37.808240   \n",
       "9                 1800 IRVING ST   San Francisco    CA       94122  37.763578   \n",
       "10                  3248 22ND ST   San Francisco    CA       94110  37.755419   \n",
       "11              2101 FILLMORE ST   San Francisco    CA       94115  37.788932   \n",
       "12   500 CALIFORNIA ST, 3RD FLOOR  San Francisco    CA       94104  37.792888   \n",
       "13    500 CALIFORNIA ST, BASEMENT  San Francisco    CA       94104  37.792888   \n",
       "14                2199 FULTON ST   San Francisco    CA       94117  37.774941   \n",
       "15                  2350 TURK ST   San Francisco    CA       94117  37.778468   \n",
       "16                  1435 17TH ST   San Francisco    CA       94107  37.765003   \n",
       "17              419 CORTLAND AVE   San Francisco    CA       94110  37.739207   \n",
       "18              754 COLUMBUS AVE   San Francisco    CA       94133  37.801665   \n",
       "19                   779 CLAY ST   San Francisco    CA       94108  37.794293   \n",
       "20                1099 POWELL ST   San Francisco    CA       94108  37.794615   \n",
       "21                 542A MASON ST   San Francisco    CA       94102  37.788484   \n",
       "22                    900 PINE ST  San Francisco    CA       94108  37.790868   \n",
       "23             PIER 7 EMBARCADERO  San Francisco    CA       94111  37.793874   \n",
       "24                   431 BUSH ST   San Francisco    CA       94108  37.790643   \n",
       "25               391 BROADWAY ST   San Francisco    CA       94133  37.798233   \n",
       "26              400 MCALLISTER ST  San Francisco    CA       94102  37.780247   \n",
       "27             300 CALIFORNIA ST   San Francisco    CA       94104  37.793268   \n",
       "28            2435 CALIFORNIA ST   San Francisco    CA       94115  37.788773   \n",
       "29                  3227 16TH ST   San Francisco    CA       94103  37.764713   \n",
       "30             256 DIVISADERO ST   San Francisco    CA       94117  37.771487   \n",
       "31                   609 COLE ST   San Francisco    CA       94117  37.769303   \n",
       "32          50 POST ST, 3RD FLOOR  San Francisco    CA       94104  37.789064   \n",
       "33               3459 MISSION ST   San Francisco    CA       94110  37.741460   \n",
       "34               1109 VALENCIA ST  San Francisco    CA       94110  37.755124   \n",
       "35         750 FONT, BLDG B BLVD   San Francisco    CA       94132  37.723054   \n",
       "36                   299 02ND ST   San Francisco    CA       94105  37.785614   \n",
       "37                384 B HAYES ST   San Francisco    CA       94102  37.777014   \n",
       "38            2011 BAYSHORE BLVD   San Francisco    CA       94134  37.715126   \n",
       "39               3801 03RD ST 310  San Francisco    CA       94124  37.741829   \n",
       "40                   600 20TH ST   San Francisco    CA       94107  37.760568   \n",
       "41                  4124 03RD ST   San Francisco    CA       94124  37.739961   \n",
       "42               101 SPEAR ST A12  San Francisco    CA       94105  37.792577   \n",
       "43              400 CORTLAND AVE   San Francisco    CA       94110  37.739143   \n",
       "44                125 VALLEJO ST   San Francisco    CA       94111  37.799594   \n",
       "45              411 COLUMBUS AVE   San Francisco    CA       94133  37.799087   \n",
       "46                  576 UNION ST   San Francisco    CA       94133  37.800543   \n",
       "47               1241 VICENTE ST   San Francisco    CA       94116  37.739063   \n",
       "48                3639 BALBOA ST   San Francisco    CA       94121  37.775663   \n",
       "49                401 CLEMENT ST   San Francisco    CA       94118  37.782953   \n",
       "50                 602 IRVING ST   San Francisco    CA       94122  37.764148   \n",
       "51               4488 MISSION ST   San Francisco    CA       94112  37.725949   \n",
       "52               4346 MISSION ST   San Francisco    CA       94112  37.727983   \n",
       "53              2026 CHESTNUT ST   San Francisco    CA       94123  37.800767   \n",
       "54           1581 WEBSTER ST #206  San Francisco    CA       94115  37.785227   \n",
       "55                3137 LAGUNA ST   San Francisco    CA       94123  37.800133   \n",
       "56      170 O'FARRELL ST BASEMENT  San Francisco    CA       94102  37.786548   \n",
       "57                 1668 UNION ST   San Francisco    CA       94123  37.798260   \n",
       "58                  1026 HYDE ST   San Francisco    CA       94109  37.790347   \n",
       "59               3314 STEINER ST   San Francisco    CA       94123  37.799807   \n",
       "\n",
       "     longitude  phone_number  \n",
       "0  -122.421547  +14157763262  \n",
       "1  -122.403135  +14156779494  \n",
       "2  -122.419004           NaN  \n",
       "3  -122.413641  +14156415051  \n",
       "4  -122.465749  +14156657440  \n",
       "5  -122.437734  +14153455060  \n",
       "6  -122.426476  +14158263535  \n",
       "7  -122.396584  +14158341942  \n",
       "8  -122.410189  +14153914737  \n",
       "9  -122.477461  +14152427970  \n",
       "10 -122.419542  +14156420474  \n",
       "11 -122.433895  +14159224700  \n",
       "12 -122.403135  +14156779494  \n",
       "13 -122.403135  +14156779494  \n",
       "14 -122.452797  +14154222268  \n",
       "15 -122.448484  +14154225849  \n",
       "16 -122.398084  +14155848446  \n",
       "17 -122.417447  +14152856000  \n",
       "18 -122.412104  +14154214814  \n",
       "19 -122.405967  +14156057219  \n",
       "20 -122.409705  +14153625925  \n",
       "21 -122.410045  +14159898218  \n",
       "22 -122.410854  +14154746070  \n",
       "23 -122.396464  +14153912696  \n",
       "24 -122.404676  +14153973218  \n",
       "25 -122.403637  +14158340662  \n",
       "26 -122.418974  +14155515942  \n",
       "27 -122.400323  +14153623332  \n",
       "28 -122.434697  +14155674902  \n",
       "29 -122.424709  +14152551600  \n",
       "30 -122.437047  +14156269119  \n",
       "31 -122.450724  +14156687771  \n",
       "32 -122.402861  +14155663871  \n",
       "33 -122.422484  +14152858985  \n",
       "34 -122.420916  +14158247659  \n",
       "35 -122.483612  +14153774525  \n",
       "36 -122.396693  +14159470700  \n",
       "37 -122.422345  +14158642693  \n",
       "38 -122.398901  +14154672023  \n",
       "39 -122.388098  +14158244721  \n",
       "40 -122.387772  +14156266750  \n",
       "41 -122.389003  +14158244281  \n",
       "42 -122.393992  +14158965959  \n",
       "43 -122.417653  +14158318616  \n",
       "44 -122.400586  +14154343350  \n",
       "45 -122.408488  +14159897033  \n",
       "46 -122.408784  +14153916667  \n",
       "47 -122.480409  +14156812999  \n",
       "48 -122.497949  +14153870874  \n",
       "49 -122.463510  +14157517505  \n",
       "50 -122.464391  +14156611090  \n",
       "51 -122.433906  +14153341761  \n",
       "52 -122.432101  +14152189355  \n",
       "53 -122.436924  +14159215790  \n",
       "54 -122.431472  +14159227765  \n",
       "55 -122.431064  +14153464792  \n",
       "56 -122.407313  +14152494686  \n",
       "57 -122.426748  +14157750527  \n",
       "58 -122.417227  +14157719611  \n",
       "59 -122.437649  +14155670500  "
      ]
     },
     "execution_count": 18,
     "metadata": {},
     "output_type": "execute_result"
    }
   ],
   "source": [
    "bus.head(60)"
   ]
  },
  {
   "cell_type": "markdown",
   "metadata": {
    "nbgrader": {
     "grade": false,
     "grade_id": "intro-explo",
     "locked": true,
     "schema_version": 2,
     "solution": false
    }
   },
   "source": [
    "We will explore each file in turn, including determining its granularity and primary keys and exploring many of the variables individually. Let's begin with the businesses file, which has been read into the `bus` dataframe."
   ]
  },
  {
   "cell_type": "markdown",
   "metadata": {
    "nbgrader": {
     "grade": false,
     "grade_id": "business-data",
     "locked": true,
     "schema_version": 2,
     "solution": false
    }
   },
   "source": [
    "---\n",
    "## 2: Examining the Business Data\n",
    "\n",
    "From its name alone, we expect the `businesses.csv` file to contain information about the restaurants. Let's investigate the granularity of this dataset."
   ]
  },
  {
   "cell_type": "markdown",
   "metadata": {
    "deletable": false,
    "editable": false,
    "nbgrader": {
     "grade": false,
     "grade_id": "q2a",
     "locked": true,
     "schema_version": 2,
     "solution": false
    }
   },
   "source": [
    "### Question 2a\n",
    "\n",
    "Examining the entries in `bus`, is the `business_id` unique for each record that is each row of data? Your code should compute the answer, i.e. don't just hard code `True` or `False`.\n",
    "\n",
    "Hint: use `value_counts()` or `unique()` to determine if the `business_id` series has any duplicates.\n",
    "\n",
    "<!--\n",
    "BEGIN QUESTION\n",
    "name: q2a\n",
    "points: 1\n",
    "-->"
   ]
  },
  {
   "cell_type": "code",
   "execution_count": 19,
   "metadata": {
    "ExecuteTime": {
     "end_time": "2018-08-18T01:21:53.936572Z",
     "start_time": "2018-08-18T01:21:53.927344Z"
    },
    "nbgrader": {
     "grade": false,
     "grade_id": "q2a-answer",
     "locked": false,
     "schema_version": 2,
     "solution": true
    },
    "tags": [
     "solution"
    ]
   },
   "outputs": [
    {
     "data": {
      "text/plain": [
       "True"
      ]
     },
     "execution_count": 19,
     "metadata": {},
     "output_type": "execute_result"
    }
   ],
   "source": [
    "is_business_id_unique =  len(bus['business_id']) == len(bus['business_id'].value_counts())\n",
    "is_business_id_unique"
   ]
  },
  {
   "cell_type": "code",
   "execution_count": 20,
   "metadata": {
    "deletable": false,
    "editable": false
   },
   "outputs": [
    {
     "name": "stdout",
     "output_type": "stream",
     "text": [
      "~~~~~~~~~~~~~~~~~~~~~~~~~~~~~~~~~~~~~~~~~~~~~~~~~~~~~~~~~~~~~~~~~~~~~\n",
      "Running tests\n",
      "\n",
      "---------------------------------------------------------------------\n",
      "Test summary\n",
      "    Passed: 2\n",
      "    Failed: 0\n",
      "[ooooooooook] 100.0% passed\n",
      "\n"
     ]
    }
   ],
   "source": [
    "ok.grade(\"q2a\");"
   ]
  },
  {
   "cell_type": "markdown",
   "metadata": {
    "deletable": false,
    "editable": false,
    "nbgrader": {
     "grade": false,
     "grade_id": "q2b",
     "locked": true,
     "schema_version": 2,
     "solution": false
    },
    "tags": [
     "written"
    ]
   },
   "source": [
    "### Question 2b\n",
    "\n",
    "With this information, you can address the question of granularity. Answer the questions below.\n",
    "\n",
    "1. What does each record represent (e.g., a business, a restaurant, a location, etc.)?  \n",
    "1. What is the primary key?\n",
    "1. What would you find by grouping by the following columns: `business_id`, `name`, `address` each individually?\n",
    "\n",
    "Please write your answer in the markdown cell below. You may create new cells below your answer to run code, but **please never add cells between a question cell and the answer cell below it.**\n",
    "\n",
    "<!--\n",
    "BEGIN QUESTION\n",
    "name: q2b\n",
    "points: 2\n",
    "manual: True\n",
    "-->\n",
    "<!-- EXPORT TO PDF -->"
   ]
  },
  {
   "cell_type": "markdown",
   "metadata": {
    "ExecuteTime": {
     "end_time": "2018-08-18T01:21:53.993138Z",
     "start_time": "2018-08-18T01:21:53.989070Z"
    },
    "nbgrader": {
     "grade": true,
     "grade_id": "q2b-answer",
     "locked": false,
     "points": 2,
     "schema_version": 2,
     "solution": true
    },
    "tags": [
     "student",
     "written"
    ]
   },
   "source": [
    "1. Each record represents the name of a restaurant, its location, and its phone number.\n",
    "2. The primary key of the dataframe is the `business_id`\n",
    "3. When group by the `business_id`, the dataframe should not change beacuse that is how it is originally grouped. When you group by `name`, it will group by the restaurants with the same name. Similarly, if you group by `address`, it will group together the restaurants with the same address."
   ]
  },
  {
   "cell_type": "code",
   "execution_count": 21,
   "metadata": {
    "ExecuteTime": {
     "end_time": "2018-08-18T01:21:53.987051Z",
     "start_time": "2018-08-18T01:21:53.949344Z"
    },
    "nbgrader": {
     "grade": false,
     "grade_id": "cell-d5e152552a41e14d",
     "locked": false,
     "schema_version": 2,
     "solution": true
    },
    "tags": [
     "student"
    ]
   },
   "outputs": [
    {
     "data": {
      "text/html": [
       "<div>\n",
       "<style scoped>\n",
       "    .dataframe tbody tr th:only-of-type {\n",
       "        vertical-align: middle;\n",
       "    }\n",
       "\n",
       "    .dataframe tbody tr th {\n",
       "        vertical-align: top;\n",
       "    }\n",
       "\n",
       "    .dataframe thead th {\n",
       "        text-align: right;\n",
       "    }\n",
       "</style>\n",
       "<table border=\"1\" class=\"dataframe\">\n",
       "  <thead>\n",
       "    <tr style=\"text-align: right;\">\n",
       "      <th></th>\n",
       "      <th>business_id</th>\n",
       "      <th>name</th>\n",
       "      <th>address</th>\n",
       "      <th>city</th>\n",
       "      <th>state</th>\n",
       "      <th>postal_code</th>\n",
       "      <th>latitude</th>\n",
       "      <th>longitude</th>\n",
       "      <th>phone_number</th>\n",
       "    </tr>\n",
       "  </thead>\n",
       "  <tbody>\n",
       "    <tr>\n",
       "      <th>0</th>\n",
       "      <td>19</td>\n",
       "      <td>NRGIZE LIFESTYLE CAFE</td>\n",
       "      <td>1200 VAN NESS AVE, 3RD FLOOR</td>\n",
       "      <td>San Francisco</td>\n",
       "      <td>CA</td>\n",
       "      <td>94109</td>\n",
       "      <td>37.786848</td>\n",
       "      <td>-122.421547</td>\n",
       "      <td>+14157763262</td>\n",
       "    </tr>\n",
       "    <tr>\n",
       "      <th>1</th>\n",
       "      <td>24</td>\n",
       "      <td>OMNI S.F. HOTEL - 2ND FLOOR PANTRY</td>\n",
       "      <td>500 CALIFORNIA ST, 2ND  FLOOR</td>\n",
       "      <td>San Francisco</td>\n",
       "      <td>CA</td>\n",
       "      <td>94104</td>\n",
       "      <td>37.792888</td>\n",
       "      <td>-122.403135</td>\n",
       "      <td>+14156779494</td>\n",
       "    </tr>\n",
       "    <tr>\n",
       "      <th>2</th>\n",
       "      <td>31</td>\n",
       "      <td>NORMAN'S ICE CREAM AND FREEZES</td>\n",
       "      <td>2801 LEAVENWORTH ST</td>\n",
       "      <td>San Francisco</td>\n",
       "      <td>CA</td>\n",
       "      <td>94133</td>\n",
       "      <td>37.807155</td>\n",
       "      <td>-122.419004</td>\n",
       "      <td>NaN</td>\n",
       "    </tr>\n",
       "    <tr>\n",
       "      <th>3</th>\n",
       "      <td>45</td>\n",
       "      <td>CHARLIE'S DELI CAFE</td>\n",
       "      <td>3202 FOLSOM ST</td>\n",
       "      <td>San Francisco</td>\n",
       "      <td>CA</td>\n",
       "      <td>94110</td>\n",
       "      <td>37.747114</td>\n",
       "      <td>-122.413641</td>\n",
       "      <td>+14156415051</td>\n",
       "    </tr>\n",
       "    <tr>\n",
       "      <th>4</th>\n",
       "      <td>48</td>\n",
       "      <td>ART'S CAFE</td>\n",
       "      <td>747 IRVING ST</td>\n",
       "      <td>San Francisco</td>\n",
       "      <td>CA</td>\n",
       "      <td>94122</td>\n",
       "      <td>37.764013</td>\n",
       "      <td>-122.465749</td>\n",
       "      <td>+14156657440</td>\n",
       "    </tr>\n",
       "  </tbody>\n",
       "</table>\n",
       "</div>"
      ],
      "text/plain": [
       "   business_id                                name  \\\n",
       "0           19               NRGIZE LIFESTYLE CAFE   \n",
       "1           24  OMNI S.F. HOTEL - 2ND FLOOR PANTRY   \n",
       "2           31      NORMAN'S ICE CREAM AND FREEZES   \n",
       "3           45                 CHARLIE'S DELI CAFE   \n",
       "4           48                          ART'S CAFE   \n",
       "\n",
       "                         address           city state postal_code   latitude  \\\n",
       "0   1200 VAN NESS AVE, 3RD FLOOR  San Francisco    CA       94109  37.786848   \n",
       "1  500 CALIFORNIA ST, 2ND  FLOOR  San Francisco    CA       94104  37.792888   \n",
       "2           2801 LEAVENWORTH ST   San Francisco    CA       94133  37.807155   \n",
       "3                3202 FOLSOM ST   San Francisco    CA       94110  37.747114   \n",
       "4                 747 IRVING ST   San Francisco    CA       94122  37.764013   \n",
       "\n",
       "    longitude  phone_number  \n",
       "0 -122.421547  +14157763262  \n",
       "1 -122.403135  +14156779494  \n",
       "2 -122.419004           NaN  \n",
       "3 -122.413641  +14156415051  \n",
       "4 -122.465749  +14156657440  "
      ]
     },
     "execution_count": 21,
     "metadata": {},
     "output_type": "execute_result"
    }
   ],
   "source": [
    "bus.head()"
   ]
  },
  {
   "cell_type": "markdown",
   "metadata": {
    "deletable": false,
    "editable": false,
    "nbgrader": {
     "grade": false,
     "grade_id": "q3a",
     "locked": true,
     "schema_version": 2,
     "solution": false
    },
    "tags": [
     "written"
    ]
   },
   "source": [
    "---\n",
    "## 3: Zip Codes\n",
    "\n",
    "Next, let's  explore some of the variables in the business table. We begin by examining the postal code.\n",
    "\n",
    "### Question 3a\n",
    "\n",
    "Answer the following questions about the `postal code` column in the `bus` data frame?  \n",
    "1. Are ZIP codes quantitative or qualitative? If qualitative, is it ordinal or nominal? \n",
    "1. What data type is used to represent a ZIP code?\n",
    "\n",
    "*Note*: ZIP codes and postal codes are the same thing.\n",
    "\n",
    "<!--\n",
    "BEGIN QUESTION\n",
    "name: q3a\n",
    "points: 2\n",
    "manual: True\n",
    "-->\n",
    "<!-- EXPORT TO PDF -->"
   ]
  },
  {
   "cell_type": "markdown",
   "metadata": {
    "ExecuteTime": {
     "end_time": "2018-08-18T01:21:54.015633Z",
     "start_time": "2018-08-18T01:21:54.007576Z"
    },
    "nbgrader": {
     "grade": true,
     "grade_id": "q3a-answer",
     "locked": false,
     "points": 2,
     "schema_version": 2,
     "solution": true
    },
    "tags": [
     "student",
     "written"
    ]
   },
   "source": [
    "1. The ZIP codes are qualitative and nominal. \n",
    "2. The data type used to represent the ZIP codes are strings."
   ]
  },
  {
   "cell_type": "code",
   "execution_count": 22,
   "metadata": {},
   "outputs": [
    {
     "data": {
      "text/plain": [
       "str"
      ]
     },
     "execution_count": 22,
     "metadata": {},
     "output_type": "execute_result"
    }
   ],
   "source": [
    "type(bus['postal_code'][0])"
   ]
  },
  {
   "cell_type": "markdown",
   "metadata": {
    "deletable": false,
    "editable": false,
    "nbgrader": {
     "grade": false,
     "grade_id": "cell-a4c4a09f1ecf2f4b",
     "locked": true,
     "schema_version": 2,
     "solution": false
    }
   },
   "source": [
    "### Question 3b\n",
    "\n",
    "How many restaurants are in each ZIP code? \n",
    "\n",
    "In the cell below, create a series where the index is the postal code and the value is the number of records with that postal code in descending order of count. 94110 should be at the top with a count of 596. You'll need to use `groupby()`. You may also want to use `.size()` or `.value_counts()`. \n",
    "\n",
    "<!--\n",
    "BEGIN QUESTION\n",
    "name: q3b\n",
    "points: 0\n",
    "-->"
   ]
  },
  {
   "cell_type": "code",
   "execution_count": 23,
   "metadata": {
    "nbgrader": {
     "grade": false,
     "grade_id": "cell-d2151d673e6c36a1",
     "locked": false,
     "schema_version": 2,
     "solution": true
    }
   },
   "outputs": [
    {
     "data": {
      "text/plain": [
       "postal_code\n",
       "94110    596\n",
       "94103    552\n",
       "94102    462\n",
       "94107    460\n",
       "94133    426\n",
       "dtype: int64"
      ]
     },
     "execution_count": 23,
     "metadata": {},
     "output_type": "execute_result"
    }
   ],
   "source": [
    "zip_counts = bus.groupby('postal_code').size()\n",
    "zip_counts = zip_counts.sort_values(ascending=False)\n",
    "zip_counts.head()"
   ]
  },
  {
   "cell_type": "markdown",
   "metadata": {
    "nbgrader": {
     "grade": false,
     "grade_id": "cell-bf6a7fc2384bf533",
     "locked": true,
     "schema_version": 2,
     "solution": false
    }
   },
   "source": [
    "Did you take into account that some businesses have missing ZIP codes?"
   ]
  },
  {
   "cell_type": "code",
   "execution_count": 24,
   "metadata": {},
   "outputs": [
    {
     "name": "stdout",
     "output_type": "stream",
     "text": [
      "zip_counts describes 6166 records.\n",
      "The original data have 6406 records\n"
     ]
    }
   ],
   "source": [
    "print('zip_counts describes', sum(zip_counts), 'records.')\n",
    "print('The original data have', len(bus), 'records')"
   ]
  },
  {
   "cell_type": "markdown",
   "metadata": {
    "nbgrader": {
     "grade": false,
     "grade_id": "cell-5ee47d11c7068c13",
     "locked": true,
     "schema_version": 2,
     "solution": false
    }
   },
   "source": [
    "Missing data is extremely common in real-world data science projects. There are several ways to include missing postal codes in the `zip_counts` series above. One approach is to use the `fillna` method of the series, which will replace all null (a.k.a. NaN) values with a string of our choosing. In the example below, we picked \"?????\". When you run the code below, you should see that there are 240 businesses with missing zip code."
   ]
  },
  {
   "cell_type": "code",
   "execution_count": 25,
   "metadata": {
    "nbgrader": {
     "grade": false,
     "grade_id": "cell-e7169177fd00d200",
     "locked": true,
     "schema_version": 2,
     "solution": false
    },
    "scrolled": false
   },
   "outputs": [
    {
     "data": {
      "text/plain": [
       "postal_code\n",
       "94110    596\n",
       "94103    552\n",
       "94102    462\n",
       "94107    460\n",
       "94133    426\n",
       "94109    380\n",
       "94111    277\n",
       "94122    273\n",
       "94118    249\n",
       "94115    243\n",
       "?????    240\n",
       "94105    232\n",
       "94108    228\n",
       "94114    223\n",
       "94117    204\n",
       "dtype: int64"
      ]
     },
     "execution_count": 25,
     "metadata": {},
     "output_type": "execute_result"
    }
   ],
   "source": [
    "zip_counts = bus.fillna(\"?????\").groupby(\"postal_code\").size().sort_values(ascending=False)\n",
    "zip_counts.head(15)"
   ]
  },
  {
   "cell_type": "markdown",
   "metadata": {
    "nbgrader": {
     "grade": false,
     "grade_id": "cell-3d7c3379cb7dc256",
     "locked": true,
     "schema_version": 2,
     "solution": false
    }
   },
   "source": [
    "An alternate approach is to use the DataFrame `value_counts` method with the optional argument `dropna=False`, which will ensure that null values are counted. In this case, the index will be `NaN` for the row corresponding to a null postal code."
   ]
  },
  {
   "cell_type": "code",
   "execution_count": 26,
   "metadata": {
    "nbgrader": {
     "grade": false,
     "grade_id": "cell-28eecc6664aa9bf2",
     "locked": true,
     "schema_version": 2,
     "solution": false
    }
   },
   "outputs": [
    {
     "data": {
      "text/plain": [
       "94110    596\n",
       "94103    552\n",
       "94102    462\n",
       "94107    460\n",
       "94133    426\n",
       "94109    380\n",
       "94111    277\n",
       "94122    273\n",
       "94118    249\n",
       "94115    243\n",
       "NaN      240\n",
       "94105    232\n",
       "94108    228\n",
       "94114    223\n",
       "94117    204\n",
       "Name: postal_code, dtype: int64"
      ]
     },
     "execution_count": 26,
     "metadata": {},
     "output_type": "execute_result"
    }
   ],
   "source": [
    "bus[\"postal_code\"].value_counts(dropna=False).sort_values(ascending = False).head(15)"
   ]
  },
  {
   "cell_type": "markdown",
   "metadata": {
    "nbgrader": {
     "grade": false,
     "grade_id": "zipcode-details",
     "locked": true,
     "schema_version": 2,
     "solution": false
    }
   },
   "source": [
    "Missing zip codes aren't our only problem. There are also some records where the postal code is wrong, e.g., there are 3 'Ca' and 3 'CA' values. Additionally, there are some extended postal codes that are 9 digits long, rather than the typical 5 digits. We will dive deeper into problems with postal code entries in subsequent questions. \n",
    "\n",
    "For now, let's clean up the extended zip codes by dropping the digits beyond the first 5. Rather than deleting or replacing the old values in the `postal_code` columnm, we'll instead create a new column called `postal_code_5`.\n",
    "\n",
    "The reason we're making a new column is that it's typically good practice to keep the original values when we are manipulating data. This makes it easier to recover from mistakes, and also makes it more clear that we are not working with the original raw data."
   ]
  },
  {
   "cell_type": "code",
   "execution_count": 27,
   "metadata": {
    "ExecuteTime": {
     "end_time": "2018-08-18T01:21:54.070634Z",
     "start_time": "2018-08-18T01:21:54.061377Z"
    },
    "nbgrader": {
     "grade": false,
     "grade_id": "run-me",
     "locked": true,
     "schema_version": 2,
     "solution": false
    },
    "scrolled": true
   },
   "outputs": [
    {
     "data": {
      "text/html": [
       "<div>\n",
       "<style scoped>\n",
       "    .dataframe tbody tr th:only-of-type {\n",
       "        vertical-align: middle;\n",
       "    }\n",
       "\n",
       "    .dataframe tbody tr th {\n",
       "        vertical-align: top;\n",
       "    }\n",
       "\n",
       "    .dataframe thead th {\n",
       "        text-align: right;\n",
       "    }\n",
       "</style>\n",
       "<table border=\"1\" class=\"dataframe\">\n",
       "  <thead>\n",
       "    <tr style=\"text-align: right;\">\n",
       "      <th></th>\n",
       "      <th>business_id</th>\n",
       "      <th>name</th>\n",
       "      <th>address</th>\n",
       "      <th>city</th>\n",
       "      <th>state</th>\n",
       "      <th>postal_code</th>\n",
       "      <th>latitude</th>\n",
       "      <th>longitude</th>\n",
       "      <th>phone_number</th>\n",
       "      <th>postal_code_5</th>\n",
       "    </tr>\n",
       "  </thead>\n",
       "  <tbody>\n",
       "    <tr>\n",
       "      <th>0</th>\n",
       "      <td>19</td>\n",
       "      <td>NRGIZE LIFESTYLE CAFE</td>\n",
       "      <td>1200 VAN NESS AVE, 3RD FLOOR</td>\n",
       "      <td>San Francisco</td>\n",
       "      <td>CA</td>\n",
       "      <td>94109</td>\n",
       "      <td>37.786848</td>\n",
       "      <td>-122.421547</td>\n",
       "      <td>+14157763262</td>\n",
       "      <td>94109</td>\n",
       "    </tr>\n",
       "    <tr>\n",
       "      <th>1</th>\n",
       "      <td>24</td>\n",
       "      <td>OMNI S.F. HOTEL - 2ND FLOOR PANTRY</td>\n",
       "      <td>500 CALIFORNIA ST, 2ND  FLOOR</td>\n",
       "      <td>San Francisco</td>\n",
       "      <td>CA</td>\n",
       "      <td>94104</td>\n",
       "      <td>37.792888</td>\n",
       "      <td>-122.403135</td>\n",
       "      <td>+14156779494</td>\n",
       "      <td>94104</td>\n",
       "    </tr>\n",
       "    <tr>\n",
       "      <th>2</th>\n",
       "      <td>31</td>\n",
       "      <td>NORMAN'S ICE CREAM AND FREEZES</td>\n",
       "      <td>2801 LEAVENWORTH ST</td>\n",
       "      <td>San Francisco</td>\n",
       "      <td>CA</td>\n",
       "      <td>94133</td>\n",
       "      <td>37.807155</td>\n",
       "      <td>-122.419004</td>\n",
       "      <td>NaN</td>\n",
       "      <td>94133</td>\n",
       "    </tr>\n",
       "    <tr>\n",
       "      <th>3</th>\n",
       "      <td>45</td>\n",
       "      <td>CHARLIE'S DELI CAFE</td>\n",
       "      <td>3202 FOLSOM ST</td>\n",
       "      <td>San Francisco</td>\n",
       "      <td>CA</td>\n",
       "      <td>94110</td>\n",
       "      <td>37.747114</td>\n",
       "      <td>-122.413641</td>\n",
       "      <td>+14156415051</td>\n",
       "      <td>94110</td>\n",
       "    </tr>\n",
       "    <tr>\n",
       "      <th>4</th>\n",
       "      <td>48</td>\n",
       "      <td>ART'S CAFE</td>\n",
       "      <td>747 IRVING ST</td>\n",
       "      <td>San Francisco</td>\n",
       "      <td>CA</td>\n",
       "      <td>94122</td>\n",
       "      <td>37.764013</td>\n",
       "      <td>-122.465749</td>\n",
       "      <td>+14156657440</td>\n",
       "      <td>94122</td>\n",
       "    </tr>\n",
       "  </tbody>\n",
       "</table>\n",
       "</div>"
      ],
      "text/plain": [
       "   business_id                                name  \\\n",
       "0           19               NRGIZE LIFESTYLE CAFE   \n",
       "1           24  OMNI S.F. HOTEL - 2ND FLOOR PANTRY   \n",
       "2           31      NORMAN'S ICE CREAM AND FREEZES   \n",
       "3           45                 CHARLIE'S DELI CAFE   \n",
       "4           48                          ART'S CAFE   \n",
       "\n",
       "                         address           city state postal_code   latitude  \\\n",
       "0   1200 VAN NESS AVE, 3RD FLOOR  San Francisco    CA       94109  37.786848   \n",
       "1  500 CALIFORNIA ST, 2ND  FLOOR  San Francisco    CA       94104  37.792888   \n",
       "2           2801 LEAVENWORTH ST   San Francisco    CA       94133  37.807155   \n",
       "3                3202 FOLSOM ST   San Francisco    CA       94110  37.747114   \n",
       "4                 747 IRVING ST   San Francisco    CA       94122  37.764013   \n",
       "\n",
       "    longitude  phone_number postal_code_5  \n",
       "0 -122.421547  +14157763262         94109  \n",
       "1 -122.403135  +14156779494         94104  \n",
       "2 -122.419004           NaN         94133  \n",
       "3 -122.413641  +14156415051         94110  \n",
       "4 -122.465749  +14156657440         94122  "
      ]
     },
     "execution_count": 27,
     "metadata": {},
     "output_type": "execute_result"
    }
   ],
   "source": [
    "bus['postal_code_5'] = bus['postal_code'].str[:5]\n",
    "bus.head()"
   ]
  },
  {
   "cell_type": "markdown",
   "metadata": {
    "deletable": false,
    "editable": false,
    "nbgrader": {
     "grade": false,
     "grade_id": "q3c",
     "locked": true,
     "schema_version": 2,
     "solution": false
    },
    "tags": [
     "written"
    ]
   },
   "source": [
    "### Question 3c : A Closer Look at Missing ZIP Codes\n",
    "\n",
    "Let's look more closely at records with missing ZIP codes. Describe why some records have missing postal codes.  Pay attention to their addresses. You will need to look at many entries, not just the first five.\n",
    "\n",
    "*Hint*: The `isnull` method of a series returns a boolean series which is true only for entries in the original series that were missing.\n",
    "\n",
    "<!--\n",
    "BEGIN QUESTION\n",
    "name: q3c\n",
    "points: 2\n",
    "manual: True\n",
    "-->\n",
    "<!-- EXPORT TO PDF -->"
   ]
  },
  {
   "cell_type": "markdown",
   "metadata": {
    "ExecuteTime": {
     "end_time": "2018-08-18T01:21:54.079907Z",
     "start_time": "2018-08-18T01:21:54.072706Z"
    },
    "nbgrader": {
     "grade": true,
     "grade_id": "q3c-answer",
     "locked": false,
     "points": 2,
     "schema_version": 2,
     "solution": true
    },
    "tags": [
     "student",
     "written"
    ]
   },
   "source": [
    "A majority of records with missing postal codes is found with addresses with the name \"OFF THE  GRID\". This would make sense because a place that is off the grid will probably not have a postal code."
   ]
  },
  {
   "cell_type": "code",
   "execution_count": 28,
   "metadata": {},
   "outputs": [
    {
     "data": {
      "text/plain": [
       " OFF THE GRID                         69\n",
       " APPROVED PRIVATE LOCATIONS            6\n",
       " APPROVED LOCATIONS                    4\n",
       " OTG                                   2\n",
       "428 11TH ST                            2\n",
       "                                      ..\n",
       " MISSION ST, BETW 10TH & 11TH ST       1\n",
       "842 GEARY ST                           1\n",
       "450 CHURCH ST                          1\n",
       "255 WINSTON ST                         1\n",
       "170 O'FARRELL ST                       1\n",
       "Name: address, Length: 159, dtype: int64"
      ]
     },
     "execution_count": 28,
     "metadata": {},
     "output_type": "execute_result"
    }
   ],
   "source": [
    "bus_null = bus[bus['postal_code'].isnull()]\n",
    "bus_null['address'].value_counts()"
   ]
  },
  {
   "cell_type": "markdown",
   "metadata": {
    "nbgrader": {
     "grade": false,
     "grade_id": "q3d",
     "locked": true,
     "schema_version": 2,
     "solution": false
    }
   },
   "source": [
    "### Question 3d: Incorrect ZIP Codes"
   ]
  },
  {
   "cell_type": "markdown",
   "metadata": {
    "nbgrader": {
     "grade": false,
     "grade_id": "cell-e48949d5308e5f4b",
     "locked": true,
     "schema_version": 2,
     "solution": false
    }
   },
   "source": [
    "This dataset is supposed to be only about San Francisco, so let's set up a list of all San Francisco ZIP codes."
   ]
  },
  {
   "cell_type": "code",
   "execution_count": 29,
   "metadata": {
    "nbgrader": {
     "grade": false,
     "grade_id": "cell-6e48f854beb16cbb",
     "locked": true,
     "schema_version": 2,
     "solution": false
    }
   },
   "outputs": [],
   "source": [
    "all_sf_zip_codes = [\"94102\", \"94103\", \"94104\", \"94105\", \"94107\", \"94108\", \n",
    "                    \"94109\", \"94110\", \"94111\", \"94112\", \"94114\", \"94115\", \n",
    "                    \"94116\", \"94117\", \"94118\", \"94119\", \"94120\", \"94121\", \n",
    "                    \"94122\", \"94123\", \"94124\", \"94125\", \"94126\", \"94127\", \n",
    "                    \"94128\", \"94129\", \"94130\", \"94131\", \"94132\", \"94133\", \n",
    "                    \"94134\", \"94137\", \"94139\", \"94140\", \"94141\", \"94142\", \n",
    "                    \"94143\", \"94144\", \"94145\", \"94146\", \"94147\", \"94151\", \n",
    "                    \"94158\", \"94159\", \"94160\", \"94161\", \"94163\", \"94164\", \n",
    "                    \"94172\", \"94177\", \"94188\"]"
   ]
  },
  {
   "cell_type": "markdown",
   "metadata": {
    "deletable": false,
    "editable": false,
    "nbgrader": {
     "grade": false,
     "grade_id": "cell-57244ec02a330146",
     "locked": true,
     "schema_version": 2,
     "solution": false
    }
   },
   "source": [
    "Set `weird_zip_code_businesses` equal to a new dataframe that contains only rows corresponding to ZIP codes that are 'weird'. We define weird as any zip code which has both of the following 2 properties: \n",
    "\n",
    "1. The zip code is not valid: Either not 5-digit long or not a San Francisco zip code.\n",
    "\n",
    "2. The zip is not missing. \n",
    "\n",
    "Use the `postal_code_5` column.\n",
    "\n",
    "*Hint*: The `~` operator inverts a boolean array. Use in conjunction with `isin` from lecture 3.\n",
    "\n",
    "<!--\n",
    "BEGIN QUESTION\n",
    "name: q3d1\n",
    "points: 0\n",
    "-->"
   ]
  },
  {
   "cell_type": "code",
   "execution_count": 30,
   "metadata": {
    "nbgrader": {
     "grade": false,
     "grade_id": "cell-c5f486cab68d56a0",
     "locked": false,
     "schema_version": 2,
     "solution": true
    },
    "scrolled": true
   },
   "outputs": [
    {
     "data": {
      "text/plain": [
       "1211      941\n",
       "1372    94545\n",
       "1373    94066\n",
       "2258    95105\n",
       "2293    94013\n",
       "2295    94013\n",
       "2846       CA\n",
       "2852    92672\n",
       "2857       CA\n",
       "2969    94101\n",
       "3142    00000\n",
       "3665    94621\n",
       "3758    94014\n",
       "4853    94101\n",
       "5060    94602\n",
       "5325    94014\n",
       "5480       Ca\n",
       "5894    94080\n",
       "6002    00000\n",
       "6130    64110\n",
       "6300    94544\n",
       "Name: postal_code_5, dtype: object"
      ]
     },
     "execution_count": 30,
     "metadata": {},
     "output_type": "execute_result"
    }
   ],
   "source": [
    "weird_zip_code_businesses = bus[(~bus['postal_code_5'].isnull()) & (~bus['postal_code_5'].isin(all_sf_zip_codes))]\n",
    "weird_zip_code_businesses['postal_code_5']"
   ]
  },
  {
   "cell_type": "markdown",
   "metadata": {
    "deletable": false,
    "editable": false,
    "nbgrader": {
     "grade": false,
     "grade_id": "cell-98f842a32db99f23",
     "locked": true,
     "schema_version": 2,
     "solution": false
    }
   },
   "source": [
    "If we were doing very serious data analysis, we might indivdually look up every one of these strange records. Let's focus on just two of them: ZIP codes 94545 and 94602. Use a search engine to identify what cities these ZIP codes appear in. Try to explain why you think these two ZIP codes appear in your dataframe. For the one with ZIP code 94602, try searching for the business name and locate its real address.\n",
    "<!--\n",
    "BEGIN QUESTION\n",
    "name: q3d2\n",
    "points: 1\n",
    "manual: True\n",
    "-->\n",
    "<!-- EXPORT TO PDF -->"
   ]
  },
  {
   "cell_type": "code",
   "execution_count": 31,
   "metadata": {},
   "outputs": [
    {
     "data": {
      "text/plain": [
       "(business_id                         5755\n",
       " name                       J & J VENDING\n",
       " address          VARIOUS LOACATIONS (17)\n",
       " city                       San Francisco\n",
       " state                                 CA\n",
       " postal_code                        94545\n",
       " latitude                             NaN\n",
       " longitude                            NaN\n",
       " phone_number                +14156750910\n",
       " postal_code_5                      94545\n",
       " Name: 1372, dtype: object, business_id                85459\n",
       " name                  ORBIT ROOM\n",
       " address          1900 MARKET ST \n",
       " city               San Francisco\n",
       " state                         CA\n",
       " postal_code                94602\n",
       " latitude                     NaN\n",
       " longitude                    NaN\n",
       " phone_number        +14153705584\n",
       " postal_code_5              94602\n",
       " Name: 5060, dtype: object)"
      ]
     },
     "execution_count": 31,
     "metadata": {},
     "output_type": "execute_result"
    }
   ],
   "source": [
    "bus.loc[1372,:], bus.loc[5060,:]"
   ]
  },
  {
   "cell_type": "code",
   "execution_count": 32,
   "metadata": {},
   "outputs": [
    {
     "data": {
      "text/plain": [
       "'For the ZIP code 94602, I searched the address 1900 Market street, and found the zip code to be 94102. Thus, this could be an error and the zipcode should be 94102.'"
      ]
     },
     "execution_count": 32,
     "metadata": {},
     "output_type": "execute_result"
    }
   ],
   "source": [
    "'For the ZIP code 94545, the restaurant is J&J vending, so they appear because they are vending machines'\n",
    "'For the ZIP code 94602, I searched the address 1900 Market street, and found the zip code to be 94102. Thus, this could be an error and the zipcode should be 94102.'"
   ]
  },
  {
   "cell_type": "markdown",
   "metadata": {
    "deletable": false,
    "editable": false,
    "nbgrader": {
     "grade": false,
     "grade_id": "cell-92663ead60440a42",
     "locked": true,
     "schema_version": 2,
     "solution": false
    }
   },
   "source": [
    "### Question 3e\n",
    "\n",
    "We often want to clean the data to improve our analysis. This cleaning might include changing values for a variable or dropping records.\n",
    "\n",
    "The value 94602 is wrong. Change it to the most reasonable correct value, using all information you have available from your internet search for real world business. Modify the `postal_code_5` field using `bus['postal_code_5'].str.replace` to replace 94602.\n",
    "\n",
    "<!--\n",
    "BEGIN QUESTION\n",
    "name: q3e\n",
    "points: 1\n",
    "-->"
   ]
  },
  {
   "cell_type": "code",
   "execution_count": 33,
   "metadata": {
    "nbgrader": {
     "grade": false,
     "grade_id": "cell-2128312ebada9d3c",
     "locked": false,
     "schema_version": 2,
     "solution": true
    }
   },
   "outputs": [],
   "source": [
    "# WARNING: Be careful when uncommenting the line below, it will set the entire column to NaN unless you \n",
    "# put something to the right of the ellipses.\n",
    "bus['postal_code_5'] = bus['postal_code_5'].str.replace('94602', '94102')"
   ]
  },
  {
   "cell_type": "code",
   "execution_count": 34,
   "metadata": {
    "deletable": false,
    "editable": false
   },
   "outputs": [
    {
     "name": "stdout",
     "output_type": "stream",
     "text": [
      "~~~~~~~~~~~~~~~~~~~~~~~~~~~~~~~~~~~~~~~~~~~~~~~~~~~~~~~~~~~~~~~~~~~~~\n",
      "Running tests\n",
      "\n",
      "---------------------------------------------------------------------\n",
      "Test summary\n",
      "    Passed: 1\n",
      "    Failed: 0\n",
      "[ooooooooook] 100.0% passed\n",
      "\n"
     ]
    }
   ],
   "source": [
    "ok.grade(\"q3e\");"
   ]
  },
  {
   "cell_type": "markdown",
   "metadata": {
    "deletable": false,
    "editable": false
   },
   "source": [
    "### Question 3f\n",
    "\n",
    "Now that we have corrected one of the weird postal codes, let's filter our `bus` data such that only postal codes from San Francisco remain. While we're at it, we'll also remove the businesses that are missing a postal code. As we mentioned in question 3d, filtering our postal codes in this way may not be ideal. (Fortunately, this is just a course assignment.) Use the `postal_code_5` column.\n",
    "\n",
    "Assign `bus` to a new dataframe that has the same columns but only the rows with ZIP codes in San Francisco.\n",
    "\n",
    "<!--\n",
    "BEGIN QUESTION\n",
    "name: q3f\n",
    "points: 1\n",
    "-->"
   ]
  },
  {
   "cell_type": "code",
   "execution_count": 35,
   "metadata": {},
   "outputs": [],
   "source": [
    "bus = bus[(~bus['postal_code_5'].isnull()) & (bus['postal_code_5'].isin(all_sf_zip_codes))]"
   ]
  },
  {
   "cell_type": "code",
   "execution_count": 36,
   "metadata": {
    "deletable": false,
    "editable": false
   },
   "outputs": [
    {
     "name": "stdout",
     "output_type": "stream",
     "text": [
      "~~~~~~~~~~~~~~~~~~~~~~~~~~~~~~~~~~~~~~~~~~~~~~~~~~~~~~~~~~~~~~~~~~~~~\n",
      "Running tests\n",
      "\n",
      "---------------------------------------------------------------------\n",
      "Test summary\n",
      "    Passed: 1\n",
      "    Failed: 0\n",
      "[ooooooooook] 100.0% passed\n",
      "\n"
     ]
    }
   ],
   "source": [
    "ok.grade(\"q3f\");"
   ]
  },
  {
   "cell_type": "markdown",
   "metadata": {
    "deletable": false,
    "editable": false,
    "nbgrader": {
     "grade": false,
     "grade_id": "q4a",
     "locked": true,
     "schema_version": 2,
     "solution": false
    }
   },
   "source": [
    "---\n",
    "## 4: Latitude and Longitude\n",
    "\n",
    "Let's also consider latitude and longitude values in the `bus` data frame and get a sense of how many are missing.\n",
    "\n",
    "### Question 4a\n",
    "\n",
    "How many businesses are missing longitude values?\n",
    "\n",
    "*Hint*: Use `isnull`.\n",
    "\n",
    "<!--\n",
    "BEGIN QUESTION\n",
    "name: q4a1\n",
    "points: 1\n",
    "-->"
   ]
  },
  {
   "cell_type": "code",
   "execution_count": 37,
   "metadata": {
    "ExecuteTime": {
     "end_time": "2018-08-18T01:21:54.132374Z",
     "start_time": "2018-08-18T01:21:54.123081Z"
    },
    "nbgrader": {
     "grade": false,
     "grade_id": "q4a-answer",
     "locked": false,
     "schema_version": 2,
     "solution": true
    },
    "tags": [
     "student"
    ]
   },
   "outputs": [
    {
     "data": {
      "text/plain": [
       "2942"
      ]
     },
     "execution_count": 37,
     "metadata": {},
     "output_type": "execute_result"
    }
   ],
   "source": [
    "num_missing_longs = sum(bus['longitude'].isnull())\n",
    "num_missing_longs"
   ]
  },
  {
   "cell_type": "code",
   "execution_count": 38,
   "metadata": {
    "deletable": false,
    "editable": false
   },
   "outputs": [
    {
     "name": "stdout",
     "output_type": "stream",
     "text": [
      "~~~~~~~~~~~~~~~~~~~~~~~~~~~~~~~~~~~~~~~~~~~~~~~~~~~~~~~~~~~~~~~~~~~~~\n",
      "Running tests\n",
      "\n",
      "---------------------------------------------------------------------\n",
      "Test summary\n",
      "    Passed: 1\n",
      "    Failed: 0\n",
      "[ooooooooook] 100.0% passed\n",
      "\n"
     ]
    }
   ],
   "source": [
    "ok.grade(\"q4a1\");"
   ]
  },
  {
   "cell_type": "markdown",
   "metadata": {
    "nbgrader": {
     "grade": false,
     "grade_id": "annex-zip",
     "locked": true,
     "schema_version": 2,
     "solution": false
    }
   },
   "source": [
    "As a somewhat contrived exercise in data manipulation, let's try to identify which ZIP codes are missing the most longitude values."
   ]
  },
  {
   "cell_type": "markdown",
   "metadata": {
    "nbgrader": {
     "grade": false,
     "grade_id": "cell-22502e4e3bc97a90",
     "locked": true,
     "schema_version": 2,
     "solution": false
    }
   },
   "source": [
    "Throughout problems 4a and 4b, let's focus on only the \"dense\" ZIP codes of the city of San Francisco, listed below as `sf_dense_zip`."
   ]
  },
  {
   "cell_type": "code",
   "execution_count": 39,
   "metadata": {
    "ExecuteTime": {
     "end_time": "2018-08-18T01:21:54.153495Z",
     "start_time": "2018-08-18T01:21:54.145177Z"
    },
    "nbgrader": {
     "grade": false,
     "grade_id": "annex-zip-codes",
     "locked": true,
     "schema_version": 2,
     "solution": false
    }
   },
   "outputs": [],
   "source": [
    "sf_dense_zip = [\"94102\", \"94103\", \"94104\", \"94105\", \"94107\", \"94108\",\n",
    "                \"94109\", \"94110\", \"94111\", \"94112\", \"94114\", \"94115\",\n",
    "                \"94116\", \"94117\", \"94118\", \"94121\", \"94122\", \"94123\", \n",
    "                \"94124\", \"94127\", \"94131\", \"94132\", \"94133\", \"94134\"]"
   ]
  },
  {
   "cell_type": "markdown",
   "metadata": {
    "deletable": false,
    "editable": false,
    "nbgrader": {
     "grade": false,
     "grade_id": "cell-04deef019a758f65",
     "locked": true,
     "schema_version": 2,
     "solution": false
    }
   },
   "source": [
    "In the cell below, create a series where the index is `postal_code_5`, and the value is the number of businesses with missing longitudes in that ZIP code. Your series should be in descending order (the values should be in descending order). The first two rows of your answer should include postal code 94103 and 94110. Only businesses from `sf_dense_zip` should be included. \n",
    "\n",
    "*Hint*: Start by making a new dataframe called `bus_sf` that only has businesses from `sf_dense_zip`.\n",
    "\n",
    "*Hint*: Use `len` or `sum` to find out the output number.\n",
    "\n",
    "*Hint*: Create a custom function to compute the number of null entries in a series, and use this function with the `agg` method.\n",
    "<!--\n",
    "BEGIN QUESTION\n",
    "name: q4a2\n",
    "points: 1\n",
    "-->"
   ]
  },
  {
   "cell_type": "code",
   "execution_count": 40,
   "metadata": {
    "nbgrader": {
     "grade": false,
     "grade_id": "cell-acf341c6f3ee2e77",
     "locked": false,
     "schema_version": 2,
     "solution": true
    }
   },
   "outputs": [
    {
     "data": {
      "text/html": [
       "<div>\n",
       "<style scoped>\n",
       "    .dataframe tbody tr th:only-of-type {\n",
       "        vertical-align: middle;\n",
       "    }\n",
       "\n",
       "    .dataframe tbody tr th {\n",
       "        vertical-align: top;\n",
       "    }\n",
       "\n",
       "    .dataframe thead th {\n",
       "        text-align: right;\n",
       "    }\n",
       "</style>\n",
       "<table border=\"1\" class=\"dataframe\">\n",
       "  <thead>\n",
       "    <tr style=\"text-align: right;\">\n",
       "      <th></th>\n",
       "      <th>longitude</th>\n",
       "    </tr>\n",
       "    <tr>\n",
       "      <th>postal_code_5</th>\n",
       "      <th></th>\n",
       "    </tr>\n",
       "  </thead>\n",
       "  <tbody>\n",
       "    <tr>\n",
       "      <th>94110</th>\n",
       "      <td>294.0</td>\n",
       "    </tr>\n",
       "    <tr>\n",
       "      <th>94103</th>\n",
       "      <td>285.0</td>\n",
       "    </tr>\n",
       "    <tr>\n",
       "      <th>94107</th>\n",
       "      <td>275.0</td>\n",
       "    </tr>\n",
       "    <tr>\n",
       "      <th>94102</th>\n",
       "      <td>222.0</td>\n",
       "    </tr>\n",
       "    <tr>\n",
       "      <th>94109</th>\n",
       "      <td>171.0</td>\n",
       "    </tr>\n",
       "  </tbody>\n",
       "</table>\n",
       "</div>"
      ],
      "text/plain": [
       "               longitude\n",
       "postal_code_5           \n",
       "94110              294.0\n",
       "94103              285.0\n",
       "94107              275.0\n",
       "94102              222.0\n",
       "94109              171.0"
      ]
     },
     "execution_count": 40,
     "metadata": {},
     "output_type": "execute_result"
    }
   ],
   "source": [
    "bus_sf = bus[bus['postal_code_5'].isin(sf_dense_zip)]\n",
    "num_missing_in_each_zip = bus_sf.loc[:, ['postal_code_5', 'longitude']]\n",
    "num_missing_in_each_zip =num_missing_in_each_zip.groupby('postal_code_5').agg(lambda x: sum(x.isnull()))\n",
    "num_missing_in_each_zip =num_missing_in_each_zip.sort_values('longitude', ascending=False)\n",
    "num_missing_in_each_zip.head()"
   ]
  },
  {
   "cell_type": "code",
   "execution_count": 43,
   "metadata": {
    "deletable": false,
    "editable": false
   },
   "outputs": [
    {
     "name": "stdout",
     "output_type": "stream",
     "text": [
      "~~~~~~~~~~~~~~~~~~~~~~~~~~~~~~~~~~~~~~~~~~~~~~~~~~~~~~~~~~~~~~~~~~~~~\n",
      "Running tests\n",
      "\n",
      "---------------------------------------------------------------------\n",
      "Test summary\n",
      "    Passed: 1\n",
      "    Failed: 0\n",
      "[ooooooooook] 100.0% passed\n",
      "\n"
     ]
    }
   ],
   "source": [
    "ok.grade(\"q4a2\");"
   ]
  },
  {
   "cell_type": "markdown",
   "metadata": {
    "deletable": false,
    "editable": false,
    "nbgrader": {
     "grade": false,
     "grade_id": "q4b",
     "locked": true,
     "schema_version": 2,
     "solution": false
    }
   },
   "source": [
    "### Question 4b\n",
    "\n",
    "In question 4a, we counted the number of null values per ZIP code. Reminder: we still only use the zip codes found in `sf_dense_zip`. Let's now count the proportion of null values of longitudinal coordinates.\n",
    "\n",
    "Create a new dataframe of counts of the null and proportion of null values, storing the result in `fraction_missing_df`. It should have an index called `postal_code_5` and should also have 3 columns:\n",
    "\n",
    "1. `count null`: The number of missing values for the zip code.\n",
    "2. `count non null`: The number of present values for the zip code.\n",
    "3. `fraction null`: The fraction of values that are null for the zip code.\n",
    "\n",
    "Your data frame should be sorted by the fraction null in descending order. The first two rows of your answer should include postal code 94107 and 94124.\n",
    "\n",
    "Recommended approach: Build three series with the appropriate names and data and then combine them into a dataframe. This will require some new syntax you may not have seen.\n",
    "\n",
    "To pursue this recommended approach, you might find these two functions useful and you aren't required to use these two:\n",
    "\n",
    "* `rename`: Renames the values of a series.\n",
    "* `pd.concat`: Can be used to combine a list of Series into a dataframe. Example: `pd.concat([s1, s2, s3], axis=1)` will combine series 1, 2, and 3 into a dataframe. Be careful about `axis=1`. \n",
    "\n",
    "*Hint*: You can use the divison operator to compute the ratio of two series.\n",
    "\n",
    "*Hint*: The `~` operator can invert a boolean array. Or alternately, the `notnull` method can be used to create a boolean array from a series.\n",
    "\n",
    "*Note*: An alternate approach is to create three aggregation functions and pass them in a list to the `agg` function.\n",
    "<!--\n",
    "BEGIN QUESTION\n",
    "name: q4b\n",
    "points: 3\n",
    "-->"
   ]
  },
  {
   "cell_type": "code",
   "execution_count": 45,
   "metadata": {
    "nbgrader": {
     "grade": false,
     "grade_id": "q4b-answer",
     "locked": false,
     "schema_version": 2,
     "solution": true
    }
   },
   "outputs": [
    {
     "data": {
      "text/html": [
       "<div>\n",
       "<style scoped>\n",
       "    .dataframe tbody tr th:only-of-type {\n",
       "        vertical-align: middle;\n",
       "    }\n",
       "\n",
       "    .dataframe tbody tr th {\n",
       "        vertical-align: top;\n",
       "    }\n",
       "\n",
       "    .dataframe thead th {\n",
       "        text-align: right;\n",
       "    }\n",
       "</style>\n",
       "<table border=\"1\" class=\"dataframe\">\n",
       "  <thead>\n",
       "    <tr style=\"text-align: right;\">\n",
       "      <th></th>\n",
       "      <th>count non null</th>\n",
       "      <th>count null</th>\n",
       "      <th>fraction null</th>\n",
       "    </tr>\n",
       "    <tr>\n",
       "      <th>postal_code_5</th>\n",
       "      <th></th>\n",
       "      <th></th>\n",
       "      <th></th>\n",
       "    </tr>\n",
       "  </thead>\n",
       "  <tbody>\n",
       "    <tr>\n",
       "      <th>94102</th>\n",
       "      <td>241.0</td>\n",
       "      <td>222.0</td>\n",
       "      <td>0.479482</td>\n",
       "    </tr>\n",
       "    <tr>\n",
       "      <th>94103</th>\n",
       "      <td>268.0</td>\n",
       "      <td>285.0</td>\n",
       "      <td>0.515371</td>\n",
       "    </tr>\n",
       "    <tr>\n",
       "      <th>94104</th>\n",
       "      <td>60.0</td>\n",
       "      <td>79.0</td>\n",
       "      <td>0.568345</td>\n",
       "    </tr>\n",
       "    <tr>\n",
       "      <th>94105</th>\n",
       "      <td>105.0</td>\n",
       "      <td>127.0</td>\n",
       "      <td>0.547414</td>\n",
       "    </tr>\n",
       "    <tr>\n",
       "      <th>94107</th>\n",
       "      <td>185.0</td>\n",
       "      <td>275.0</td>\n",
       "      <td>0.597826</td>\n",
       "    </tr>\n",
       "  </tbody>\n",
       "</table>\n",
       "</div>"
      ],
      "text/plain": [
       "               count non null  count null  fraction null\n",
       "postal_code_5                                           \n",
       "94102                   241.0       222.0       0.479482\n",
       "94103                   268.0       285.0       0.515371\n",
       "94104                    60.0        79.0       0.568345\n",
       "94105                   105.0       127.0       0.547414\n",
       "94107                   185.0       275.0       0.597826"
      ]
     },
     "execution_count": 45,
     "metadata": {},
     "output_type": "execute_result"
    }
   ],
   "source": [
    "fraction_missing_df = bus_sf.loc[:, ['postal_code_5', 'longitude']]\n",
    "fraction_missing_df = fraction_missing_df.groupby('postal_code_5').agg([lambda x: sum(x.notnull()),lambda x: sum(x.isnull()),lambda x: sum(x.isnull())/len(x)])\n",
    "fraction_missing_df.columns = ['count non null', 'count null', 'fraction null']\n",
    "\n",
    "fraction_missing_df.head()"
   ]
  },
  {
   "cell_type": "code",
   "execution_count": 46,
   "metadata": {
    "deletable": false,
    "editable": false
   },
   "outputs": [
    {
     "name": "stdout",
     "output_type": "stream",
     "text": [
      "~~~~~~~~~~~~~~~~~~~~~~~~~~~~~~~~~~~~~~~~~~~~~~~~~~~~~~~~~~~~~~~~~~~~~\n",
      "Running tests\n",
      "\n",
      "---------------------------------------------------------------------\n",
      "Test summary\n",
      "    Passed: 2\n",
      "    Failed: 0\n",
      "[ooooooooook] 100.0% passed\n",
      "\n"
     ]
    }
   ],
   "source": [
    "ok.grade(\"q4b\");"
   ]
  },
  {
   "cell_type": "markdown",
   "metadata": {
    "nbgrader": {
     "grade": false,
     "grade_id": "summary-business",
     "locked": true,
     "schema_version": 2,
     "solution": false
    }
   },
   "source": [
    "## Summary of the Business Data\n",
    "\n",
    "Before we move on to explore the other data, let's take stock of what we have learned and the implications of our findings on future analysis. \n",
    "\n",
    "* We found that the business id is unique across records and so we may be able to use it as a key in joining tables. \n",
    "* We found that there are some errors with the ZIP codes. As a result, we dropped the records with ZIP codes outside of San Francisco or ones that were missing. In practive, however, we could take the time to look up the restaurant address online and fix these errors.   \n",
    "* We found that there are a huge number of missing longitude (and latitude) values. Fixing would require a lot of work, but could in principle be automated for records with well-formed addresses. "
   ]
  },
  {
   "cell_type": "markdown",
   "metadata": {
    "nbgrader": {
     "grade": false,
     "grade_id": "q5a",
     "locked": true,
     "schema_version": 2,
     "solution": false
    }
   },
   "source": [
    "---\n",
    "## 5: Investigate the Inspection Data\n",
    "\n",
    "Let's now turn to the inspection DataFrame. Earlier, we found that `ins` has 4 columns named `business_id`, `score`, `date` and `type`.  In this section, we determine the granularity of `ins` and investigate the kinds of information provided for the inspections. "
   ]
  },
  {
   "cell_type": "markdown",
   "metadata": {
    "nbgrader": {
     "grade": false,
     "grade_id": "cell-174ed23c543ad9da",
     "locked": true,
     "schema_version": 2,
     "solution": false
    }
   },
   "source": [
    "Let's start by looking again at the first 5 rows of `ins` to see what we're working with."
   ]
  },
  {
   "cell_type": "code",
   "execution_count": 47,
   "metadata": {
    "nbgrader": {
     "grade": false,
     "grade_id": "cell-f0fbe724a2783e33",
     "locked": true,
     "schema_version": 2,
     "solution": false
    }
   },
   "outputs": [
    {
     "data": {
      "text/html": [
       "<div>\n",
       "<style scoped>\n",
       "    .dataframe tbody tr th:only-of-type {\n",
       "        vertical-align: middle;\n",
       "    }\n",
       "\n",
       "    .dataframe tbody tr th {\n",
       "        vertical-align: top;\n",
       "    }\n",
       "\n",
       "    .dataframe thead th {\n",
       "        text-align: right;\n",
       "    }\n",
       "</style>\n",
       "<table border=\"1\" class=\"dataframe\">\n",
       "  <thead>\n",
       "    <tr style=\"text-align: right;\">\n",
       "      <th></th>\n",
       "      <th>business_id</th>\n",
       "      <th>score</th>\n",
       "      <th>date</th>\n",
       "      <th>type</th>\n",
       "    </tr>\n",
       "  </thead>\n",
       "  <tbody>\n",
       "    <tr>\n",
       "      <th>0</th>\n",
       "      <td>19</td>\n",
       "      <td>94</td>\n",
       "      <td>20160513</td>\n",
       "      <td>routine</td>\n",
       "    </tr>\n",
       "    <tr>\n",
       "      <th>1</th>\n",
       "      <td>19</td>\n",
       "      <td>94</td>\n",
       "      <td>20171211</td>\n",
       "      <td>routine</td>\n",
       "    </tr>\n",
       "    <tr>\n",
       "      <th>2</th>\n",
       "      <td>24</td>\n",
       "      <td>98</td>\n",
       "      <td>20171101</td>\n",
       "      <td>routine</td>\n",
       "    </tr>\n",
       "    <tr>\n",
       "      <th>3</th>\n",
       "      <td>24</td>\n",
       "      <td>98</td>\n",
       "      <td>20161005</td>\n",
       "      <td>routine</td>\n",
       "    </tr>\n",
       "    <tr>\n",
       "      <th>4</th>\n",
       "      <td>24</td>\n",
       "      <td>96</td>\n",
       "      <td>20160311</td>\n",
       "      <td>routine</td>\n",
       "    </tr>\n",
       "  </tbody>\n",
       "</table>\n",
       "</div>"
      ],
      "text/plain": [
       "   business_id  score      date     type\n",
       "0           19     94  20160513  routine\n",
       "1           19     94  20171211  routine\n",
       "2           24     98  20171101  routine\n",
       "3           24     98  20161005  routine\n",
       "4           24     96  20160311  routine"
      ]
     },
     "execution_count": 47,
     "metadata": {},
     "output_type": "execute_result"
    }
   ],
   "source": [
    "ins.head(5)"
   ]
  },
  {
   "cell_type": "markdown",
   "metadata": {
    "deletable": false,
    "editable": false,
    "nbgrader": {
     "grade": false,
     "grade_id": "cell-84f5d3684c7b6a66",
     "locked": true,
     "schema_version": 2,
     "solution": false
    }
   },
   "source": [
    "### Question 5a\n",
    "From calling `head`, we know that each row in this table corresponds to a single inspection. Let's get a sense of the total number of inspections conducted, as well as the total number of unique businesses that occur in the dataset.\n",
    "<!--\n",
    "BEGIN QUESTION\n",
    "name: q5a\n",
    "points: 1\n",
    "-->"
   ]
  },
  {
   "cell_type": "code",
   "execution_count": 48,
   "metadata": {
    "ExecuteTime": {
     "end_time": "2018-08-18T01:21:54.210570Z",
     "start_time": "2018-08-18T01:21:54.206688Z"
    },
    "nbgrader": {
     "grade": false,
     "grade_id": "q5a-answer",
     "locked": false,
     "schema_version": 2,
     "solution": true
    },
    "tags": [
     "student"
    ]
   },
   "outputs": [],
   "source": [
    "# The number of rows in ins\n",
    "rows_in_table  = len(ins)\n",
    "\n",
    "# The number of unique business IDs in ins.\n",
    "unique_ins_ids = len(ins['business_id'].unique())"
   ]
  },
  {
   "cell_type": "code",
   "execution_count": 49,
   "metadata": {
    "deletable": false,
    "editable": false
   },
   "outputs": [
    {
     "name": "stdout",
     "output_type": "stream",
     "text": [
      "~~~~~~~~~~~~~~~~~~~~~~~~~~~~~~~~~~~~~~~~~~~~~~~~~~~~~~~~~~~~~~~~~~~~~\n",
      "Running tests\n",
      "\n",
      "---------------------------------------------------------------------\n",
      "Test summary\n",
      "    Passed: 2\n",
      "    Failed: 0\n",
      "[ooooooooook] 100.0% passed\n",
      "\n"
     ]
    }
   ],
   "source": [
    "ok.grade(\"q5a\");"
   ]
  },
  {
   "cell_type": "code",
   "execution_count": 50,
   "metadata": {},
   "outputs": [
    {
     "data": {
      "text/plain": [
       "array(['routine', 'complaint'], dtype=object)"
      ]
     },
     "execution_count": 50,
     "metadata": {},
     "output_type": "execute_result"
    }
   ],
   "source": [
    "ins['type'].unique()"
   ]
  },
  {
   "cell_type": "code",
   "execution_count": 51,
   "metadata": {},
   "outputs": [
    {
     "data": {
      "text/plain": [
       "(14221, 1)"
      ]
     },
     "execution_count": 51,
     "metadata": {},
     "output_type": "execute_result"
    }
   ],
   "source": [
    "sum(ins['type']=='routine'), sum(ins['type']=='complaint')"
   ]
  },
  {
   "cell_type": "markdown",
   "metadata": {
    "deletable": false,
    "editable": false,
    "nbgrader": {
     "grade": false,
     "grade_id": "q5b",
     "locked": true,
     "schema_version": 2,
     "solution": false
    }
   },
   "source": [
    "### Question 5b\n",
    "\n",
    "Next, let us examine the Series in the `ins` dataframe called `type`. From examining the first few rows of `ins`, we see that `type` takes string value, one of which is `'routine'`, presumably for a routine inspection. What other values does the inspection `type` take? How many occurrences of each value is in `ins`? What can we tell about these values? Can we use them for further analysis? If so, how?\n",
    "\n",
    "<!--\n",
    "BEGIN QUESTION\n",
    "name: q5b\n",
    "points: 1\n",
    "manual: True\n",
    "-->\n",
    "<!-- EXPORT TO PDF -->"
   ]
  },
  {
   "cell_type": "markdown",
   "metadata": {
    "ExecuteTime": {
     "end_time": "2018-08-18T01:21:54.233970Z",
     "start_time": "2018-08-18T01:21:54.222908Z"
    },
    "nbgrader": {
     "grade": true,
     "grade_id": "q5b-answer",
     "locked": false,
     "points": 1,
     "schema_version": 2,
     "solution": true
    },
    "tags": [
     "student",
     "written"
    ]
   },
   "source": [
    "From the cell above, we see that the other values that the inspection `type` takes is \"complaint\". There are 14221 ocurrences of \"routine\" types and 1 occurence of the \"complaint\" type. We do not have too much information about the 'complaint' type because we only have one observation for it. We could compare the types to the scores to see if theres a relationship, and this could help us further our analysis."
   ]
  },
  {
   "cell_type": "code",
   "execution_count": 52,
   "metadata": {},
   "outputs": [
    {
     "data": {
      "text/html": [
       "<div>\n",
       "<style scoped>\n",
       "    .dataframe tbody tr th:only-of-type {\n",
       "        vertical-align: middle;\n",
       "    }\n",
       "\n",
       "    .dataframe tbody tr th {\n",
       "        vertical-align: top;\n",
       "    }\n",
       "\n",
       "    .dataframe thead th {\n",
       "        text-align: right;\n",
       "    }\n",
       "</style>\n",
       "<table border=\"1\" class=\"dataframe\">\n",
       "  <thead>\n",
       "    <tr style=\"text-align: right;\">\n",
       "      <th></th>\n",
       "      <th>business_id</th>\n",
       "      <th>score</th>\n",
       "      <th>date</th>\n",
       "      <th>type</th>\n",
       "    </tr>\n",
       "  </thead>\n",
       "  <tbody>\n",
       "    <tr>\n",
       "      <th>13341</th>\n",
       "      <td>87440</td>\n",
       "      <td>100</td>\n",
       "      <td>20160801</td>\n",
       "      <td>complaint</td>\n",
       "    </tr>\n",
       "  </tbody>\n",
       "</table>\n",
       "</div>"
      ],
      "text/plain": [
       "       business_id  score      date       type\n",
       "13341        87440    100  20160801  complaint"
      ]
     },
     "execution_count": 52,
     "metadata": {},
     "output_type": "execute_result"
    }
   ],
   "source": [
    "ins[ins['type'] == 'complaint']"
   ]
  },
  {
   "cell_type": "markdown",
   "metadata": {
    "nbgrader": {
     "grade": false,
     "grade_id": "q5c",
     "locked": true,
     "schema_version": 2,
     "solution": false
    }
   },
   "source": [
    "### Question 5c\n",
    "\n",
    "In this question, we're going to try to figure out what years the data span. The dates in our file are formatted as strings such as `20160503`, which are a little tricky to interpret. The ideal solution for this problem is to modify our dates so that they are in an appropriate format for analysis. \n",
    "\n",
    "In the cell below, we attempt to add a new column to `ins` called `new_date` which contains the `date` stored as a datetime object. This calls the `pd.to_datetime` method, which converts a series of string representations of dates (and/or times) to a series containing a datetime object."
   ]
  },
  {
   "cell_type": "code",
   "execution_count": 53,
   "metadata": {
    "nbgrader": {
     "grade": false,
     "grade_id": "cell-ef5885d023fc290e",
     "locked": true,
     "schema_version": 2,
     "solution": false
    },
    "scrolled": true
   },
   "outputs": [
    {
     "data": {
      "text/html": [
       "<div>\n",
       "<style scoped>\n",
       "    .dataframe tbody tr th:only-of-type {\n",
       "        vertical-align: middle;\n",
       "    }\n",
       "\n",
       "    .dataframe tbody tr th {\n",
       "        vertical-align: top;\n",
       "    }\n",
       "\n",
       "    .dataframe thead th {\n",
       "        text-align: right;\n",
       "    }\n",
       "</style>\n",
       "<table border=\"1\" class=\"dataframe\">\n",
       "  <thead>\n",
       "    <tr style=\"text-align: right;\">\n",
       "      <th></th>\n",
       "      <th>business_id</th>\n",
       "      <th>score</th>\n",
       "      <th>date</th>\n",
       "      <th>type</th>\n",
       "      <th>new_date</th>\n",
       "    </tr>\n",
       "  </thead>\n",
       "  <tbody>\n",
       "    <tr>\n",
       "      <th>0</th>\n",
       "      <td>19</td>\n",
       "      <td>94</td>\n",
       "      <td>20160513</td>\n",
       "      <td>routine</td>\n",
       "      <td>1970-01-01 00:00:00.020160513</td>\n",
       "    </tr>\n",
       "    <tr>\n",
       "      <th>1</th>\n",
       "      <td>19</td>\n",
       "      <td>94</td>\n",
       "      <td>20171211</td>\n",
       "      <td>routine</td>\n",
       "      <td>1970-01-01 00:00:00.020171211</td>\n",
       "    </tr>\n",
       "    <tr>\n",
       "      <th>2</th>\n",
       "      <td>24</td>\n",
       "      <td>98</td>\n",
       "      <td>20171101</td>\n",
       "      <td>routine</td>\n",
       "      <td>1970-01-01 00:00:00.020171101</td>\n",
       "    </tr>\n",
       "    <tr>\n",
       "      <th>3</th>\n",
       "      <td>24</td>\n",
       "      <td>98</td>\n",
       "      <td>20161005</td>\n",
       "      <td>routine</td>\n",
       "      <td>1970-01-01 00:00:00.020161005</td>\n",
       "    </tr>\n",
       "    <tr>\n",
       "      <th>4</th>\n",
       "      <td>24</td>\n",
       "      <td>96</td>\n",
       "      <td>20160311</td>\n",
       "      <td>routine</td>\n",
       "      <td>1970-01-01 00:00:00.020160311</td>\n",
       "    </tr>\n",
       "  </tbody>\n",
       "</table>\n",
       "</div>"
      ],
      "text/plain": [
       "   business_id  score      date     type                      new_date\n",
       "0           19     94  20160513  routine 1970-01-01 00:00:00.020160513\n",
       "1           19     94  20171211  routine 1970-01-01 00:00:00.020171211\n",
       "2           24     98  20171101  routine 1970-01-01 00:00:00.020171101\n",
       "3           24     98  20161005  routine 1970-01-01 00:00:00.020161005\n",
       "4           24     96  20160311  routine 1970-01-01 00:00:00.020160311"
      ]
     },
     "execution_count": 53,
     "metadata": {},
     "output_type": "execute_result"
    }
   ],
   "source": [
    "ins['new_date'] = pd.to_datetime(ins['date'])\n",
    "ins.head(5)"
   ]
  },
  {
   "cell_type": "markdown",
   "metadata": {
    "nbgrader": {
     "grade": false,
     "grade_id": "cell-d48dfa6ba214c40f",
     "locked": true,
     "schema_version": 2,
     "solution": false
    }
   },
   "source": [
    "As you'll see, the resulting `new_date` column doesn't make any sense. This is because the default behavior of the `to_datetime()` method does not properly process the passed string. We can fix this by telling `to_datetime` how to do its job by providing a format string."
   ]
  },
  {
   "cell_type": "code",
   "execution_count": 54,
   "metadata": {
    "nbgrader": {
     "grade": false,
     "grade_id": "cell-574b120d333a379d",
     "locked": true,
     "schema_version": 2,
     "solution": false
    },
    "scrolled": true
   },
   "outputs": [
    {
     "data": {
      "text/html": [
       "<div>\n",
       "<style scoped>\n",
       "    .dataframe tbody tr th:only-of-type {\n",
       "        vertical-align: middle;\n",
       "    }\n",
       "\n",
       "    .dataframe tbody tr th {\n",
       "        vertical-align: top;\n",
       "    }\n",
       "\n",
       "    .dataframe thead th {\n",
       "        text-align: right;\n",
       "    }\n",
       "</style>\n",
       "<table border=\"1\" class=\"dataframe\">\n",
       "  <thead>\n",
       "    <tr style=\"text-align: right;\">\n",
       "      <th></th>\n",
       "      <th>business_id</th>\n",
       "      <th>score</th>\n",
       "      <th>date</th>\n",
       "      <th>type</th>\n",
       "      <th>new_date</th>\n",
       "    </tr>\n",
       "  </thead>\n",
       "  <tbody>\n",
       "    <tr>\n",
       "      <th>0</th>\n",
       "      <td>19</td>\n",
       "      <td>94</td>\n",
       "      <td>20160513</td>\n",
       "      <td>routine</td>\n",
       "      <td>2016-05-13</td>\n",
       "    </tr>\n",
       "    <tr>\n",
       "      <th>1</th>\n",
       "      <td>19</td>\n",
       "      <td>94</td>\n",
       "      <td>20171211</td>\n",
       "      <td>routine</td>\n",
       "      <td>2017-12-11</td>\n",
       "    </tr>\n",
       "    <tr>\n",
       "      <th>2</th>\n",
       "      <td>24</td>\n",
       "      <td>98</td>\n",
       "      <td>20171101</td>\n",
       "      <td>routine</td>\n",
       "      <td>2017-11-01</td>\n",
       "    </tr>\n",
       "    <tr>\n",
       "      <th>3</th>\n",
       "      <td>24</td>\n",
       "      <td>98</td>\n",
       "      <td>20161005</td>\n",
       "      <td>routine</td>\n",
       "      <td>2016-10-05</td>\n",
       "    </tr>\n",
       "    <tr>\n",
       "      <th>4</th>\n",
       "      <td>24</td>\n",
       "      <td>96</td>\n",
       "      <td>20160311</td>\n",
       "      <td>routine</td>\n",
       "      <td>2016-03-11</td>\n",
       "    </tr>\n",
       "  </tbody>\n",
       "</table>\n",
       "</div>"
      ],
      "text/plain": [
       "   business_id  score      date     type   new_date\n",
       "0           19     94  20160513  routine 2016-05-13\n",
       "1           19     94  20171211  routine 2017-12-11\n",
       "2           24     98  20171101  routine 2017-11-01\n",
       "3           24     98  20161005  routine 2016-10-05\n",
       "4           24     96  20160311  routine 2016-03-11"
      ]
     },
     "execution_count": 54,
     "metadata": {},
     "output_type": "execute_result"
    }
   ],
   "source": [
    "ins['new_date'] = pd.to_datetime(ins['date'], format='%Y%m%d')\n",
    "ins.head(5)"
   ]
  },
  {
   "cell_type": "markdown",
   "metadata": {
    "nbgrader": {
     "grade": false,
     "grade_id": "cell-1e743520b4c12c5e",
     "locked": true,
     "schema_version": 2,
     "solution": false
    }
   },
   "source": [
    "This is still not ideal for our analysis, so we'll add one more column that is just equal to the year by using the `dt.year` property of the new series we just created."
   ]
  },
  {
   "cell_type": "code",
   "execution_count": 55,
   "metadata": {
    "nbgrader": {
     "grade": false,
     "grade_id": "cell-e64451846eeb632e",
     "locked": true,
     "schema_version": 2,
     "solution": false
    },
    "scrolled": true
   },
   "outputs": [
    {
     "data": {
      "text/html": [
       "<div>\n",
       "<style scoped>\n",
       "    .dataframe tbody tr th:only-of-type {\n",
       "        vertical-align: middle;\n",
       "    }\n",
       "\n",
       "    .dataframe tbody tr th {\n",
       "        vertical-align: top;\n",
       "    }\n",
       "\n",
       "    .dataframe thead th {\n",
       "        text-align: right;\n",
       "    }\n",
       "</style>\n",
       "<table border=\"1\" class=\"dataframe\">\n",
       "  <thead>\n",
       "    <tr style=\"text-align: right;\">\n",
       "      <th></th>\n",
       "      <th>business_id</th>\n",
       "      <th>score</th>\n",
       "      <th>date</th>\n",
       "      <th>type</th>\n",
       "      <th>new_date</th>\n",
       "      <th>year</th>\n",
       "    </tr>\n",
       "  </thead>\n",
       "  <tbody>\n",
       "    <tr>\n",
       "      <th>0</th>\n",
       "      <td>19</td>\n",
       "      <td>94</td>\n",
       "      <td>20160513</td>\n",
       "      <td>routine</td>\n",
       "      <td>2016-05-13</td>\n",
       "      <td>2016</td>\n",
       "    </tr>\n",
       "    <tr>\n",
       "      <th>1</th>\n",
       "      <td>19</td>\n",
       "      <td>94</td>\n",
       "      <td>20171211</td>\n",
       "      <td>routine</td>\n",
       "      <td>2017-12-11</td>\n",
       "      <td>2017</td>\n",
       "    </tr>\n",
       "    <tr>\n",
       "      <th>2</th>\n",
       "      <td>24</td>\n",
       "      <td>98</td>\n",
       "      <td>20171101</td>\n",
       "      <td>routine</td>\n",
       "      <td>2017-11-01</td>\n",
       "      <td>2017</td>\n",
       "    </tr>\n",
       "    <tr>\n",
       "      <th>3</th>\n",
       "      <td>24</td>\n",
       "      <td>98</td>\n",
       "      <td>20161005</td>\n",
       "      <td>routine</td>\n",
       "      <td>2016-10-05</td>\n",
       "      <td>2016</td>\n",
       "    </tr>\n",
       "    <tr>\n",
       "      <th>4</th>\n",
       "      <td>24</td>\n",
       "      <td>96</td>\n",
       "      <td>20160311</td>\n",
       "      <td>routine</td>\n",
       "      <td>2016-03-11</td>\n",
       "      <td>2016</td>\n",
       "    </tr>\n",
       "  </tbody>\n",
       "</table>\n",
       "</div>"
      ],
      "text/plain": [
       "   business_id  score      date     type   new_date  year\n",
       "0           19     94  20160513  routine 2016-05-13  2016\n",
       "1           19     94  20171211  routine 2017-12-11  2017\n",
       "2           24     98  20171101  routine 2017-11-01  2017\n",
       "3           24     98  20161005  routine 2016-10-05  2016\n",
       "4           24     96  20160311  routine 2016-03-11  2016"
      ]
     },
     "execution_count": 55,
     "metadata": {},
     "output_type": "execute_result"
    }
   ],
   "source": [
    "ins['year'] = ins['new_date'].dt.year\n",
    "ins.head(5)"
   ]
  },
  {
   "cell_type": "markdown",
   "metadata": {
    "deletable": false,
    "editable": false,
    "nbgrader": {
     "grade": false,
     "grade_id": "q5d",
     "locked": true,
     "schema_version": 2,
     "solution": false
    },
    "tags": [
     "written"
    ]
   },
   "source": [
    "Now that we have this handy `year` column, we can try to understand our data better.\n",
    "\n",
    "What range of years is covered in this data set? Are there roughly the same number of inspections each year? Provide your answer in text only in the markdown cell below. If you would like show your reasoning with codes, make sure you put your code cells **below** the markdown answer cell. \n",
    "\n",
    "<!--\n",
    "BEGIN QUESTION\n",
    "name: q5c\n",
    "points: 1\n",
    "manual: True\n",
    "-->\n",
    "<!-- EXPORT TO PDF -->"
   ]
  },
  {
   "cell_type": "markdown",
   "metadata": {
    "ExecuteTime": {
     "end_time": "2018-08-18T01:21:54.296957Z",
     "start_time": "2018-08-18T01:21:54.289662Z"
    },
    "nbgrader": {
     "grade": true,
     "grade_id": "q5c-answer",
     "locked": false,
     "points": 1,
     "schema_version": 2,
     "solution": true
    },
    "tags": [
     "student",
     "written"
    ]
   },
   "source": [
    "The range of years covered in this datset span from 2015 to 2018. The are roughly  the same number of inspections in 2016 and 2017 (~5000), 3305 inspections in 2015, and only 308 inspections in 2018."
   ]
  },
  {
   "cell_type": "code",
   "execution_count": 56,
   "metadata": {},
   "outputs": [
    {
     "data": {
      "text/plain": [
       "2016    5443\n",
       "2017    5166\n",
       "2015    3305\n",
       "2018     308\n",
       "Name: year, dtype: int64"
      ]
     },
     "execution_count": 56,
     "metadata": {},
     "output_type": "execute_result"
    }
   ],
   "source": [
    "ins['year'].value_counts()"
   ]
  },
  {
   "cell_type": "markdown",
   "metadata": {
    "nbgrader": {
     "grade": false,
     "grade_id": "q6a",
     "locked": true,
     "schema_version": 2,
     "solution": false
    }
   },
   "source": [
    "---\n",
    "## 6: Explore Inspection Scores"
   ]
  },
  {
   "cell_type": "markdown",
   "metadata": {
    "deletable": false,
    "editable": false,
    "nbgrader": {
     "grade": false,
     "grade_id": "inspections-focus",
     "locked": true,
     "schema_version": 2,
     "solution": false
    }
   },
   "source": [
    "### Question 6a\n",
    "Let's look at the distribution of inspection scores. As we saw before when we called `head` on this data frame, inspection scores appear to be integer values. The discreteness of this variable means that we can use a barplot to visualize the distribution of the inspection score. Make a bar plot of the counts of the number of inspections receiving each score. \n",
    "\n",
    "It should look like the image below. It does not need to look exactly the same (e.g., no grid), but make sure that all labels and axes are correct.\n",
    "\n",
    "You might find this [matplotlib.pyplot tutorial](http://data100.datahub.berkeley.edu/hub/user-redirect/git-sync?repo=https://github.com/DS-100/fa19&subPath=extra/pyplot.ipynb) useful. Key syntax that you'll need:\n",
    " + `plt.bar`\n",
    " + `plt.xlabel`\n",
    " + `plt.ylabel`\n",
    " + `plt.title`\n",
    "\n",
    "*Note*: If you want to use another plotting library for your plots (e.g. `plotly`, `sns`) you are welcome to use that library instead so long as it works on DataHub. If you use seaborn `sns.countplot()`, you may need to manually set what to display on xticks. \n",
    "\n",
    "<img src=\"q6a.png\" width=500>\n",
    "\n",
    "<!--\n",
    "BEGIN QUESTION\n",
    "name: q6a\n",
    "points: 2\n",
    "manual: True\n",
    "-->\n",
    "<!-- EXPORT TO PDF -->"
   ]
  },
  {
   "cell_type": "code",
   "execution_count": 57,
   "metadata": {
    "ExecuteTime": {
     "end_time": "2018-08-18T01:21:54.309085Z",
     "start_time": "2018-08-18T01:21:54.299128Z"
    },
    "nbgrader": {
     "grade": true,
     "grade_id": "inspections-focus-code",
     "locked": false,
     "points": 2,
     "schema_version": 2,
     "solution": true
    },
    "scrolled": true
   },
   "outputs": [
    {
     "data": {
      "text/plain": [
       "Text(0.5, 1.0, 'Distribution of Inspection Scores')"
      ]
     },
     "execution_count": 57,
     "metadata": {},
     "output_type": "execute_result"
    },
    {
     "data": {
      "image/png": "[encoded data removed]",
      "text/plain": [
       "<Figure size 432x288 with 1 Axes>"
      ]
     },
     "metadata": {
      "needs_background": "light"
     },
     "output_type": "display_data"
    }
   ],
   "source": [
    "score_count = ins['score'].value_counts()\n",
    "plt.bar(score_count.keys(), score_count)\n",
    "plt.xlabel(\"Score\")\n",
    "plt.ylabel(\"Count\")\n",
    "plt.title(\"Distribution of Inspection Scores\")"
   ]
  },
  {
   "cell_type": "markdown",
   "metadata": {
    "deletable": false,
    "editable": false,
    "nbgrader": {
     "grade": false,
     "grade_id": "q6b",
     "locked": true,
     "schema_version": 2,
     "solution": false
    },
    "tags": [
     "written"
    ]
   },
   "source": [
    "### Question 6b\n",
    "\n",
    "Describe the qualities of the distribution of the inspections scores based on your bar plot. Consider the mode(s), symmetry, tails, gaps, and anamolous values. Are there any unusual features of this distribution? What do your observations imply about the scores?\n",
    "\n",
    "<!--\n",
    "BEGIN QUESTION\n",
    "name: q6b\n",
    "points: 3\n",
    "manual: True\n",
    "-->\n",
    "<!-- EXPORT TO PDF -->"
   ]
  },
  {
   "cell_type": "markdown",
   "metadata": {
    "ExecuteTime": {
     "end_time": "2018-08-18T01:21:54.514679Z",
     "start_time": "2018-08-18T01:21:54.511225Z"
    },
    "nbgrader": {
     "grade": true,
     "grade_id": "q6b-answer",
     "locked": false,
     "points": 3,
     "schema_version": 2,
     "solution": true
    },
    "tags": [
     "student",
     "written"
    ]
   },
   "source": [
    "The distribution has a long left tail, and thus it is left skewed. The mode of the data is 2301, with a score of 100. There aren't really any unusual features of this distribution. Our observation implies that high scores are very frequent and that the most frequent score is 100."
   ]
  },
  {
   "cell_type": "markdown",
   "metadata": {
    "nbgrader": {
     "grade": false,
     "grade_id": "cell-5015c9badefcef07",
     "locked": true,
     "schema_version": 2,
     "solution": false
    }
   },
   "source": [
    "### Question 6c"
   ]
  },
  {
   "cell_type": "markdown",
   "metadata": {
    "deletable": false,
    "editable": false,
    "nbgrader": {
     "grade": false,
     "grade_id": "cell-c84c79731d73d13c",
     "locked": true,
     "schema_version": 2,
     "solution": false
    }
   },
   "source": [
    "Let's figure out which restaurants had the worst scores ever (single lowest score). Let's start by creating a new dataframe called `ins_named`. It should be exactly the same as `ins`, except that it should have the name and address of every business, as determined by the `bus` dataframe. If a `business_id` in `ins` does not exist in `bus`, the name and address should be given as NaN.\n",
    "\n",
    "*Hint*: Use the merge method to join the `ins` dataframe with the appropriate portion of the `bus` dataframe. See the official [documentation](https://pandas.pydata.org/pandas-docs/stable/user_guide/merging.html) on how to use `merge`.\n",
    "\n",
    "*Note*: For quick reference, a pandas 'left' join keeps the keys from the left frame, so if ins is the left frame, all the keys from ins are kept and if a set of these keys don't have matches in the other frame, the columns from the other frame for these \"unmatched\" key rows contains NaNs.\n",
    "\n",
    "<!--\n",
    "BEGIN QUESTION\n",
    "name: q6c1\n",
    "points: 1\n",
    "-->"
   ]
  },
  {
   "cell_type": "code",
   "execution_count": 58,
   "metadata": {
    "nbgrader": {
     "grade": false,
     "grade_id": "cell-74ff1f795567e724",
     "locked": false,
     "schema_version": 2,
     "solution": true
    }
   },
   "outputs": [
    {
     "data": {
      "text/html": [
       "<div>\n",
       "<style scoped>\n",
       "    .dataframe tbody tr th:only-of-type {\n",
       "        vertical-align: middle;\n",
       "    }\n",
       "\n",
       "    .dataframe tbody tr th {\n",
       "        vertical-align: top;\n",
       "    }\n",
       "\n",
       "    .dataframe thead th {\n",
       "        text-align: right;\n",
       "    }\n",
       "</style>\n",
       "<table border=\"1\" class=\"dataframe\">\n",
       "  <thead>\n",
       "    <tr style=\"text-align: right;\">\n",
       "      <th></th>\n",
       "      <th>business_id</th>\n",
       "      <th>score</th>\n",
       "      <th>date</th>\n",
       "      <th>type</th>\n",
       "      <th>new_date</th>\n",
       "      <th>year</th>\n",
       "      <th>name</th>\n",
       "      <th>address</th>\n",
       "    </tr>\n",
       "  </thead>\n",
       "  <tbody>\n",
       "    <tr>\n",
       "      <th>0</th>\n",
       "      <td>19</td>\n",
       "      <td>94</td>\n",
       "      <td>20160513</td>\n",
       "      <td>routine</td>\n",
       "      <td>2016-05-13</td>\n",
       "      <td>2016</td>\n",
       "      <td>NRGIZE LIFESTYLE CAFE</td>\n",
       "      <td>1200 VAN NESS AVE, 3RD FLOOR</td>\n",
       "    </tr>\n",
       "    <tr>\n",
       "      <th>1</th>\n",
       "      <td>19</td>\n",
       "      <td>94</td>\n",
       "      <td>20171211</td>\n",
       "      <td>routine</td>\n",
       "      <td>2017-12-11</td>\n",
       "      <td>2017</td>\n",
       "      <td>NRGIZE LIFESTYLE CAFE</td>\n",
       "      <td>1200 VAN NESS AVE, 3RD FLOOR</td>\n",
       "    </tr>\n",
       "    <tr>\n",
       "      <th>2</th>\n",
       "      <td>24</td>\n",
       "      <td>98</td>\n",
       "      <td>20171101</td>\n",
       "      <td>routine</td>\n",
       "      <td>2017-11-01</td>\n",
       "      <td>2017</td>\n",
       "      <td>OMNI S.F. HOTEL - 2ND FLOOR PANTRY</td>\n",
       "      <td>500 CALIFORNIA ST, 2ND  FLOOR</td>\n",
       "    </tr>\n",
       "    <tr>\n",
       "      <th>3</th>\n",
       "      <td>24</td>\n",
       "      <td>98</td>\n",
       "      <td>20161005</td>\n",
       "      <td>routine</td>\n",
       "      <td>2016-10-05</td>\n",
       "      <td>2016</td>\n",
       "      <td>OMNI S.F. HOTEL - 2ND FLOOR PANTRY</td>\n",
       "      <td>500 CALIFORNIA ST, 2ND  FLOOR</td>\n",
       "    </tr>\n",
       "    <tr>\n",
       "      <th>4</th>\n",
       "      <td>24</td>\n",
       "      <td>96</td>\n",
       "      <td>20160311</td>\n",
       "      <td>routine</td>\n",
       "      <td>2016-03-11</td>\n",
       "      <td>2016</td>\n",
       "      <td>OMNI S.F. HOTEL - 2ND FLOOR PANTRY</td>\n",
       "      <td>500 CALIFORNIA ST, 2ND  FLOOR</td>\n",
       "    </tr>\n",
       "  </tbody>\n",
       "</table>\n",
       "</div>"
      ],
      "text/plain": [
       "   business_id  score      date     type   new_date  year  \\\n",
       "0           19     94  20160513  routine 2016-05-13  2016   \n",
       "1           19     94  20171211  routine 2017-12-11  2017   \n",
       "2           24     98  20171101  routine 2017-11-01  2017   \n",
       "3           24     98  20161005  routine 2016-10-05  2016   \n",
       "4           24     96  20160311  routine 2016-03-11  2016   \n",
       "\n",
       "                                 name                        address  \n",
       "0               NRGIZE LIFESTYLE CAFE   1200 VAN NESS AVE, 3RD FLOOR  \n",
       "1               NRGIZE LIFESTYLE CAFE   1200 VAN NESS AVE, 3RD FLOOR  \n",
       "2  OMNI S.F. HOTEL - 2ND FLOOR PANTRY  500 CALIFORNIA ST, 2ND  FLOOR  \n",
       "3  OMNI S.F. HOTEL - 2ND FLOOR PANTRY  500 CALIFORNIA ST, 2ND  FLOOR  \n",
       "4  OMNI S.F. HOTEL - 2ND FLOOR PANTRY  500 CALIFORNIA ST, 2ND  FLOOR  "
      ]
     },
     "execution_count": 58,
     "metadata": {},
     "output_type": "execute_result"
    }
   ],
   "source": [
    "temp_bus = bus.loc[:, ['business_id', 'name', 'address']]\n",
    "ins_named = pd.merge(left=ins, right=temp_bus, how='left')\n",
    "ins_named.head()"
   ]
  },
  {
   "cell_type": "code",
   "execution_count": 59,
   "metadata": {
    "deletable": false,
    "editable": false
   },
   "outputs": [
    {
     "name": "stdout",
     "output_type": "stream",
     "text": [
      "~~~~~~~~~~~~~~~~~~~~~~~~~~~~~~~~~~~~~~~~~~~~~~~~~~~~~~~~~~~~~~~~~~~~~\n",
      "Running tests\n",
      "\n",
      "---------------------------------------------------------------------\n",
      "Test summary\n",
      "    Passed: 3\n",
      "    Failed: 0\n",
      "[ooooooooook] 100.0% passed\n",
      "\n"
     ]
    }
   ],
   "source": [
    "ok.grade(\"q6c1\");"
   ]
  },
  {
   "cell_type": "markdown",
   "metadata": {
    "deletable": false,
    "editable": false,
    "nbgrader": {
     "grade": false,
     "grade_id": "cell-21208e1c9459aaa7",
     "locked": true,
     "schema_version": 2,
     "solution": false
    }
   },
   "source": [
    "Using this data frame, identify the restaurant with the lowest inspection scores ever. Head to yelp.com and look up the reviews page for this restaurant. Copy and paste anything interesting you want to share.\n",
    "\n",
    "<!--\n",
    "BEGIN QUESTION\n",
    "name: q6c2\n",
    "points: 2\n",
    "manual: True\n",
    "-->\n",
    "<!-- EXPORT TO PDF -->"
   ]
  },
  {
   "cell_type": "markdown",
   "metadata": {
    "nbgrader": {
     "grade": true,
     "grade_id": "cell-ffca1dd2365b327b",
     "locked": false,
     "points": 3,
     "schema_version": 2,
     "solution": true
    }
   },
   "source": [
    "The restaurant with the lowest score is DA CAFE. I was expecting very negative reviews on yelp but the reviews were actually pretty positive. Shown is a copy and paste from one users review. \"Solid 4star hole in the style Chinese food...come for the 3 item dinner, don't expect great service but expect good food and fast\""
   ]
  },
  {
   "cell_type": "code",
   "execution_count": 60,
   "metadata": {},
   "outputs": [
    {
     "data": {
      "text/html": [
       "<div>\n",
       "<style scoped>\n",
       "    .dataframe tbody tr th:only-of-type {\n",
       "        vertical-align: middle;\n",
       "    }\n",
       "\n",
       "    .dataframe tbody tr th {\n",
       "        vertical-align: top;\n",
       "    }\n",
       "\n",
       "    .dataframe thead th {\n",
       "        text-align: right;\n",
       "    }\n",
       "</style>\n",
       "<table border=\"1\" class=\"dataframe\">\n",
       "  <thead>\n",
       "    <tr style=\"text-align: right;\">\n",
       "      <th></th>\n",
       "      <th>business_id</th>\n",
       "      <th>score</th>\n",
       "      <th>date</th>\n",
       "      <th>type</th>\n",
       "      <th>new_date</th>\n",
       "      <th>year</th>\n",
       "      <th>name</th>\n",
       "      <th>address</th>\n",
       "    </tr>\n",
       "  </thead>\n",
       "  <tbody>\n",
       "    <tr>\n",
       "      <th>13179</th>\n",
       "      <td>86647</td>\n",
       "      <td>48</td>\n",
       "      <td>20160907</td>\n",
       "      <td>routine</td>\n",
       "      <td>2016-09-07</td>\n",
       "      <td>2016</td>\n",
       "      <td>DA CAFE</td>\n",
       "      <td>407 CLEMENT ST</td>\n",
       "    </tr>\n",
       "    <tr>\n",
       "      <th>9476</th>\n",
       "      <td>71373</td>\n",
       "      <td>52</td>\n",
       "      <td>20161031</td>\n",
       "      <td>routine</td>\n",
       "      <td>2016-10-31</td>\n",
       "      <td>2016</td>\n",
       "      <td>GOLDEN RIVER RESTAURANT</td>\n",
       "      <td>5827 GEARY BLVD</td>\n",
       "    </tr>\n",
       "    <tr>\n",
       "      <th>8885</th>\n",
       "      <td>69199</td>\n",
       "      <td>53</td>\n",
       "      <td>20170127</td>\n",
       "      <td>routine</td>\n",
       "      <td>2017-01-27</td>\n",
       "      <td>2017</td>\n",
       "      <td>MEHFIL INDIAN RESTAURANT</td>\n",
       "      <td>28 02ND ST</td>\n",
       "    </tr>\n",
       "    <tr>\n",
       "      <th>7104</th>\n",
       "      <td>61436</td>\n",
       "      <td>54</td>\n",
       "      <td>20150706</td>\n",
       "      <td>routine</td>\n",
       "      <td>2015-07-06</td>\n",
       "      <td>2015</td>\n",
       "      <td>OZONE THAI RESTAURANT AND LOUNGE</td>\n",
       "      <td>598 02ND ST</td>\n",
       "    </tr>\n",
       "    <tr>\n",
       "      <th>2192</th>\n",
       "      <td>3459</td>\n",
       "      <td>54</td>\n",
       "      <td>20150407</td>\n",
       "      <td>routine</td>\n",
       "      <td>2015-04-07</td>\n",
       "      <td>2015</td>\n",
       "      <td>BASIL THAI RESTAURANT &amp; BAR</td>\n",
       "      <td>1175 FOLSOM ST</td>\n",
       "    </tr>\n",
       "    <tr>\n",
       "      <th>...</th>\n",
       "      <td>...</td>\n",
       "      <td>...</td>\n",
       "      <td>...</td>\n",
       "      <td>...</td>\n",
       "      <td>...</td>\n",
       "      <td>...</td>\n",
       "      <td>...</td>\n",
       "      <td>...</td>\n",
       "    </tr>\n",
       "    <tr>\n",
       "      <th>3872</th>\n",
       "      <td>5829</td>\n",
       "      <td>100</td>\n",
       "      <td>20150911</td>\n",
       "      <td>routine</td>\n",
       "      <td>2015-09-11</td>\n",
       "      <td>2015</td>\n",
       "      <td>LAFAYETTE ELEMENTARY SCHOOL</td>\n",
       "      <td>4545 ANZA ST</td>\n",
       "    </tr>\n",
       "    <tr>\n",
       "      <th>2413</th>\n",
       "      <td>3796</td>\n",
       "      <td>100</td>\n",
       "      <td>20150304</td>\n",
       "      <td>routine</td>\n",
       "      <td>2015-03-04</td>\n",
       "      <td>2015</td>\n",
       "      <td>JOHNNY FOLEY'S IRISH HOUSE</td>\n",
       "      <td>243 O'FARRELL ST</td>\n",
       "    </tr>\n",
       "    <tr>\n",
       "      <th>11212</th>\n",
       "      <td>79750</td>\n",
       "      <td>100</td>\n",
       "      <td>20170217</td>\n",
       "      <td>routine</td>\n",
       "      <td>2017-02-17</td>\n",
       "      <td>2017</td>\n",
       "      <td>SIMPLY DELISH LLC</td>\n",
       "      <td>5668 03RD ST</td>\n",
       "    </tr>\n",
       "    <tr>\n",
       "      <th>11188</th>\n",
       "      <td>79607</td>\n",
       "      <td>100</td>\n",
       "      <td>20170325</td>\n",
       "      <td>routine</td>\n",
       "      <td>2017-03-25</td>\n",
       "      <td>2017</td>\n",
       "      <td>TAQUERIA ANGELICA'S #2</td>\n",
       "      <td>OFF THE GRID</td>\n",
       "    </tr>\n",
       "    <tr>\n",
       "      <th>6202</th>\n",
       "      <td>36396</td>\n",
       "      <td>100</td>\n",
       "      <td>20160912</td>\n",
       "      <td>routine</td>\n",
       "      <td>2016-09-12</td>\n",
       "      <td>2016</td>\n",
       "      <td>WESTERN SUNSET MARKET</td>\n",
       "      <td>4099 JUDAH ST</td>\n",
       "    </tr>\n",
       "  </tbody>\n",
       "</table>\n",
       "<p>14222 rows × 8 columns</p>\n",
       "</div>"
      ],
      "text/plain": [
       "       business_id  score      date     type   new_date  year  \\\n",
       "13179        86647     48  20160907  routine 2016-09-07  2016   \n",
       "9476         71373     52  20161031  routine 2016-10-31  2016   \n",
       "8885         69199     53  20170127  routine 2017-01-27  2017   \n",
       "7104         61436     54  20150706  routine 2015-07-06  2015   \n",
       "2192          3459     54  20150407  routine 2015-04-07  2015   \n",
       "...            ...    ...       ...      ...        ...   ...   \n",
       "3872          5829    100  20150911  routine 2015-09-11  2015   \n",
       "2413          3796    100  20150304  routine 2015-03-04  2015   \n",
       "11212        79750    100  20170217  routine 2017-02-17  2017   \n",
       "11188        79607    100  20170325  routine 2017-03-25  2017   \n",
       "6202         36396    100  20160912  routine 2016-09-12  2016   \n",
       "\n",
       "                                   name            address  \n",
       "13179                           DA CAFE    407 CLEMENT ST   \n",
       "9476            GOLDEN RIVER RESTAURANT   5827 GEARY BLVD   \n",
       "8885           MEHFIL INDIAN RESTAURANT        28 02ND ST   \n",
       "7104   OZONE THAI RESTAURANT AND LOUNGE       598 02ND ST   \n",
       "2192        BASIL THAI RESTAURANT & BAR    1175 FOLSOM ST   \n",
       "...                                 ...                ...  \n",
       "3872        LAFAYETTE ELEMENTARY SCHOOL      4545 ANZA ST   \n",
       "2413         JOHNNY FOLEY'S IRISH HOUSE  243 O'FARRELL ST   \n",
       "11212                 SIMPLY DELISH LLC      5668 03RD ST   \n",
       "11188            TAQUERIA ANGELICA'S #2     OFF THE GRID    \n",
       "6202              WESTERN SUNSET MARKET     4099 JUDAH ST   \n",
       "\n",
       "[14222 rows x 8 columns]"
      ]
     },
     "execution_count": 60,
     "metadata": {},
     "output_type": "execute_result"
    }
   ],
   "source": [
    "ins_named.sort_values('score')"
   ]
  },
  {
   "cell_type": "markdown",
   "metadata": {
    "nbgrader": {
     "grade": false,
     "grade_id": "cell-ac6ea7361824a936",
     "locked": true,
     "schema_version": 2,
     "solution": false
    }
   },
   "source": [
    "Just for fun you can also look up the restaurants with the best scores. You'll see that lots of them aren't restaurants at all!"
   ]
  },
  {
   "cell_type": "markdown",
   "metadata": {
    "nbgrader": {
     "grade": false,
     "grade_id": "cell-22a0a8f7f74f431a",
     "locked": true,
     "schema_version": 2,
     "solution": false
    }
   },
   "source": [
    "---\n",
    "## 7: Restaurant Ratings Over Time"
   ]
  },
  {
   "cell_type": "markdown",
   "metadata": {
    "nbgrader": {
     "grade": false,
     "grade_id": "cell-aa4959b7d3bcd9d7",
     "locked": true,
     "schema_version": 2,
     "solution": false
    }
   },
   "source": [
    "Let's consider various scenarios involving restaurants with multiple ratings over time."
   ]
  },
  {
   "cell_type": "markdown",
   "metadata": {
    "nbgrader": {
     "grade": false,
     "grade_id": "cell-2ccb9a66fca2becd",
     "locked": true,
     "schema_version": 2,
     "solution": false
    }
   },
   "source": [
    "### Question 7a"
   ]
  },
  {
   "cell_type": "markdown",
   "metadata": {
    "deletable": false,
    "editable": false,
    "nbgrader": {
     "grade": false,
     "grade_id": "cell-2331831e448277ce",
     "locked": true,
     "schema_version": 2,
     "solution": false
    }
   },
   "source": [
    "Let's see which restaurant has had the most extreme improvement in its rating, aka scores. Let the \"swing\" of a restaurant be defined as the difference between its highest-ever and lowest-ever rating. **Only consider restaurants with at least 3 ratings, aka rated for at least 3 times (3 scores)!** Using whatever technique you want to use, assign `max_swing` to the name of restaurant that has the maximum swing.\n",
    "\n",
    "*Note*: The \"swing\" is of a specific business. There might be some restaurants with multiple locations; each location has its own \"swing\".\n",
    "\n",
    "<!--\n",
    "BEGIN QUESTION\n",
    "name: q7a1\n",
    "points: 2\n",
    "-->"
   ]
  },
  {
   "cell_type": "code",
   "execution_count": 61,
   "metadata": {},
   "outputs": [
    {
     "data": {
      "text/plain": [
       "\"JOANIE'S DINER INC.\""
      ]
     },
     "execution_count": 61,
     "metadata": {},
     "output_type": "execute_result"
    }
   ],
   "source": [
    "max_swing = ins_named.loc[:, ['business_id','score']].groupby('business_id').agg(lambda x: max(x)-min(x) if len(x) >= 3 else 0)\n",
    "max_swing = max_swing.sort_values('score', ascending=False)\n",
    "max_swing = ins_named[ins_named['business_id']==max_swing.index[0]]['name']\n",
    "max_swing = max_swing.iloc[0]\n",
    "max_swing"
   ]
  },
  {
   "cell_type": "code",
   "execution_count": 62,
   "metadata": {
    "deletable": false,
    "editable": false
   },
   "outputs": [
    {
     "name": "stdout",
     "output_type": "stream",
     "text": [
      "~~~~~~~~~~~~~~~~~~~~~~~~~~~~~~~~~~~~~~~~~~~~~~~~~~~~~~~~~~~~~~~~~~~~~\n",
      "Running tests\n",
      "\n",
      "---------------------------------------------------------------------\n",
      "Test summary\n",
      "    Passed: 1\n",
      "    Failed: 0\n",
      "[ooooooooook] 100.0% passed\n",
      "\n"
     ]
    }
   ],
   "source": [
    "ok.grade(\"q7a1\");"
   ]
  },
  {
   "cell_type": "markdown",
   "metadata": {
    "deletable": false,
    "editable": false,
    "nbgrader": {
     "grade": false,
     "grade_id": "cell-9a9b4b1f7bb3370b",
     "locked": true,
     "schema_version": 2,
     "solution": false
    }
   },
   "source": [
    "### Question 7b\n",
    "\n",
    "To get a sense of the number of times each restaurant has been inspected, create a multi-indexed dataframe called `inspections_by_id_and_year` where each row corresponds to data about a given business in a single year, and there is a single data column named `count` that represents the number of inspections for that business in that year. The first index in the MultiIndex should be on `business_id`, and the second should be on `year`.\n",
    "\n",
    "An example row in this dataframe might look tell you that business_id is 573, year is 2017, and count is 4.\n",
    "\n",
    "*Hint*: Use groupby to group based on both the `business_id` and the `year`.\n",
    "\n",
    "*Hint*: Use rename to change the name of the column to `count`.\n",
    "\n",
    "<!--\n",
    "BEGIN QUESTION\n",
    "name: q7b\n",
    "points: 2\n",
    "-->"
   ]
  },
  {
   "cell_type": "code",
   "execution_count": 63,
   "metadata": {
    "nbgrader": {
     "grade": false,
     "grade_id": "cell-4fc0d1651b6e1c59",
     "locked": false,
     "schema_version": 2,
     "solution": true
    }
   },
   "outputs": [
    {
     "data": {
      "text/html": [
       "<div>\n",
       "<style scoped>\n",
       "    .dataframe tbody tr th:only-of-type {\n",
       "        vertical-align: middle;\n",
       "    }\n",
       "\n",
       "    .dataframe tbody tr th {\n",
       "        vertical-align: top;\n",
       "    }\n",
       "\n",
       "    .dataframe thead th {\n",
       "        text-align: right;\n",
       "    }\n",
       "</style>\n",
       "<table border=\"1\" class=\"dataframe\">\n",
       "  <thead>\n",
       "    <tr style=\"text-align: right;\">\n",
       "      <th></th>\n",
       "      <th></th>\n",
       "      <th>count</th>\n",
       "    </tr>\n",
       "    <tr>\n",
       "      <th>business_id</th>\n",
       "      <th>year</th>\n",
       "      <th></th>\n",
       "    </tr>\n",
       "  </thead>\n",
       "  <tbody>\n",
       "    <tr>\n",
       "      <th rowspan=\"2\" valign=\"top\">19</th>\n",
       "      <th>2016</th>\n",
       "      <td>1</td>\n",
       "    </tr>\n",
       "    <tr>\n",
       "      <th>2017</th>\n",
       "      <td>1</td>\n",
       "    </tr>\n",
       "    <tr>\n",
       "      <th rowspan=\"2\" valign=\"top\">24</th>\n",
       "      <th>2016</th>\n",
       "      <td>2</td>\n",
       "    </tr>\n",
       "    <tr>\n",
       "      <th>2017</th>\n",
       "      <td>1</td>\n",
       "    </tr>\n",
       "    <tr>\n",
       "      <th>31</th>\n",
       "      <th>2015</th>\n",
       "      <td>1</td>\n",
       "    </tr>\n",
       "  </tbody>\n",
       "</table>\n",
       "</div>"
      ],
      "text/plain": [
       "                  count\n",
       "business_id year       \n",
       "19          2016      1\n",
       "            2017      1\n",
       "24          2016      2\n",
       "            2017      1\n",
       "31          2015      1"
      ]
     },
     "execution_count": 63,
     "metadata": {},
     "output_type": "execute_result"
    }
   ],
   "source": [
    "inspections_by_id_and_year = ins.loc[:, ['business_id', 'year', 'score']].groupby(['business_id', 'year'])\n",
    "inspections_by_id_and_year =inspections_by_id_and_year.size()\n",
    "inspections_by_id_and_year =inspections_by_id_and_year.rename('count').to_frame()\n",
    "inspections_by_id_and_year.head()"
   ]
  },
  {
   "cell_type": "code",
   "execution_count": 64,
   "metadata": {
    "deletable": false,
    "editable": false
   },
   "outputs": [
    {
     "name": "stdout",
     "output_type": "stream",
     "text": [
      "~~~~~~~~~~~~~~~~~~~~~~~~~~~~~~~~~~~~~~~~~~~~~~~~~~~~~~~~~~~~~~~~~~~~~\n",
      "Running tests\n",
      "\n",
      "---------------------------------------------------------------------\n",
      "Test summary\n",
      "    Passed: 2\n",
      "    Failed: 0\n",
      "[ooooooooook] 100.0% passed\n",
      "\n"
     ]
    }
   ],
   "source": [
    "ok.grade(\"q7b\");"
   ]
  },
  {
   "cell_type": "markdown",
   "metadata": {
    "nbgrader": {
     "grade": false,
     "grade_id": "cell-bea99093d7cad880",
     "locked": true,
     "schema_version": 2,
     "solution": false
    }
   },
   "source": [
    "You should see that some businesses are inspected many times in a single year. Let's get a sense of the distribution of the counts of the number of inspections by calling `value_counts`. There are quite a lot of businesses with 2 inspections in the same year, so it seems like it might be interesting to see what we can learn from such businesses."
   ]
  },
  {
   "cell_type": "code",
   "execution_count": 65,
   "metadata": {
    "nbgrader": {
     "grade": false,
     "grade_id": "cell-7389be51062a967b",
     "locked": true,
     "schema_version": 2,
     "solution": false
    },
    "scrolled": true
   },
   "outputs": [
    {
     "data": {
      "text/plain": [
       "1    9531\n",
       "2    2175\n",
       "3     111\n",
       "4       2\n",
       "Name: count, dtype: int64"
      ]
     },
     "execution_count": 65,
     "metadata": {},
     "output_type": "execute_result"
    }
   ],
   "source": [
    "inspections_by_id_and_year['count'].value_counts()"
   ]
  },
  {
   "cell_type": "markdown",
   "metadata": {
    "deletable": false,
    "editable": false,
    "nbgrader": {
     "grade": false,
     "grade_id": "q7c",
     "locked": true,
     "schema_version": 2,
     "solution": false
    }
   },
   "source": [
    "### Question 7c\n",
    "\n",
    "What's the relationship between the first and second scores for the businesses with 2 inspections in a year? Do they typically improve? For simplicity, let's focus on only 2016 for this problem, using `ins2016` data frame that will be created for you below. \n",
    "\n",
    "First, make a dataframe called `scores_pairs_by_business` indexed by `business_id` (containing only businesses with exactly 2 inspections in 2016).  This dataframe contains the field `score_pair` consisting of the score pairs **ordered chronologically**  `[first_score, second_score]`. \n",
    "\n",
    "Plot these scores. That is, make a scatter plot to display these pairs of scores. Include on the plot a reference line with slope 1. \n",
    "\n",
    "You may find the functions `sort_values`, `groupby`, `filter` and `agg` helpful, though not all necessary. \n",
    "\n",
    "The first few rows of the resulting table should look something like:\n",
    "\n",
    "<table border=\"1\" class=\"dataframe\">\n",
    "  <thead>\n",
    "    <tr style=\"text-align: right;\">\n",
    "      <th></th>\n",
    "      <th>score_pair</th>\n",
    "    </tr>\n",
    "    <tr>\n",
    "      <th>business_id</th>\n",
    "      <th></th>\n",
    "    </tr>\n",
    "  </thead>\n",
    "  <tbody>\n",
    "    <tr>\n",
    "      <th>24</th>\n",
    "      <td>[96, 98]</td>\n",
    "    </tr>\n",
    "    <tr>\n",
    "      <th>45</th>\n",
    "      <td>[78, 84]</td>\n",
    "    </tr>\n",
    "    <tr>\n",
    "      <th>66</th>\n",
    "      <td>[98, 100]</td>\n",
    "    </tr>\n",
    "    <tr>\n",
    "      <th>67</th>\n",
    "      <td>[87, 94]</td>\n",
    "    </tr>\n",
    "    <tr>\n",
    "      <th>76</th>\n",
    "      <td>[100, 98]</td>\n",
    "    </tr>\n",
    "  </tbody>\n",
    "</table>\n",
    "\n",
    "The scatter plot should look like this:\n",
    "\n",
    "<img src=\"q7c2.png\" width=500>\n",
    "\n",
    "In the cell below, create `scores_pairs_by_business` as described above.\n",
    "\n",
    "*Note: Each score pair must be a list type; numpy arrays will not pass the autograder.*\n",
    "\n",
    "*Hint: Use the `filter` method from lecture 3 to create a new dataframe that only contains restaurants that received exactly 2 inspections.*\n",
    "\n",
    "*Hint: Our code that creates the needed DataFrame is a single line of code that uses `sort_values`, `groupby`, `filter`, `groupby`, `agg`, and `rename` in that order. Your answer does not need to use these exact methods.*\n",
    "\n",
    "<!--\n",
    "BEGIN QUESTION\n",
    "name: q7c1\n",
    "points: 3\n",
    "-->"
   ]
  },
  {
   "cell_type": "code",
   "execution_count": 66,
   "metadata": {
    "ExecuteTime": {
     "end_time": "2018-08-18T01:21:57.055537Z",
     "start_time": "2018-08-18T01:21:54.541279Z"
    },
    "nbgrader": {
     "grade": false,
     "grade_id": "q7c-answer",
     "locked": false,
     "schema_version": 2,
     "solution": true
    },
    "tags": [
     "student"
    ]
   },
   "outputs": [
    {
     "data": {
      "text/html": [
       "<div>\n",
       "<style scoped>\n",
       "    .dataframe tbody tr th:only-of-type {\n",
       "        vertical-align: middle;\n",
       "    }\n",
       "\n",
       "    .dataframe tbody tr th {\n",
       "        vertical-align: top;\n",
       "    }\n",
       "\n",
       "    .dataframe thead th {\n",
       "        text-align: right;\n",
       "    }\n",
       "</style>\n",
       "<table border=\"1\" class=\"dataframe\">\n",
       "  <thead>\n",
       "    <tr style=\"text-align: right;\">\n",
       "      <th></th>\n",
       "      <th>score_pair</th>\n",
       "    </tr>\n",
       "    <tr>\n",
       "      <th>business_id</th>\n",
       "      <th></th>\n",
       "    </tr>\n",
       "  </thead>\n",
       "  <tbody>\n",
       "    <tr>\n",
       "      <th>24</th>\n",
       "      <td>[96, 98]</td>\n",
       "    </tr>\n",
       "    <tr>\n",
       "      <th>45</th>\n",
       "      <td>[78, 84]</td>\n",
       "    </tr>\n",
       "    <tr>\n",
       "      <th>66</th>\n",
       "      <td>[98, 100]</td>\n",
       "    </tr>\n",
       "    <tr>\n",
       "      <th>67</th>\n",
       "      <td>[87, 94]</td>\n",
       "    </tr>\n",
       "    <tr>\n",
       "      <th>76</th>\n",
       "      <td>[100, 98]</td>\n",
       "    </tr>\n",
       "    <tr>\n",
       "      <th>...</th>\n",
       "      <td>...</td>\n",
       "    </tr>\n",
       "    <tr>\n",
       "      <th>87761</th>\n",
       "      <td>[86, 92]</td>\n",
       "    </tr>\n",
       "    <tr>\n",
       "      <th>87802</th>\n",
       "      <td>[91, 98]</td>\n",
       "    </tr>\n",
       "    <tr>\n",
       "      <th>88323</th>\n",
       "      <td>[75, 75]</td>\n",
       "    </tr>\n",
       "    <tr>\n",
       "      <th>88756</th>\n",
       "      <td>[88, 80]</td>\n",
       "    </tr>\n",
       "    <tr>\n",
       "      <th>88792</th>\n",
       "      <td>[100, 96]</td>\n",
       "    </tr>\n",
       "  </tbody>\n",
       "</table>\n",
       "<p>1076 rows × 1 columns</p>\n",
       "</div>"
      ],
      "text/plain": [
       "            score_pair\n",
       "business_id           \n",
       "24            [96, 98]\n",
       "45            [78, 84]\n",
       "66           [98, 100]\n",
       "67            [87, 94]\n",
       "76           [100, 98]\n",
       "...                ...\n",
       "87761         [86, 92]\n",
       "87802         [91, 98]\n",
       "88323         [75, 75]\n",
       "88756         [88, 80]\n",
       "88792        [100, 96]\n",
       "\n",
       "[1076 rows x 1 columns]"
      ]
     },
     "execution_count": 66,
     "metadata": {},
     "output_type": "execute_result"
    }
   ],
   "source": [
    "# Create the dataframe here\n",
    "ins_2016 = ins[ins['year'] == 2016]\n",
    "\n",
    "ins_2016\n",
    "scores_pairs_by_business = ins_2016.sort_values(by='date')\n",
    "scores_pairs_by_business = scores_pairs_by_business.groupby('business_id')\n",
    "scores_pairs_by_business = scores_pairs_by_business.filter(lambda x: len(x) == 2)\n",
    "scores_pairs_by_business = scores_pairs_by_business.groupby('business_id')\n",
    "scores_pairs_by_business = scores_pairs_by_business.agg({\"score\": lambda x: x.tolist()})\n",
    "scores_pairs_by_business = scores_pairs_by_business.rename(columns={'score': 'score_pair'})\n",
    "scores_pairs_by_business"
   ]
  },
  {
   "cell_type": "code",
   "execution_count": 67,
   "metadata": {
    "deletable": false,
    "editable": false
   },
   "outputs": [
    {
     "name": "stdout",
     "output_type": "stream",
     "text": [
      "~~~~~~~~~~~~~~~~~~~~~~~~~~~~~~~~~~~~~~~~~~~~~~~~~~~~~~~~~~~~~~~~~~~~~\n",
      "Running tests\n",
      "\n",
      "---------------------------------------------------------------------\n",
      "Test summary\n",
      "    Passed: 2\n",
      "    Failed: 0\n",
      "[ooooooooook] 100.0% passed\n",
      "\n"
     ]
    }
   ],
   "source": [
    "ok.grade(\"q7c1\");"
   ]
  },
  {
   "cell_type": "markdown",
   "metadata": {
    "deletable": false,
    "editable": false
   },
   "source": [
    "Now, create your scatter plot in the cell below. It does not need to look exactly the same (e.g., no grid) as the above sample, but make sure that all labels, axes and data itself are correct.\n",
    "\n",
    "Key pieces of syntax you'll need:\n",
    " + `plt.scatter` plots a set of points. Use `facecolors='none'` to make circle markers.\n",
    " + `plt.plot` for the reference line.\n",
    " + `plt.xlabel`, `plt.ylabel`, `plt.axis`, and `plt.title`.\n",
    "\n",
    "*Note*: If you want to use another plotting library for your plots (e.g. `plotly`, `sns`) you are welcome to use that library instead so long as it works on DataHub.\n",
    "\n",
    "*Hint*: You may find it convenient to use the `zip()` function to unzip scores in the list.\n",
    "<!--\n",
    "BEGIN QUESTION\n",
    "name: q7c2\n",
    "points: 3\n",
    "manual: True\n",
    "-->\n",
    "<!-- EXPORT TO PDF -->"
   ]
  },
  {
   "cell_type": "code",
   "execution_count": 68,
   "metadata": {
    "ExecuteTime": {
     "end_time": "2018-08-18T01:21:59.555721Z",
     "start_time": "2018-08-18T01:21:59.331772Z"
    },
    "nbgrader": {
     "grade": true,
     "grade_id": "q7c-plot-answer",
     "locked": false,
     "points": 2,
     "schema_version": 2,
     "solution": true
    },
    "tags": [
     "student",
     "written"
    ]
   },
   "outputs": [
    {
     "data": {
      "text/plain": [
       "[<matplotlib.lines.Line2D at 0x7f54ac2ecd68>]"
      ]
     },
     "execution_count": 68,
     "metadata": {},
     "output_type": "execute_result"
    },
    {
     "data": {
      "image/png": "[encoded data removed]",
      "text/plain": [
       "<Figure size 432x288 with 1 Axes>"
      ]
     },
     "metadata": {
      "needs_background": "light"
     },
     "output_type": "display_data"
    }
   ],
   "source": [
    "first_score, second_score = zip(*scores_pairs_by_business['score_pair'])\n",
    "plt.scatter(first_score, second_score, facecolors='none', s=15, edgecolors='b')\n",
    "plt.xlabel(\"First Score\")\n",
    "plt.ylabel(\"Second Score\")\n",
    "plt.title(\"First Inspection Score vs Second Inspection Score\")\n",
    "plt.axis([55, 100, 55, 100])\n",
    "plt.plot([55,100],[55,100],c='r')"
   ]
  },
  {
   "cell_type": "markdown",
   "metadata": {
    "deletable": false,
    "editable": false,
    "nbgrader": {
     "grade": false,
     "grade_id": "q7d",
     "locked": true,
     "schema_version": 2,
     "solution": false
    }
   },
   "source": [
    "### Question 7d\n",
    "\n",
    "Another way to compare the scores from the two inspections is to examine the difference in scores. Subtract the first score from the second in `scores_pairs_by_business`. Make a histogram of these differences in the scores. We might expect these differences to be positive, indicating an improvement from the first to the second inspection.\n",
    "\n",
    "The histogram should look like this:\n",
    "\n",
    "<img src=\"q7d.png\" width=500>\n",
    "\n",
    "*Hint*: Use `second_score` and `first_score` created in the scatter plot code above.\n",
    "\n",
    "*Hint*: Convert the scores into numpy arrays to make them easier to deal with.\n",
    "\n",
    "*Hint*: Use `plt.hist()` Try changing the number of bins when you call `plt.hist()`.\n",
    "\n",
    "<!--\n",
    "BEGIN QUESTION\n",
    "name: q7d\n",
    "points: 2\n",
    "manual: True\n",
    "-->\n",
    "<!-- EXPORT TO PDF -->"
   ]
  },
  {
   "cell_type": "code",
   "execution_count": 216,
   "metadata": {
    "ExecuteTime": {
     "end_time": "2018-08-18T01:21:59.739987Z",
     "start_time": "2018-08-18T01:21:59.558636Z"
    },
    "nbgrader": {
     "grade": true,
     "grade_id": "q7d-answer",
     "locked": false,
     "points": 2,
     "schema_version": 2,
     "solution": true
    },
    "tags": [
     "student",
     "written"
    ]
   },
   "outputs": [
    {
     "data": {
      "text/plain": [
       "Text(0.5, 1.0, 'Distribution of Score Differences')"
      ]
     },
     "execution_count": 216,
     "metadata": {},
     "output_type": "execute_result"
    },
    {
     "data": {
      "image/png": "[encoded data removed]",
      "text/plain": [
       "<Figure size 432x288 with 1 Axes>"
      ]
     },
     "metadata": {
      "needs_background": "light"
     },
     "output_type": "display_data"
    }
   ],
   "source": [
    "plt.hist(np.array(second_score) - np.array(first_score), bins=20)\n",
    "plt.xlabel(\"Score Difference (Second Score - First Score)\")\n",
    "plt.ylabel(\"Count\")\n",
    "plt.title(\"Distribution of Score Differences\")"
   ]
  },
  {
   "cell_type": "markdown",
   "metadata": {
    "deletable": false,
    "editable": false,
    "nbgrader": {
     "grade": false,
     "grade_id": "q7e",
     "locked": true,
     "schema_version": 2,
     "solution": false
    }
   },
   "source": [
    "### Question 7e\n",
    "\n",
    "If a restaurant's score improves from the first to the second inspection, what do you expect to see in the scatter plot that you made in question 7c? What do you see?\n",
    "\n",
    "If a restaurant's score improves from the first to the second inspection, how would this be reflected in the histogram of the difference in the scores that you made in question 7d? What do you see?\n",
    "\n",
    "<!--\n",
    "BEGIN QUESTION\n",
    "name: q7e\n",
    "points: 3\n",
    "manual: True\n",
    "-->\n",
    "<!-- EXPORT TO PDF -->"
   ]
  },
  {
   "cell_type": "markdown",
   "metadata": {
    "ExecuteTime": {
     "end_time": "2018-08-18T01:21:59.749757Z",
     "start_time": "2018-08-18T01:21:59.743534Z"
    },
    "nbgrader": {
     "grade": true,
     "grade_id": "q7e-answer",
     "locked": false,
     "points": 3,
     "schema_version": 2,
     "solution": true
    },
    "tags": [
     "student",
     "written"
    ]
   },
   "source": [
    "If a restaurant's score improves frmo the first to second inspection, we should expect to see a majority of points in the top left of the scatter plot in part c). In our scatter plot, we see that a majority of points are in the top right of the scatter plot. If it fits the linear red line,  then it means that the score doesn't change from the first to second inspection.\n",
    "\n",
    "If a restaurant's score improves from the first to the second inspection, the histogram in 7d) should be right skewed,  where the bar starts on the x axis at the value 0 and moves right. If the score improves, then the x axis should start at 0 and move rightwards."
   ]
  },
  {
   "cell_type": "markdown",
   "metadata": {
    "nbgrader": {
     "grade": false,
     "grade_id": "summary-inspections",
     "locked": true,
     "schema_version": 2,
     "solution": false
    }
   },
   "source": [
    "## Summary of the Inspections Data\n",
    "\n",
    "What we have learned about the inspections data? What might be some next steps in our investigation? \n",
    "\n",
    "* We found that the records are at the inspection level and that we have inspections for multiple years.   \n",
    "* We also found that many restaurants have more than one inspection a year. \n",
    "* By joining the business and inspection data, we identified the name of the restaurant with the worst rating and optionally the names of the restaurants with the best rating.\n",
    "* We identified the restaurant that had the largest swing in rating over time.\n",
    "* We also examined the relationship between the scores when a restaurant has multiple inspections in a year. Our findings were a bit counterintuitive and may warrant further investigation. \n"
   ]
  },
  {
   "cell_type": "markdown",
   "metadata": {
    "nbgrader": {
     "grade": false,
     "grade_id": "read-only",
     "locked": true,
     "schema_version": 2,
     "solution": false
    }
   },
   "source": [
    "## Congratulations!\n",
    "\n",
    "You are finished with Project 1. You'll need to make sure that your PDF exports correctly to receive credit. Run the cell below and follow the instructions."
   ]
  },
  {
   "cell_type": "markdown",
   "metadata": {
    "deletable": false,
    "editable": false
   },
   "source": [
    "# Submit\n",
    "Make sure you have run all cells in your notebook in order before running the cell below, so that all images/graphs appear in the output.\n",
    "**Please save before submitting!**\n",
    "\n",
    "<!-- EXPECT 13 EXPORTED QUESTIONS -->"
   ]
  },
  {
   "cell_type": "code",
   "execution_count": null,
   "metadata": {
    "deletable": false,
    "editable": false
   },
   "outputs": [],
   "source": [
    "# Save your notebook first, then run this cell to submit.\n",
    "import jassign.to_pdf\n",
    "jassign.to_pdf.generate_pdf('proj1.ipynb', 'proj1.pdf')\n",
    "ok.submit()"
   ]
  }
 ],
 "metadata": {
  "celltoolbar": "Create Assignment",
  "kernelspec": {
   "display_name": "Python 3",
   "language": "python",
   "name": "python3"
  },
  "language_info": {
   "codemirror_mode": {
    "name": "ipython",
    "version": 3
   },
   "file_extension": ".py",
   "mimetype": "text/x-python",
   "name": "python",
   "nbconvert_exporter": "python",
   "pygments_lexer": "ipython3",
   "version": "3.7.4"
  }
 },
 "nbformat": 4,
 "nbformat_minor": 2
}
